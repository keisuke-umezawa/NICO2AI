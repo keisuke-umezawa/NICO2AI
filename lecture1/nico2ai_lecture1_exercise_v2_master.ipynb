{
 "cells": [
  {
   "cell_type": "markdown",
   "metadata": {},
   "source": [
    "# NICO2AI  第１回 Python入門 (6/3) 基礎演習\n",
    "## 今日の目標\n",
    "* Pythonのデータ型と各データ型の取り扱い方を覚える。\n",
    "* Pythonで頻出する概念を覚える。\n",
    "* Numpyを用いてベクトル・行列の計算及び操作を記述し、実行できる。\n",
    "* csvファイルを題材として、実データの読み書きができる。\n",
    "\n",
    "## キーワード\n",
    "* Python3\n",
    "* データ型 (int, float, str, bool)\n",
    "* リスト、タプル、辞書\n",
    "* numpy\n",
    "* osモジュール\n",
    "\n",
    "## Jupyter notebookことはじめ\n",
    "コードの編集：各セルをクリックして、その中で直接編集  \n",
    "コードの実行：画面上の再生ボタンをクリックまたはShift+Enter  \n",
    "実行停止：画面上の停止ボタンをクリック  \n",
    "Notebook中のコードをすべて実行：「Cell」→「Run all」\n",
    "何かトラブったら：「Kernel」→「Restart」  \n",
    "\n",
    "## 基礎演習の進め方\n",
    "1. 講師がコードの説明をします\n",
    "2. 講師の指示にしたがって、各セルのコードを実行してください\n",
    "3. 一部のコードは、「エラー例」「参考」用としてコメントアウトされています。必要に応じてコメントアウトを解除して挙動を確かめよう\n",
    "4. \"WRITE ME!\"と書かれている部分は講師の指示とヒントに従いながら自分の手で書いてみましょう"
   ]
  },
  {
   "cell_type": "markdown",
   "metadata": {},
   "source": [
    "# 1. Python3入門\n",
    "今回の講義では、Python3.5を用います。Python2.7系とは若干文法が異なることに注意しましょう。\n",
    "\n",
    "## print文とデータ型"
   ]
  },
  {
   "cell_type": "code",
   "execution_count": 1,
   "metadata": {},
   "outputs": [
    {
     "name": "stdout",
     "output_type": "stream",
     "text": [
      "Hello, World!\n",
      "<class 'int'>\n",
      "<class 'float'>\n",
      "<class 'str'>\n",
      "<class 'bool'>\n"
     ]
    }
   ],
   "source": [
    "print(\"Hello, World!\")\n",
    "\n",
    "# 数字 (整数型)\n",
    "a = 1  \n",
    "print(type(a))  # -> int\n",
    "\n",
    "# 数字 (浮動小数点型)\n",
    "b = 0.555  \n",
    "print(type(b))  # -> float\n",
    "\n",
    "# 文字列\n",
    "c = \"NICO2AI\"  \n",
    "print(type(c))  # -> str\n",
    "\n",
    "# 真偽値\n",
    "d = True\n",
    "print(type(d))  # -> bool"
   ]
  },
  {
   "cell_type": "markdown",
   "metadata": {},
   "source": [
    "## 書式付きprint (フォーマット)"
   ]
  },
  {
   "cell_type": "code",
   "execution_count": 2,
   "metadata": {},
   "outputs": [
    {
     "name": "stdout",
     "output_type": "stream",
     "text": [
      "Hello, NICO2AI!\n",
      "1 + 0.555 is 1.5550000000000002\n",
      "0.56\n",
      "053.05\n",
      " 53.05\n"
     ]
    }
   ],
   "source": [
    "print(\"Hello, {0}!\".format(c))\n",
    "print(\"{0} + {1} is {2}\".format(a, b, a + b))\n",
    "print(\"{:.2f}\".format(b))  # 番号は省略可能、:.2fは小数点2桁目まで表示することを意味\n",
    "\n",
    "print(\"{0:06.2f}\".format(53.055))  # この場合、少数点は2桁目までで、全部で6桁になるように表示 (足りない場合はゼロ埋めする)\n",
    "print(\"{0:6.2f}\".format(53.055))  # この場合、少数点は2桁目までで、全部で6桁になるように表示 (足りない場合はゼロ埋めしない)"
   ]
  },
  {
   "cell_type": "markdown",
   "metadata": {},
   "source": [
    "## 四則演算\n",
    "Pythonでは、特別な注意なく足し算、引き算、掛け算ができる。  \n",
    "ただし、Python3は、標準の割り算( / )では**割り切れる・切れないにかかわらず浮動小数点**を返すことに注意する。  \n",
    "整数を返して欲しい場合、 // を用いる。"
   ]
  },
  {
   "cell_type": "code",
   "execution_count": 3,
   "metadata": {},
   "outputs": [
    {
     "name": "stdout",
     "output_type": "stream",
     "text": [
      "8\n",
      "2\n",
      "30\n",
      "2.5\n",
      "<class 'float'>\n",
      "2.0\n",
      "<class 'float'>\n",
      "2\n",
      "<class 'int'>\n",
      "2\n",
      "<class 'int'>\n",
      "1\n"
     ]
    }
   ],
   "source": [
    "# 足し算\n",
    "print(5 + 3)\n",
    "\n",
    "# 引き算\n",
    "print(5 - 3)\n",
    "\n",
    "# 掛け算\n",
    "print(10 * 3)\n",
    "\n",
    "# 通常の割り算は必ず浮動小数点を返す\n",
    "a = 5 / 2\n",
    "print(a)\n",
    "print(type(a))  # -> float\n",
    "\n",
    "b = 4 / 2\n",
    "print(b)\n",
    "print(type(b))  # -> float\n",
    "\n",
    "# 整数を返して欲しい場合は//を使う\n",
    "c = 5 // 2\n",
    "print(c)\n",
    "print(type(c))  # -> int\n",
    "\n",
    "d = 4 // 2\n",
    "print(d)\n",
    "print(type(d))  # -> int\n",
    "\n",
    "# 剰余演算子 (あまり)\n",
    "print(5 % 2)"
   ]
  },
  {
   "cell_type": "markdown",
   "metadata": {},
   "source": [
    "## if文と比較演算子\n",
    "比較には==, !=, >, >=, <, <=を用いる。ただし、変数がNone(値、中身が存在しないことを示す)かどうかを判定する場合はisを用いる。\n",
    "if文の条件文の最後には必ずコロン(:)をつけ、カッコの代わりに**インデント (半角4文字)**で条件節の中身の処理を記述する。\n",
    "\n",
    "例えば、\n",
    "```\n",
    "if 条件:\n",
    "    print(\"これはif文が真の時のみ実行されるが\")\n",
    "print(\"これはif文の中身とは関係がない\")\n",
    "```\n",
    "\n",
    "### 補足：Noneとの比較について\n",
    "Noneとの比較では、is文の使用が推奨されている。==でも比較可能であるが、次の2つの理由によりis文を使うべきとされている。\n",
    "\n",
    "* is文の方が高速である (http://jaredgrubb.blogspot.jp/2009/04/python-is-none-vs-none.html)\n",
    "* PEP 8 (Pythonの公式スタイルガイド) にてis文の使用が強く推奨されている (https://www.python.org/dev/peps/pep-0008/#programming-recommendations)\n",
    "\n",
    "実際、上記PEP 8では次の様に説明されている：\n",
    "```\n",
    "Comparisons to singletons like None should always be done with is or is not , never the equality operators. \n",
    "```"
   ]
  },
  {
   "cell_type": "code",
   "execution_count": 4,
   "metadata": {},
   "outputs": [
    {
     "name": "stdout",
     "output_type": "stream",
     "text": [
      "a is equal to 5\n",
      "True\n",
      "True\n",
      "True\n",
      "False\n",
      "c is None\n"
     ]
    }
   ],
   "source": [
    "a = 5\n",
    "if a == 5:  # 比較には==を使用\n",
    "    print(\"a is equal to 5\")\n",
    "else:\n",
    "    print(\"a is not equal to 5\")\n",
    "    \n",
    "b = \"banana\"\n",
    "print(b == \"banana\")  # 文字列の比較にも==を使用 True\n",
    "\n",
    "print(5 > 2)  # True\n",
    "print(5 <= 6)  # False\n",
    "print(a != 5)  # False\n",
    "\n",
    "# CAUTION!\n",
    "c = None\n",
    "if c is None:\n",
    "    print(\"c is None\")"
   ]
  },
  {
   "cell_type": "markdown",
   "metadata": {},
   "source": [
    "## for文"
   ]
  },
  {
   "cell_type": "code",
   "execution_count": 5,
   "metadata": {},
   "outputs": [
    {
     "name": "stdout",
     "output_type": "stream",
     "text": [
      "10\n"
     ]
    }
   ],
   "source": [
    "cnt = 0\n",
    "for idx in range(10):\n",
    "    cnt += 1  # cnt = cnt + 1 に同じ\n",
    "print(cnt)"
   ]
  },
  {
   "cell_type": "markdown",
   "metadata": {},
   "source": [
    "## range文\n",
    "range([start], stop, step)：start以上stop**未満**, 刻み幅stepの数列を作成する。  \n",
    "for文と組み合わせる場合が多い。  \n",
    "Python3ではイテレータ(iterator)を返すので、リストとして欲しい場合はlist()で囲う。"
   ]
  },
  {
   "cell_type": "code",
   "execution_count": 6,
   "metadata": {},
   "outputs": [
    {
     "name": "stdout",
     "output_type": "stream",
     "text": [
      "0\n",
      "1\n",
      "2\n",
      "0\n",
      "3\n",
      "6\n",
      "range(0, 5)\n",
      "[0, 1, 2, 3, 4]\n"
     ]
    }
   ],
   "source": [
    "# [0, 1, 2]\n",
    "for i in range(3):\n",
    "    print(i)\n",
    "\n",
    "# [0, 3, 6] (9はない)\n",
    "for j in range(0, 9, 3):\n",
    "    print(j)\n",
    "    \n",
    "a = range(5)\n",
    "print(a)  # Python3ではイテレータが返る\n",
    "print(list(a))  # List"
   ]
  },
  {
   "cell_type": "markdown",
   "metadata": {},
   "source": [
    "## リスト・タプル・辞書\n",
    "Pythonでは、組み込みのデータ構造として\n",
    "* リスト (list)：変更可能なデータ列\n",
    "* タプル (tuple)：変更不可能なデータ列\n",
    "* 辞書 (dict)：キーと値の組み合わせてデータを格納、連想配列\n",
    "の3つのデータ構造を持っている。複数の値を順番に格納・更新する場合はリスト、一度宣言したら更新しない属性 (配列のサイズなど) の格納にはタプル、順番ではなく格納データの種類に意味がある場合・属性名を付けたい場合には辞書を用いる。  \n",
    "  \n",
    "Pythonでは、**0から配列の添字(index)を数える**ことに注意する。  \n",
    "\n",
    "データ構造 (公式)  \n",
    "https://docs.python.jp/3/tutorial/datastructures.html\n",
    "\n",
    "### リスト (list)"
   ]
  },
  {
   "cell_type": "code",
   "execution_count": 7,
   "metadata": {},
   "outputs": [
    {
     "name": "stdout",
     "output_type": "stream",
     "text": [
      "[1]\n",
      "1\n",
      "[1, 2, 3, 4, 5]\n",
      "2\n",
      "[3, 4]\n",
      "[1, 2, 3, 4]\n"
     ]
    }
   ],
   "source": [
    "# リスト\n",
    "sample_list = []  # リストの初期化\n",
    "sample_list.append(1)  # リストの末尾に値を追加\n",
    "print(sample_list)\n",
    "print(len(sample_list))\n",
    "sample_list.extend([2, 3, 4, 5])  # リストの末尾に別のリストを合流\n",
    "print(sample_list)\n",
    "\n",
    "print(sample_list[1])  # 要素にアクセス (添字(index)は0から始まるので、1は2番目の要素を指す)\n",
    "print(sample_list[2:4])  # リストの一部を取り出すことも可能\n",
    "\n",
    "print([1, 2] + [3, 4])  # リストは+演算子で連結可能 (足し算ではない！)"
   ]
  },
  {
   "cell_type": "markdown",
   "metadata": {},
   "source": [
    "### 便利機能：リストの後ろからのアクセス"
   ]
  },
  {
   "cell_type": "code",
   "execution_count": 8,
   "metadata": {},
   "outputs": [
    {
     "name": "stdout",
     "output_type": "stream",
     "text": [
      "[1, 2, 3, 4, 5]\n",
      "5\n",
      "5\n",
      "[2, 3]\n"
     ]
    }
   ],
   "source": [
    "print(sample_list)\n",
    "print(sample_list[len(sample_list)-1])  # 通常、一番後ろの要素にはこうアクセスするが…\n",
    "print(sample_list[-1])  # これだけで書ける！便利！\n",
    "\n",
    "print(sample_list[-4:-2])  # 後ろより2番めより前"
   ]
  },
  {
   "cell_type": "markdown",
   "metadata": {},
   "source": [
    "### タプル (tuple)"
   ]
  },
  {
   "cell_type": "code",
   "execution_count": 9,
   "metadata": {
    "collapsed": true
   },
   "outputs": [],
   "source": [
    "# タプル\n",
    "sample_tuple = (224, 224, 3)\n",
    "\n",
    "# sample_tuple[0] = 192  # 書き換えはできないのでエラー"
   ]
  },
  {
   "cell_type": "markdown",
   "metadata": {},
   "source": [
    "### 辞書 (dict)\n",
    "辞書オブジェクトを宣言には、中括弧{}を用いる。\n",
    "辞書内の各要素は\n",
    "```\n",
    "{\n",
    "    key1: value1,\n",
    "    key2: value2,\n",
    "    ...\n",
    "}\n",
    "```\n",
    "というキー (key)と 値 (value) の組み合わせによって表現される。キーには、**変更不可能なもの** (数値、文字列、**タプル**) を指定することができる。辞書を使うことで、所望の要素にキーの名前でアクセスすることができる。  \n",
    "\n",
    "その他、辞書は次の性質を持つ：\n",
    "* 辞書の各要素は順番を持たない (順番を保持したい場合は[collections.OrderedDict](https://docs.python.jp/3/library/collections.html#collections.OrderedDict)を用いる)\n",
    "* 同じキーが2つ以上存在してはならない\n",
    "\n",
    "豆知識：Pythonのdictとデータの保存格納に使われるjsonは、キーと値の組み合わせで記述できる点が共通しており、直感的には対応関係にある (厳密にはルールが一部異なる)。Python3にはjsonモジュールが用意されており、dictとjsonの相互変換の機能を提供している。  \n",
    "\n",
    "json — JSON エンコーダおよびデコーダ (公式)  \n",
    "https://docs.python.jp/3/library/json.html\n"
   ]
  },
  {
   "cell_type": "code",
   "execution_count": 10,
   "metadata": {},
   "outputs": [
    {
     "name": "stdout",
     "output_type": "stream",
     "text": [
      "{'apple': 'gorilla', 2: 'two', (1, 2, 3): [4, 5, 6]}\n"
     ]
    }
   ],
   "source": [
    "# 辞書の宣言\n",
    "sample_dict = {}\n",
    "\n",
    "# 要素の代入\n",
    "sample_dict[\"apple\"] = \"gorilla\"\n",
    "sample_dict[2] = \"two\"\n",
    "sample_dict[(1, 2, 3)] = [4, 5, 6]\n",
    "print(sample_dict)\n",
    "\n",
    "# sample_dict[[1]] = 2  # リストは変更可能なのでエラー"
   ]
  },
  {
   "cell_type": "markdown",
   "metadata": {},
   "source": [
    "### 要素へのアクセス"
   ]
  },
  {
   "cell_type": "code",
   "execution_count": 11,
   "metadata": {},
   "outputs": [
    {
     "name": "stdout",
     "output_type": "stream",
     "text": [
      "{'apple': 'gorilla', 2: 'two', (1, 2, 3): [4, 5, 6]}\n",
      "gorilla\n",
      "Key only:\n",
      "apple\n",
      "2\n",
      "(1, 2, 3)\n",
      "Value only:\n",
      "gorilla\n",
      "two\n",
      "[4, 5, 6]\n",
      "Key and value:\n",
      "apple gorilla\n",
      "2 two\n",
      "(1, 2, 3) [4, 5, 6]\n"
     ]
    }
   ],
   "source": [
    "print(sample_dict)\n",
    "print(sample_dict[\"apple\"])\n",
    "\n",
    "# キーのリスト、値のリストの取得にはkeys(), values()を用いる\n",
    "# ただし、その順番は保証されない！\n",
    "print(\"Key only:\")\n",
    "for key in sample_dict.keys():\n",
    "    print(key)\n",
    "\n",
    "print(\"Value only:\")\n",
    "for value in sample_dict.values():\n",
    "    print(value)\n",
    "    \n",
    "# キー及び値の組のリストの取得にはitems()を用いる\n",
    "print(\"Key and value:\")\n",
    "for key, value in sample_dict.items():\n",
    "    print(key, value)\n",
    "    \n",
    "# 存在しないキーを指定するとエラー\n",
    "# print(sample_dict[\"banana\"])"
   ]
  },
  {
   "cell_type": "markdown",
   "metadata": {},
   "source": [
    "### 辞書の使い方\n",
    "例えば：画像ファイルの幅 (width) と高さ (height) を格納する場合"
   ]
  },
  {
   "cell_type": "code",
   "execution_count": 12,
   "metadata": {},
   "outputs": [
    {
     "name": "stdout",
     "output_type": "stream",
     "text": [
      "{'img2.jpg': {'width': 1920, 'height': 1080}, 'img3.jpg': {'width': 1920, 'height': 1080}, 'img1.jpg': {'width': 640, 'height': 480}}\n"
     ]
    }
   ],
   "source": [
    "image_list = [\"img1.jpg\", \"img2.jpg\", \"img3.jpg\"]\n",
    "\n",
    "# 辞書はネストできる\n",
    "image_size_dict = {\n",
    "    \"img1.jpg\": {\n",
    "        \"width\": 640,\n",
    "        \"height\": 480\n",
    "    }\n",
    "}\n",
    "\n",
    "for image_name in image_list:\n",
    "    if image_name not in image_size_dict:  # in構文でdict内に指定のキーを持つ要素が存在するか調べられる\n",
    "        image_size_dict[image_name] = {}\n",
    "        image_size_dict[image_name][\"width\"] = 1920\n",
    "        image_size_dict[image_name][\"height\"] = 1080\n",
    "        \n",
    "print(image_size_dict)"
   ]
  },
  {
   "cell_type": "markdown",
   "metadata": {},
   "source": [
    "## 関数とクラス\n",
    "他のプログラミング言語同様、Python3には関数とクラスの概念が存在する。\n",
    "### 関数 (function)\n",
    "プログラミング言語で一般的に用いられるテクニックとして、同じ処理をその入力のみを変えて何度も繰り返すための関数を定義すると便利な場合がある。Pythonでは、defキーワードを用いて関数を定義する。"
   ]
  },
  {
   "cell_type": "code",
   "execution_count": 13,
   "metadata": {
    "scrolled": true
   },
   "outputs": [
    {
     "name": "stdout",
     "output_type": "stream",
     "text": [
      "4\n",
      "27\n"
     ]
    }
   ],
   "source": [
    "# 累乗を計算する関数\n",
    "# 引数は分かりやすいように書く\n",
    "def power(base, exponent):\n",
    "    result = 1\n",
    "    for i in range(exponent):\n",
    "        result *= base\n",
    "    return result\n",
    "\n",
    "print(power(2, 2))  # -> 4\n",
    "print(power(3, 3))  # -> 27"
   ]
  },
  {
   "cell_type": "markdown",
   "metadata": {},
   "source": [
    "### クラス (class)\n",
    "Pythonは、オブジェクト指向プログラミング (Object Oriented Programming) を意識した言語の1つである。そのため、C++に比較的近いクラスの機能が定義されている。関数はその機能のみをひとくくりにしていたが、クラスでは関数 (メソッド) と使用するデータを纏めて、分かりやすく保守性の高いコードを書くことができる。  \n",
    "今回は深入りせず、その簡単な紹介に留めておく。詳しくは第3回で解説する。  \n",
    "今日は、次のことを覚えておこう。\n",
    "* クラスは、メソッド (クラス内の関数) とインスタンス変数 (クラス内の変数) の2つからなる\n",
    "* クラスの宣言にはclassキーワードを用いる\n",
    "* クラスは設計図であり、それを呼び出してインスタンス (実体) を作ることで初めて利用可能になる\n",
    "* クラスの初期化は\\_\\_init\\_\\_メソッドに実装する\n",
    "* メソッドの1番目の引数にはselfをつける"
   ]
  },
  {
   "cell_type": "code",
   "execution_count": 14,
   "metadata": {
    "collapsed": true
   },
   "outputs": [],
   "source": [
    "# クラスの例\n",
    "class AdaGrad:\n",
    "    def __init__(self, learning_rate, eps=1e-6):  # 初期化には__init__メソッドを用いる\n",
    "        self.lr = learning_rate  # 学習率\n",
    "        self.eps = eps  # 平滑化項\n",
    "        self.iter_cnt = 0  # イテレーション数\n",
    "    \n",
    "    # 重みの更新：過去の勾配累積を用いて学習率を減衰\n",
    "    def update(self, W, grad):  #必ずselfを第1引数に入れる\n",
    "        if self.iter_cnt == 0:\n",
    "            self.G = np.zeros(len(W))\n",
    "        self.G += grad ** 2\n",
    "        self.iter_cnt += 1\n",
    "        return W - (self.lr / np.sqrt(G) + self.eps) * grad\n",
    "    \n",
    "adagrad_optimizer = AdaGrad(0.01)  #  インスタンスの作成・この時、初期化の処理が行われる"
   ]
  },
  {
   "cell_type": "markdown",
   "metadata": {},
   "source": [
    "## 書いてみよう：フィボナッチ数列\n",
    "フィボナッチ数列とは、次の条件を満たす数列である。\n",
    "\\begin{align*}\n",
    "f(0) &= 0 \\\\\n",
    "f(1) &= 1 \\\\\n",
    "f(k+1) &= f(k) + f(k-1)\\ \\ (k=1, 2,\\dots) \\\\\n",
    "\\end{align*}\n",
    "Q: 上記の漸化式に従う数列を返す関数を実装せよ。\n",
    "\n",
    "### ヒント：\n",
    "* f(0), f(1)からf(2), f(3), ...を順に計算していけば良い\n",
    "* f(k)の計算にはf(k-1)とf(k-2)の2つの値だけ持っておけば良い\n",
    "* 同時代入が便利 (後述)\n",
    "\n",
    "### 同時代入\n",
    "Pythonでは、次の2つのコードは等価である：\n",
    "```\n",
    "a = 1\n",
    "b = 2\n",
    "tmp = b\n",
    "b = a\n",
    "a = tmp\n",
    "```\n",
    "\n",
    "```\n",
    "a = 1\n",
    "b = 2\n",
    "a, b = b, a\n",
    "```"
   ]
  },
  {
   "cell_type": "code",
   "execution_count": 15,
   "metadata": {
    "collapsed": true
   },
   "outputs": [],
   "source": [
    "# WRITE ME!\n",
    "def fib(k):\n",
    "    a, b = 0, 1\n",
    "    if k == 1:\n",
    "        return 1\n",
    "    for x in range(k-1):\n",
    "        a, b = b, a + b  # 同時代入\n",
    "    if n == 0:\n",
    "        return 0\n",
    "    else:\n",
    "        return b"
   ]
  },
  {
   "cell_type": "code",
   "execution_count": 16,
   "metadata": {},
   "outputs": [
    {
     "name": "stdout",
     "output_type": "stream",
     "text": [
      "You are smart!\n"
     ]
    }
   ],
   "source": [
    "# 解答チェック\n",
    "fib_answer = [0, 1, 1, 2, 3, 5, 8, 13, 21, 34, 55, 89, 144, 233]\n",
    "if all([fib(i) == x for i, x in enumerate(fib_answer)]):\n",
    "    print(\"You are smart!\")\n",
    "else:\n",
    "    print(\"Opps...something wrong\")\n",
    "    print([fib(i) for i, x in enumerate(fib_answer)])"
   ]
  },
  {
   "cell_type": "markdown",
   "metadata": {},
   "source": [
    "# 2. Numpy入門 (1)"
   ]
  },
  {
   "cell_type": "markdown",
   "metadata": {},
   "source": [
    "## ライブラリの使用 (import)\n",
    "ライブラリの機能を使うためには、そのライブラリをインポートする必要がある。  \n",
    "numpyの機能は、ライブラリ名を前につけて、呼び出したいメソッドなどをドット(.)で繋いで呼び出す。\n",
    "```\n",
    "import hoge\n",
    "hoge.foo.bar()\n",
    "```\n",
    "Numpyでは、いちいちnumpy.と呼び出すのが面倒であることから、慣習的にimport as文を用いてnp.とするのが一般的である。"
   ]
  },
  {
   "cell_type": "code",
   "execution_count": 17,
   "metadata": {
    "collapsed": true
   },
   "outputs": [],
   "source": [
    "import numpy as np  # numpyを'np'という名前でインポートする\n",
    "import time"
   ]
  },
  {
   "cell_type": "markdown",
   "metadata": {},
   "source": [
    "## 配列(ndarray)の定義と性質\n",
    "配列の定義には、np.arrayを用いる。  \n",
    "numpy配列はそれぞれ形状 (shape) を持ち、その形状の種類の数を「次元数」と呼ぶ。"
   ]
  },
  {
   "cell_type": "code",
   "execution_count": 18,
   "metadata": {},
   "outputs": [
    {
     "name": "stdout",
     "output_type": "stream",
     "text": [
      "3\n",
      "1\n",
      "(2, 3)\n",
      "6\n",
      "int64\n",
      "[[3 4 5]\n",
      " [6 7 8]]\n",
      "[[-1  0  1]\n",
      " [ 2  3  4]]\n",
      "[[ 2  4  6]\n",
      " [ 8 10 12]]\n"
     ]
    }
   ],
   "source": [
    "# ndarrayの定義\n",
    "a = np.array([1, 2, 3])\n",
    "\n",
    "print(len(a))  # 長さは3\n",
    "print(a.ndim)  # 1次元配列\n",
    "\n",
    "b = np.array([[1, 2, 3], [4, 5, 6]])\n",
    "\n",
    "print(b.shape)  # 配列の形状は2×3 (Pythonのリストとしては、「長さ3のリストが2つあるリスト」)\n",
    "print(b.size)  # 配列の総要素数\n",
    "print(b.dtype)  # この配列のデータ型 (後ほど)\n",
    "\n",
    "c = np.array([[2, 2, 2], [2, 2, 2]])\n",
    "print(b + c)  # 配列の和\n",
    "print(b - c)  # 配列の差\n",
    "print(b * c)  # 配列の要素積　(b * c = {b_i + c_i})"
   ]
  },
  {
   "cell_type": "markdown",
   "metadata": {},
   "source": [
    "## 配列の生成\n",
    "* np.ones(shape)：中身がすべて1の配列を作成\n",
    "* np.zeros(shape) : 中身がすべて0の配列を作成\n",
    "* np.arange([start], stop, [step]): range関数と似た機能を提供。連続した数列を作成\n",
    "\n",
    "### np.zeros"
   ]
  },
  {
   "cell_type": "code",
   "execution_count": 19,
   "metadata": {},
   "outputs": [
    {
     "name": "stdout",
     "output_type": "stream",
     "text": [
      "[ 0.]\n",
      "[[ 0.  0.  0.]\n",
      " [ 0.  0.  0.]]\n"
     ]
    }
   ],
   "source": [
    "print(np.zeros(1))  # 大きさ (1,)\n",
    "print(np.zeros((2, 3))) # 注意：複数次元の場合はカッコで囲う\n",
    "# print(np.zeros(2, 3))  # エラー"
   ]
  },
  {
   "cell_type": "markdown",
   "metadata": {},
   "source": [
    "### np.ones"
   ]
  },
  {
   "cell_type": "code",
   "execution_count": 20,
   "metadata": {},
   "outputs": [
    {
     "name": "stdout",
     "output_type": "stream",
     "text": [
      "[[[ 1.  1.]\n",
      "  [ 1.  1.]]\n",
      "\n",
      " [[ 1.  1.]\n",
      "  [ 1.  1.]]]\n",
      "[[ 5.  5.  5.]\n",
      " [ 5.  5.  5.]\n",
      " [ 5.  5.  5.]]\n"
     ]
    }
   ],
   "source": [
    "print(np.ones((2, 2, 2)))  # np.onesも同様\n",
    "print(np.ones((3, 3))*5)  # 要素積と組み合わせると幅が拡がる"
   ]
  },
  {
   "cell_type": "markdown",
   "metadata": {},
   "source": [
    "### np.arange"
   ]
  },
  {
   "cell_type": "code",
   "execution_count": 21,
   "metadata": {},
   "outputs": [
    {
     "name": "stdout",
     "output_type": "stream",
     "text": [
      "[0 1 2 3 4]\n",
      "[0 3 6 9]\n",
      "[10  9  8  7  6  5  4  3  2  1]\n"
     ]
    }
   ],
   "source": [
    "print(np.arange(5))  # 0から4 (!= 5) までの数列を作成\n",
    "print(np.arange(0, 10, 3))  # 3刻みの数列を作成\n",
    "print(np.arange(10, 0, -1))  # 降順のリストも書ける"
   ]
  },
  {
   "cell_type": "markdown",
   "metadata": {},
   "source": [
    "## ちょっと寄り道：リスト内包表記\n",
    "Numpyの機能ではないが、ちょっと複雑なリストときによく用いる。  \n",
    "通常のfor文よりも高速なので、numpy配列が直接宣言できない場合に使おう。  \n",
    "  \n",
    "**実行速度： numpyで用意されている関数 >> リスト内包表記 > 通常のリスト**"
   ]
  },
  {
   "cell_type": "code",
   "execution_count": 22,
   "metadata": {},
   "outputs": [
    {
     "name": "stdout",
     "output_type": "stream",
     "text": [
      "[1, 3, 5, 7, 9, 11, 13, 15, 17, 19, 21, 23, 25, 27, 29, 31, 33, 35, 37, 39, 41, 43, 45, 47, 49]\n",
      "[1, 3, 5, 7, 9, 11, 13, 15, 17, 19, 21, 23, 25, 27, 29, 31, 33, 35, 37, 39, 41, 43, 45, 47, 49]\n",
      "[ 1  3  5  7  9 11 13 15 17 19 21 23 25 27 29 31 33 35 37 39 41 43 45 47 49]\n",
      "For内包表記: 0.3061408996582031 (s)\n",
      "Forループ: 0.22621560096740723 (s)\n",
      "Numpy: 0.056116580963134766 (s)\n"
     ]
    }
   ],
   "source": [
    "# 例1: 1から50までの奇数\n",
    "odd_numbers = [x * 2 + 1 for x in range(25)]\n",
    "print(odd_numbers)\n",
    "\n",
    "# 例2: 例1をfor文を用いて用意した場合\n",
    "odd_numbers = []\n",
    "for x in range(25):\n",
    "    odd_numbers.append(x * 2 + 1)\n",
    "print(odd_numbers)\n",
    "\n",
    "# 例3: np.arangeを用いた場合\n",
    "odd_numbers = np.arange(1, 50, 2)\n",
    "print(odd_numbers)\n",
    "\n",
    "# 実行時間の比較\n",
    "start = time.time()  # time関数同士の時間を比較することで、実行時間を秒で計測できる\n",
    "for trial in range(50000):\n",
    "    odd_numbers = [x * 2 + 1 for x in range(25)]\n",
    "end = time.time()\n",
    "print(\"For内包表記: {} (s)\".format(end - start))\n",
    "\n",
    "start = time.time()\n",
    "for trial in range(50000):\n",
    "    odd_numbers = []\n",
    "    for x in range(25):\n",
    "        odd_numbers.append(x * 2 + 1)\n",
    "end = time.time()\n",
    "print(\"Forループ: {} (s)\".format(end - start))\n",
    "\n",
    "start = time.time()\n",
    "for trial in range(50000):\n",
    "    odd_numbers = np.arange(1, 50, 2)\n",
    "    \n",
    "end = time.time()\n",
    "print(\"Numpy: {} (s)\".format(end - start))"
   ]
  },
  {
   "cell_type": "markdown",
   "metadata": {},
   "source": [
    "### リスト内包表記と要素のフィルタリング\n",
    "if文と組み合わせることによって、リスト内包表記で要素のフィルタリングを行うことができる。"
   ]
  },
  {
   "cell_type": "code",
   "execution_count": 23,
   "metadata": {},
   "outputs": [
    {
     "name": "stdout",
     "output_type": "stream",
     "text": [
      "[1, 3, 5, 7, 9, 11, 13, 15, 17, 19, 21, 23, 25, 27, 29, 31, 33, 35, 37, 39, 41, 43, 45, 47, 49]\n"
     ]
    }
   ],
   "source": [
    "# 1から49までの奇数\n",
    "odds = [x for x in range(50) if x % 2 == 1]\n",
    "print(odds)"
   ]
  },
  {
   "cell_type": "markdown",
   "metadata": {},
   "source": [
    "## 要素の切り出し・変形\n",
    "numpyの配列は、リスト同様そのうちの1つまたは一部を切り出すことができる。このとき、切り出した部分配列の要素を書き換えると、**元の配列も書き換わる**ことに注意。これは、配列のメモリ上の位置はそのままで、始点と終点を変えているだけであるからである。  \n",
    "また、np.reshapeを用いることで、配列の形状を変えることができる。当然、要素の総数は同じではくてはならない。"
   ]
  },
  {
   "cell_type": "code",
   "execution_count": 24,
   "metadata": {},
   "outputs": [
    {
     "name": "stdout",
     "output_type": "stream",
     "text": [
      "[[ 0  1  2]\n",
      " [ 3  4  5]\n",
      " [ 6  7  8]\n",
      " [ 9 10 11]]\n",
      "[0 1 2]\n",
      "[0 3 6 9]\n",
      "[[4 5]\n",
      " [7 8]]\n",
      "[[-1  5]\n",
      " [ 7  8]]\n",
      "[[ 0  1  2]\n",
      " [ 3 -1  5]\n",
      " [ 6  7  8]\n",
      " [ 9 10 11]]\n",
      "(20, 2)\n"
     ]
    }
   ],
   "source": [
    "sample_array = np.arange(12).reshape((4, 3))  # (12,)の配列を(4, 3)に変形\n",
    "print(sample_array)\n",
    "print(sample_array[0, :])  # 1行目を取り出す\n",
    "print(sample_array[:, 0])  # 1列目を取り出す\n",
    "\n",
    "sample_view = sample_array[1:3, 1:3]  # 各次元ごとに切り出す\n",
    "print(sample_view)\n",
    "\n",
    "# 切り出した配列を書き換えると、元の配列も書き換わる\n",
    "sample_view[0, 0] = -1\n",
    "print(sample_view)\n",
    "print(sample_array)\n",
    "\n",
    "a = np.ones((10, 2, 2)).reshape((-1, 2))  # 1つの要素を-1に指定すると、総要素数に合わせて変形してくれる\n",
    "print(a.shape)"
   ]
  },
  {
   "cell_type": "markdown",
   "metadata": {},
   "source": [
    "## ブロードキャスティング (broadcasting)\n",
    "numpyの強力な機能の1つがこのブロードキャスティングである。ブロードキャスティングは、次のルールにしたがって、**異なる大きさの配列同士の計算を許可**する。\n",
    "* 2つの配列の次元数が同じで、**各次元についてどちらか片方の要素数が1の場合**\n",
    "* 2つの配列の次元数から異なる場合、次元数の大きい配列の後ろの次元から比較して、対応する各次元の要素数が1または同じである場合\n",
    "\n",
    "説明ではわかりにくいので、実際の例で確認しよう："
   ]
  },
  {
   "cell_type": "code",
   "execution_count": 25,
   "metadata": {},
   "outputs": [
    {
     "name": "stdout",
     "output_type": "stream",
     "text": [
      "(3, 3)\n",
      "(4, 7, 5)\n",
      "(224, 224, 3)\n",
      "(5, 5, 3)\n"
     ]
    }
   ],
   "source": [
    "#　2配列の形状が全く同一である場合は当然OK\n",
    "a = np.ones((3, 3))\n",
    "b = np.ones((3, 3))\n",
    "print((a + b).shape)  # -> (3, 3)\n",
    "\n",
    "# どちらか片方の次元数が1なら、その次元について中身をコピーして形状を合わせてくれる\n",
    "a = np.ones((4, 1, 5))\n",
    "b = np.ones((1, 7, 1))\n",
    "print((a + b).shape)  # -> (4, 7, 5)\n",
    "\n",
    "# 次元数が異なる場合でも後ろから見て要素数の不一致がなければOK\n",
    "a = np.ones((224, 224, 3))\n",
    "b = np.ones(3)\n",
    "\n",
    "print((a + b).shape)  # -> (224, 224, 3)\n",
    "\n",
    "# 一見ダメなように見える例も…\n",
    "a = np.ones((5, 5, 3))\n",
    "b = np.ones((5, 1))\n",
    "\n",
    "print((a + b).shape)  # -> (5, 5, 3)"
   ]
  },
  {
   "cell_type": "markdown",
   "metadata": {},
   "source": [
    "### ブロードキャスティングに失敗する例"
   ]
  },
  {
   "cell_type": "code",
   "execution_count": 26,
   "metadata": {
    "collapsed": true
   },
   "outputs": [],
   "source": [
    "# CAUTION! 以下のコードはすべてエラーになる\n",
    "a = np.ones((3, 3))\n",
    "b = np.ones((2, 3))\n",
    "# print((a + b).shape)  # -> ERROR!\n",
    "\n",
    "a = np.ones((5, 3))\n",
    "b = np.ones(5)\n",
    "# print((a + b).shape)  # -> ERROR! 後ろから数えると5 != 3"
   ]
  },
  {
   "cell_type": "markdown",
   "metadata": {},
   "source": [
    "### np.newaxisを用いて次元を合わせる\n",
    "前項の(5, 3)と(5,)の足し算のような例は実際のコーディングでも頻発するが、そのままではブロードキャスティングに失敗してしまう。  \n",
    "本来変数bに期待する形状は(5,)ではなく(5, 1)であり、そのように変形すれば良い。  \n",
    "そのための便利な機能として、np.newaxisがある。np.newaxisは次元を任意の位置に追加する。"
   ]
  },
  {
   "cell_type": "code",
   "execution_count": 27,
   "metadata": {},
   "outputs": [
    {
     "name": "stdout",
     "output_type": "stream",
     "text": [
      "(5, 3)\n"
     ]
    }
   ],
   "source": [
    "a = np.ones((5, 3))\n",
    "b = np.ones(5)\n",
    "c = a + b[:, np.newaxis]  # bの2次元目に(,1)を追加するので、(5, 3) + (5, 1) -> (5, 3)となる\n",
    "print(c.shape)"
   ]
  },
  {
   "cell_type": "markdown",
   "metadata": {},
   "source": [
    "## 書いてみよう：配列の計算とブロードキャスティング\n",
    "* Q1: (3, 3)の配列を2つ用意して、その和・差・要素積を計算せよ。\n",
    "* Q2: すべての要素の大きさが5の(10, 10)の行列を構成せよ。\n",
    "* Q3: 配列AとBは大きさが違うが、ブロードキャスティングによりその和を計算できる。答えを予想した後に実行して結果を確かめよ。"
   ]
  },
  {
   "cell_type": "code",
   "execution_count": 28,
   "metadata": {},
   "outputs": [
    {
     "name": "stdout",
     "output_type": "stream",
     "text": [
      "[[ 1.  2.  3.]\n",
      " [ 4.  5.  6.]\n",
      " [ 7.  8.  9.]]\n",
      "[[ 1.  0. -1.]\n",
      " [-2. -3. -4.]\n",
      " [-5. -6. -7.]]\n",
      "[[ 0.  1.  2.]\n",
      " [ 3.  4.  5.]\n",
      " [ 6.  7.  8.]]\n",
      "(3, 5, 5)\n"
     ]
    }
   ],
   "source": [
    "# 課題用 \n",
    "A = np.ones((3, 5, 5))\n",
    "B = np.array([[1, 2, 3, 4, 5]])\n",
    "\n",
    "# WRITE ME!\n",
    "# Q1\n",
    "a = np.ones((3, 3))\n",
    "b = np.arange(9).reshape((3, 3))\n",
    "print(a + b)\n",
    "print(a - b)\n",
    "print(a * b)\n",
    "\n",
    "# Q2\n",
    "c = np.ones((10, 10)) * 5\n",
    "\n",
    "# Q3\n",
    "print((A + B).shape)"
   ]
  },
  {
   "cell_type": "markdown",
   "metadata": {},
   "source": [
    "## 行列積の記述 (np.matmul, np.dot)\n",
    "すでに述べた通り、\\*演算子は行列の要素積であり、行列同士に定義される通常の掛け算ではなかった。  \n",
    "行列積を記述する場合、np.matmulまたはnp.dotを用いる。  \n",
    "np.matmulとnp.dotは配列が行列(2次元)である場合には同様の挙動を示すが、**3次元以上のテンソルの場合には結果が変わる**ことに注意する。  \n",
    "ただ、3次元以上の配列の積を記述することは稀かつ、どの次元の積和を取るかが非直感的になるので、その場合はnp.einsum (今回は解説しない) などを用いると良い。\n",
    "\n",
    "たとえば、行列$W$と列ベクトル$x$の掛け算\n",
    "\\begin{align*}\n",
    "{\\bf y} = W{\\bf x}\n",
    "\\end{align*}\n",
    "は\n",
    "```\n",
    "y = np.matmul(W, x)\n",
    "```\n",
    "または\n",
    "```\n",
    "y = np.dot(W, x)\n",
    "```\n",
    "と書ける。"
   ]
  },
  {
   "cell_type": "code",
   "execution_count": 29,
   "metadata": {},
   "outputs": [
    {
     "name": "stdout",
     "output_type": "stream",
     "text": [
      "[13  5]\n",
      "[13  5]\n"
     ]
    }
   ],
   "source": [
    "W = np.array([[3, 5], [1, 2]])  # (2, 2)\n",
    "x = np.array([1, 2])  # (2,)\n",
    "y = np.matmul(W, x)\n",
    "print(y)\n",
    "y = np.dot(W, x)\n",
    "print(y)"
   ]
  },
  {
   "cell_type": "markdown",
   "metadata": {},
   "source": [
    "### 3次元以上のテンソルの場合の結果の比較"
   ]
  },
  {
   "cell_type": "code",
   "execution_count": 30,
   "metadata": {},
   "outputs": [
    {
     "name": "stdout",
     "output_type": "stream",
     "text": [
      "(3, 4, 3, 1)\n",
      "(3, 4, 1)\n",
      "(3, 4, 4, 1)\n"
     ]
    }
   ],
   "source": [
    "A = np.ones((3, 4, 5))*2\n",
    "B = np.ones((3, 5, 1))*2\n",
    "\n",
    "print(np.dot(A, B).shape)  # Aの最後の次元(5,)とBの後ろから2番めの次元(5,)を足し上げ、その他は放置\n",
    "print(np.matmul(A, B).shape)  # 後ろ2次元分はnp.dotと同じだが、それより前の次元については要素積を取る\n",
    "\n",
    "A = np.ones((3, 4, 5))*2\n",
    "B = np.ones((4, 5, 1))*2\n",
    "\n",
    "print(np.dot(A, B).shape)  # これはOKだが\n",
    "# print(np.matmul(A, B).shape)  # これは最初の次元が3 != 4なのでエラー"
   ]
  },
  {
   "cell_type": "markdown",
   "metadata": {},
   "source": [
    "# 3. ファイルの入出力\n",
    "本節では、実データに機械学習を適用する際に不可欠な、データの読み書きに焦点をあて、csvファイルの読み書きを題材にその基礎を解説・実践する。  \n",
    "実際には、以下に示すモジュールを用いればサンプルより簡単にデータを読み込み・処理できるが、それは応用トピックとして各人で独習されたい。\n",
    "* csvモジュール\n",
    "* jsonモジュール\n",
    "* pandas (データ解析支援ライブラリ)\n",
    "\n",
    "特に、pandasは大規模データを取り扱うための各種機能を搭載している。そのため、データがある程度複雑なら、**pandasを利用したほうが良い**。\n",
    "\n",
    "## osモジュール\n",
    "通常、処理コードとデータは別々のディレクトリに保存されており、適切なファイルパスを指定し、それを読み込む必要がある。こうした\n",
    "* ディレクトリ間の移動\n",
    "* ディレクトリの作成\n",
    "* パスの作成・加工\n",
    "などを担うのがosモジュールである。今回は、\n",
    "1. テキストファイルの読み込み\n",
    "2. CSVファイル (irisデータセット) の読み書き\n",
    "3. The Allen Mouse Brain Connectivity Atlasの読み込み\n",
    "の3つの題材を通じて、osモジュールの主要関数の使い方を学習する。\n",
    "\n",
    "### 今回のディレクトリ構成\n",
    "```\n",
    "+---nico2ai_lecture1_exercise.ipynb (このファイル)\n",
    "+---nico2ai_lecture1_practice.ipynb\n",
    "+---data/\n",
    "    +---sample.txt\n",
    "    +---iris.csv\n",
    "    +---nature/\n",
    "        +---nature13186-s3.csv\n",
    "        +---nature13186-s4-w-ipsi.csv\n",
    "        +---nature13186-s5.csv\n",
    "```\n",
    "### ファイルの読み込み\n",
    "ファイルの読み込みには、**open関数**を用いる。第2引数のモードには\n",
    "* \"r\": 読み込み専用\n",
    "* \"w\": 書き込み専用 (ファイルが存在しない場合、新規作成)\n",
    "* \"r+\": 読み書き療養\n",
    "* \"a\": 追記用 (すでに同名のファイルが存在する場合、その末尾から追記)\n",
    "の4種類があるが、まずは読み込み専用の\"r\"を使う。"
   ]
  },
  {
   "cell_type": "code",
   "execution_count": 31,
   "metadata": {},
   "outputs": [
    {
     "name": "stdout",
     "output_type": "stream",
     "text": [
      "ESIO TROT, ESIO TROT,\n",
      "TEG REGGIB REGGIB!\n",
      "EMOC NO, ESIO TROT,\n",
      "WORG PU, FFUP PU, TOOHS PU!\n",
      "GNIRPS PU, WOLB PU, LLEWS PU!\n",
      "EGROG! ELZZUG! FFUTS! PLUG!\n",
      "TUP NO TAF, ESIO TROT, TUP NO TAF!\n",
      "TEG NO, TEG NO, ELBBOG DOOF!\n"
     ]
    }
   ],
   "source": [
    "f = open(\"data/sample.txt\", \"r\")  # open関数が成功すると、ファイルオブジェクトが返る\n",
    "for line in f:  \n",
    "    print(line.strip(\"\\n\"))  # 余計な改行を除去\n",
    "    \n",
    "# 古い書き方：今は直接for文で行ごとに読み込める\n",
    "#line = f.readline()\n",
    "#while line:\n",
    "#    print(line)\n",
    "#    line = f.readline()\n",
    "    \n",
    "f.close()  # 必ずcloseする"
   ]
  },
  {
   "cell_type": "markdown",
   "metadata": {},
   "source": [
    "### with ~ as文\n",
    "上記の例では、openしたファイルを必ずcloseしなければならず、忘れる危険性があった。  \n",
    "with文を使うと、同じ式をエレガントに書ける。\n",
    "\n",
    "また、原文は亀語 (単語の並び順が人間語と逆順) であるため、配列のアクセスを工夫して人間語に戻してあげよう。  \n",
    "(サンプルの出典： Roald Dahl, \"Esio Trot, Viking Press, 1990)  \n",
    "その際、次の文字列操作関数を用いる：\n",
    "* str.strip(str): 文字列中からstrを取り除く\n",
    "* str.split(delimiter): delimiterで文字列を区切り、区切られた部分文字列のリストを返す\n",
    "* str.join(str_list): splitと逆の操作を行い、strを区切り文字としてstr_listの各要素を連結して返す\n",
    "* str.replace(str1, str2): 文字列中のstr1をstr2に置き換える"
   ]
  },
  {
   "cell_type": "code",
   "execution_count": 32,
   "metadata": {},
   "outputs": [
    {
     "name": "stdout",
     "output_type": "stream",
     "text": [
      "TORT OISE, TORT OISE,\n",
      "GET BIGGER !BIGGER\n",
      "COME ,ON TORT OISE,\n",
      "GROW ,UP PUFF ,UP SHOOT !UP\n",
      "SPRING ,UP BLOW ,UP SWELL !UP\n",
      "!GORGE !GUZZLE !STUFF !GULP\n",
      "PUT ON ,FAT TORT OISE, PUT ON !FAT\n",
      "GET ,ON GET ,ON GOBBLE !FOOD\n"
     ]
    }
   ],
   "source": [
    "with open(\"data/sample.txt\", \"r\") as f:  # Closeする必要なし\n",
    "    for line in f:\n",
    "        line = line.strip(\"\\n\")\n",
    "        words = line.split(\" \")\n",
    "        words_reversed = []\n",
    "        for word in words:  # 始点・終点を変えずに逆順に進める\n",
    "            words_reversed.append(word[::-1])  # 始点・終点を変えずに逆順に進める\n",
    "        line_reversed = \" \".join(words_reversed)  # スペースで連結\n",
    "        line_reversed = line_reversed.replace(\"OISE ,TORT\", \"TORT OISE,\")  # TORT OISEが本来1語であるのを逆にしてしまったので、元に戻す\n",
    "        print(line_reversed)"
   ]
  },
  {
   "cell_type": "markdown",
   "metadata": {},
   "source": [
    "## csvの読み込みとパース\n",
    "続いて、csvファイルの読み込みを行う。csv (comma-separated values)は、その名の示す通り、ファイル内の要素がカンマで区切られている。そのため、カンマ区切りの各要素を読みだしたうえで、そのデータ型に合わせて適切にパース (parse) しなければならない。  \n",
    "文字列から数値への変換及びその逆は\n",
    "```\n",
    "float(\"3.1\") -> 3.1\n",
    "int(\"5\") -> 5\n",
    "str(5) -> \"5\"\n",
    "```\n",
    "などで行うことができる。\n",
    "\n",
    "### Irisデータセット\n",
    "今回サンプルcsvとして用いるのは、\"Iris\"と呼ばれる非常に有名なデータセットである。\n",
    "* Setosa\n",
    "* Verisicolor\n",
    "* Virginica\n",
    "\n",
    "という3種類の品種のアヤメの\n",
    "\n",
    "* がく片の長さ (1列目)\n",
    "* がく片の幅 (2列目)\n",
    "* 花弁の長さ (3列目)\n",
    "* 花弁の幅 (4列目)\n",
    "\n",
    "がcm単位で格納されている。5列目は品種名(文字列)である。  \n",
    "まず、1列目〜4列目まではすべてfloatに変換できるので、5列目を除いたデータをnumpy配列に変換してみよう。"
   ]
  },
  {
   "cell_type": "code",
   "execution_count": 33,
   "metadata": {},
   "outputs": [
    {
     "name": "stdout",
     "output_type": "stream",
     "text": [
      "[[ 5.1  3.5  1.4  0.2]\n",
      " [ 4.9  3.   1.4  0.2]\n",
      " [ 4.7  3.2  1.3  0.2]\n",
      " [ 4.6  3.1  1.5  0.2]\n",
      " [ 5.   3.6  1.4  0.2]\n",
      " [ 5.4  3.9  1.7  0.4]\n",
      " [ 4.6  3.4  1.4  0.3]\n",
      " [ 5.   3.4  1.5  0.2]\n",
      " [ 4.4  2.9  1.4  0.2]\n",
      " [ 4.9  3.1  1.5  0.1]\n",
      " [ 5.4  3.7  1.5  0.2]\n",
      " [ 4.8  3.4  1.6  0.2]\n",
      " [ 4.8  3.   1.4  0.1]\n",
      " [ 4.3  3.   1.1  0.1]\n",
      " [ 5.8  4.   1.2  0.2]\n",
      " [ 5.7  4.4  1.5  0.4]\n",
      " [ 5.4  3.9  1.3  0.4]\n",
      " [ 5.1  3.5  1.4  0.3]\n",
      " [ 5.7  3.8  1.7  0.3]\n",
      " [ 5.1  3.8  1.5  0.3]\n",
      " [ 5.4  3.4  1.7  0.2]\n",
      " [ 5.1  3.7  1.5  0.4]\n",
      " [ 4.6  3.6  1.   0.2]\n",
      " [ 5.1  3.3  1.7  0.5]\n",
      " [ 4.8  3.4  1.9  0.2]\n",
      " [ 5.   3.   1.6  0.2]\n",
      " [ 5.   3.4  1.6  0.4]\n",
      " [ 5.2  3.5  1.5  0.2]\n",
      " [ 5.2  3.4  1.4  0.2]\n",
      " [ 4.7  3.2  1.6  0.2]\n",
      " [ 4.8  3.1  1.6  0.2]\n",
      " [ 5.4  3.4  1.5  0.4]\n",
      " [ 5.2  4.1  1.5  0.1]\n",
      " [ 5.5  4.2  1.4  0.2]\n",
      " [ 4.9  3.1  1.5  0.1]\n",
      " [ 5.   3.2  1.2  0.2]\n",
      " [ 5.5  3.5  1.3  0.2]\n",
      " [ 4.9  3.1  1.5  0.1]\n",
      " [ 4.4  3.   1.3  0.2]\n",
      " [ 5.1  3.4  1.5  0.2]\n",
      " [ 5.   3.5  1.3  0.3]\n",
      " [ 4.5  2.3  1.3  0.3]\n",
      " [ 4.4  3.2  1.3  0.2]\n",
      " [ 5.   3.5  1.6  0.6]\n",
      " [ 5.1  3.8  1.9  0.4]\n",
      " [ 4.8  3.   1.4  0.3]\n",
      " [ 5.1  3.8  1.6  0.2]\n",
      " [ 4.6  3.2  1.4  0.2]\n",
      " [ 5.3  3.7  1.5  0.2]\n",
      " [ 5.   3.3  1.4  0.2]\n",
      " [ 7.   3.2  4.7  1.4]\n",
      " [ 6.4  3.2  4.5  1.5]\n",
      " [ 6.9  3.1  4.9  1.5]\n",
      " [ 5.5  2.3  4.   1.3]\n",
      " [ 6.5  2.8  4.6  1.5]\n",
      " [ 5.7  2.8  4.5  1.3]\n",
      " [ 6.3  3.3  4.7  1.6]\n",
      " [ 4.9  2.4  3.3  1. ]\n",
      " [ 6.6  2.9  4.6  1.3]\n",
      " [ 5.2  2.7  3.9  1.4]\n",
      " [ 5.   2.   3.5  1. ]\n",
      " [ 5.9  3.   4.2  1.5]\n",
      " [ 6.   2.2  4.   1. ]\n",
      " [ 6.1  2.9  4.7  1.4]\n",
      " [ 5.6  2.9  3.6  1.3]\n",
      " [ 6.7  3.1  4.4  1.4]\n",
      " [ 5.6  3.   4.5  1.5]\n",
      " [ 5.8  2.7  4.1  1. ]\n",
      " [ 6.2  2.2  4.5  1.5]\n",
      " [ 5.6  2.5  3.9  1.1]\n",
      " [ 5.9  3.2  4.8  1.8]\n",
      " [ 6.1  2.8  4.   1.3]\n",
      " [ 6.3  2.5  4.9  1.5]\n",
      " [ 6.1  2.8  4.7  1.2]\n",
      " [ 6.4  2.9  4.3  1.3]\n",
      " [ 6.6  3.   4.4  1.4]\n",
      " [ 6.8  2.8  4.8  1.4]\n",
      " [ 6.7  3.   5.   1.7]\n",
      " [ 6.   2.9  4.5  1.5]\n",
      " [ 5.7  2.6  3.5  1. ]\n",
      " [ 5.5  2.4  3.8  1.1]\n",
      " [ 5.5  2.4  3.7  1. ]\n",
      " [ 5.8  2.7  3.9  1.2]\n",
      " [ 6.   2.7  5.1  1.6]\n",
      " [ 5.4  3.   4.5  1.5]\n",
      " [ 6.   3.4  4.5  1.6]\n",
      " [ 6.7  3.1  4.7  1.5]\n",
      " [ 6.3  2.3  4.4  1.3]\n",
      " [ 5.6  3.   4.1  1.3]\n",
      " [ 5.5  2.5  4.   1.3]\n",
      " [ 5.5  2.6  4.4  1.2]\n",
      " [ 6.1  3.   4.6  1.4]\n",
      " [ 5.8  2.6  4.   1.2]\n",
      " [ 5.   2.3  3.3  1. ]\n",
      " [ 5.6  2.7  4.2  1.3]\n",
      " [ 5.7  3.   4.2  1.2]\n",
      " [ 5.7  2.9  4.2  1.3]\n",
      " [ 6.2  2.9  4.3  1.3]\n",
      " [ 5.1  2.5  3.   1.1]\n",
      " [ 5.7  2.8  4.1  1.3]\n",
      " [ 6.3  3.3  6.   2.5]\n",
      " [ 5.8  2.7  5.1  1.9]\n",
      " [ 7.1  3.   5.9  2.1]\n",
      " [ 6.3  2.9  5.6  1.8]\n",
      " [ 6.5  3.   5.8  2.2]\n",
      " [ 7.6  3.   6.6  2.1]\n",
      " [ 4.9  2.5  4.5  1.7]\n",
      " [ 7.3  2.9  6.3  1.8]\n",
      " [ 6.7  2.5  5.8  1.8]\n",
      " [ 7.2  3.6  6.1  2.5]\n",
      " [ 6.5  3.2  5.1  2. ]\n",
      " [ 6.4  2.7  5.3  1.9]\n",
      " [ 6.8  3.   5.5  2.1]\n",
      " [ 5.7  2.5  5.   2. ]\n",
      " [ 5.8  2.8  5.1  2.4]\n",
      " [ 6.4  3.2  5.3  2.3]\n",
      " [ 6.5  3.   5.5  1.8]\n",
      " [ 7.7  3.8  6.7  2.2]\n",
      " [ 7.7  2.6  6.9  2.3]\n",
      " [ 6.   2.2  5.   1.5]\n",
      " [ 6.9  3.2  5.7  2.3]\n",
      " [ 5.6  2.8  4.9  2. ]\n",
      " [ 7.7  2.8  6.7  2. ]\n",
      " [ 6.3  2.7  4.9  1.8]\n",
      " [ 6.7  3.3  5.7  2.1]\n",
      " [ 7.2  3.2  6.   1.8]\n",
      " [ 6.2  2.8  4.8  1.8]\n",
      " [ 6.1  3.   4.9  1.8]\n",
      " [ 6.4  2.8  5.6  2.1]\n",
      " [ 7.2  3.   5.8  1.6]\n",
      " [ 7.4  2.8  6.1  1.9]\n",
      " [ 7.9  3.8  6.4  2. ]\n",
      " [ 6.4  2.8  5.6  2.2]\n",
      " [ 6.3  2.8  5.1  1.5]\n",
      " [ 6.1  2.6  5.6  1.4]\n",
      " [ 7.7  3.   6.1  2.3]\n",
      " [ 6.3  3.4  5.6  2.4]\n",
      " [ 6.4  3.1  5.5  1.8]\n",
      " [ 6.   3.   4.8  1.8]\n",
      " [ 6.9  3.1  5.4  2.1]\n",
      " [ 6.7  3.1  5.6  2.4]\n",
      " [ 6.9  3.1  5.1  2.3]\n",
      " [ 5.8  2.7  5.1  1.9]\n",
      " [ 6.8  3.2  5.9  2.3]\n",
      " [ 6.7  3.3  5.7  2.5]\n",
      " [ 6.7  3.   5.2  2.3]\n",
      " [ 6.3  2.5  5.   1.9]\n",
      " [ 6.5  3.   5.2  2. ]\n",
      " [ 6.2  3.4  5.4  2.3]\n",
      " [ 5.9  3.   5.1  1.8]]\n"
     ]
    }
   ],
   "source": [
    "with open(\"data/iris.csv\", \"r\") as f:\n",
    "    lines = []\n",
    "    for line in f:\n",
    "        strs = line.split(\",\")[0:4]\n",
    "        lines.append([float(x) for x in strs])  # すべての要素をfloatに変換\n",
    "        \n",
    "    data = np.array(lines)\n",
    "    print(data)"
   ]
  },
  {
   "cell_type": "markdown",
   "metadata": {},
   "source": [
    "### ファイルの書き込み\n",
    "続いて、前項でnumpy配列として読み込んだデータを再びリストに戻し、スペース区切りのファイルとして再保存しよう。  \n",
    "処理の流れは次のようになる：\n",
    "\n",
    "1. os.makedirsとos.path.existsの組み合わせで出力先のフォルダを作成する\n",
    "2. open関数で書き込み用にファイルを開く\n",
    "3. numpy配列をtolist関数でリストに戻す\n",
    "4. 各行をスペース区切りの文字列として、ファイルに書き込む\n",
    "\n",
    "その際、使用する関数は次のとおりである。これらはPythonのデータ処理で頻出するので覚えておこう。\n",
    "\n",
    "* os.path.join(str1, str2, ...)：パスの連結。\"/\"の有無を吸収してパスを結合してくれるので、文字列を単純に連結するより安全\n",
    "* os.path.exists(path)：そのパスにファイルまたはディレクトリが存在するかを返す\n",
    "* os.makedirs(path)：新規ディレクトリを作成する。ただし、すでに作成済みである場合にはエラーを返すので常にその存在性を注意する必要がある\n",
    "* f.write(str)：ファイルの末尾の行に文字列を書き込む\n",
    "* tolist()：numpy配列を通常のリストに変換する"
   ]
  },
  {
   "cell_type": "code",
   "execution_count": 34,
   "metadata": {
    "collapsed": true
   },
   "outputs": [],
   "source": [
    "import os\n",
    "outdir_name = \"outputs\"\n",
    "outpath = os.path.join(outdir_name, \"processed.txt\")\n",
    "\n",
    "if not os.path.exists(outdir_name):  # もしディレクトリが存在しなければ\n",
    "    os.makedirs(outdir_name)  # outdir_nameと同じ名前のディレクトリを作成する\n",
    "                       \n",
    "with open(outpath, \"w\") as f:  # 書き込み用\n",
    "    for line_data in data.tolist():\n",
    "        f.write(\" \".join([str(x) for x in line_data]) + \"\\n\")  # 末尾に改行を加える"
   ]
  },
  {
   "cell_type": "markdown",
   "metadata": {},
   "source": [
    "## 書いてみよう：irisデータの読み書き\n",
    "Q: Irisデータセットの品種名は文字列で格納されているが、これは機械学習でラベルとして扱う場合には扱いづらい。\n",
    "\n",
    "* Setosa -> 0\n",
    "* Verisicolor -> 1\n",
    "* Virginica -> 2\n",
    "\n",
    "というIDを振り、5列目を品種名ではなく品種IDに書き換えたものをoutputs/iris_with_label.csvとしてカンマ区切りで出力せよ。\n",
    "\n",
    "### ヒント：\n",
    "* str.replaceを用いる\n",
    "* 各行の文字列を置換するだけで今回の操作は実現できる (数値に変換する必要はない)"
   ]
  },
  {
   "cell_type": "code",
   "execution_count": 1,
   "metadata": {
    "collapsed": true
   },
   "outputs": [],
   "source": [
    "# WRITE ME!\n",
    "with open(\"data/iris.csv\", \"r\") as f:\n",
    "    with open(\"outputs/iris_with_label.csv\", \"w\") as fw:\n",
    "        for line in f:\n",
    "            line = line.replace(\"Iris-setosa\", \"0\")\n",
    "            line = line.replace(\"Iris-versicolor\", \"1\")\n",
    "            line = line.replace(\"Iris-virginica\", \"2\")\n",
    "            fw.write(line)"
   ]
  },
  {
   "cell_type": "markdown",
   "metadata": {},
   "source": [
    "### おまけ\n",
    "余裕があれば、次の関数を用いて、irisデータの各特徴の平均や分散を求めてみよう：\n",
    "* np.mean\n",
    "* np.var\n",
    "* np.sum\n",
    "\n",
    "各関数の解説は、numpyのリファレンスから読める：  \n",
    "https://docs.scipy.org/doc/numpy/reference/"
   ]
  },
  {
   "cell_type": "code",
   "execution_count": 36,
   "metadata": {
    "collapsed": true
   },
   "outputs": [],
   "source": [
    "#WRITE ME!"
   ]
  }
 ],
 "metadata": {
  "kernelspec": {
   "display_name": "Python 3",
   "language": "python",
   "name": "python3"
  },
  "language_info": {
   "codemirror_mode": {
    "name": "ipython",
    "version": 3
   },
   "file_extension": ".py",
   "mimetype": "text/x-python",
   "name": "python",
   "nbconvert_exporter": "python",
   "pygments_lexer": "ipython3",
   "version": "3.5.2"
  }
 },
 "nbformat": 4,
 "nbformat_minor": 2
}
