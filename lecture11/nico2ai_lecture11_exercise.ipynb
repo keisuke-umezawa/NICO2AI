{
 "cells": [
  {
   "cell_type": "markdown",
   "metadata": {},
   "source": [
    "# NICO2AI Lecture11 Reinforcement Learning I Exercise\n",
    "\n",
    "## OpenAI Gym\n",
    "- website https://gym.openai.com/\n",
    "\n",
    "OpenAI Gym is the AI environment provided by OpenAI. It offers a lot of tasks. See [here](https://gym.openai.com/envs).\n",
    "\n",
    "### multi-armed bandits\n",
    "OpenAI Gym is easily extended by adding new tasks. Here we use a third-party [multi-armed bandits environment](https://github.com/JKCooper2/gym-bandits). In this case, reinforcement learning settings should be\n",
    "\n",
    "- state: none\n",
    "- reward: stochastic hit (0/1)\n",
    "- action: bandit number out of 10\n",
    "- value: hit rate\n",
    "\n",
    "Let's see the following codes."
   ]
  },
  {
   "cell_type": "code",
   "execution_count": null,
   "metadata": {},
   "outputs": [],
   "source": [
    "%matplotlib inline\n",
    "import numpy as np\n",
    "import gym\n",
    "import gym_bandits\n",
    "import random\n",
    "import matplotlib.pyplot as plt\n",
    "from IPython.display import display, clear_output\n",
    "\n",
    "env = gym.make(\"BanditTenArmedRandomFixed-v0\")"
   ]
  },
  {
   "cell_type": "markdown",
   "metadata": {},
   "source": [
    "Now you've made the gym environment instance. `gym` has the following interface.\n",
    "\n",
    "### `gym.reset()`\n",
    "resets environment.\n",
    "\n",
    "#### return\n",
    "- state: array value representing observations\n",
    "\n",
    "### `gym.step(action)`\n",
    "performs `action` at the current step.\n",
    "\n",
    "#### return\n",
    "- state: array value representing observations\n",
    "- reward: float (integer) value representing reward\n",
    "- done: boolean value representing the end of episode\n",
    "- info: dictionary value representing debug information\n",
    "\n",
    "Now you are ready to get into the bandit world. For the first exercise, fill blanks to make epsilon-greedy agent and change the epsilon value to see how it affects performance."
   ]
  },
  {
   "cell_type": "code",
   "execution_count": null,
   "metadata": {},
   "outputs": [],
   "source": [
    "epsilon = 0.3\n",
    "hit_count = 0\n",
    "rates = []\n",
    "data = []\n",
    "for i in range(10):\n",
    "    data.append({'hit': 0, 'count': 0})\n",
    "\n",
    "def choose_action(data, epsilon):\n",
    "    # code here\n",
    "    \n",
    "env.reset()\n",
    "for i in range(1000):\n",
    "    action = choose_action(data, epsilon)\n",
    "    _, reward, _, _ = env.step(action)\n",
    "    data[action]['hit'] += reward\n",
    "    data[action]['count'] += 1\n",
    "    hit_count += reward\n",
    "    rates.append(float(hit_count) / (i + 1))\n",
    "\n",
    "plt.plot(np.arange(1000), np.array(rates))"
   ]
  },
  {
   "cell_type": "markdown",
   "metadata": {},
   "source": [
    "Hooray! Now you've made simple reinforcement learning agent! Next, try making softmax exploration and change tau to see how it affects performance."
   ]
  },
  {
   "cell_type": "code",
   "execution_count": null,
   "metadata": {},
   "outputs": [],
   "source": [
    "hit_count = 0\n",
    "tau = 1.0\n",
    "rates = []\n",
    "data = []\n",
    "for i in range(10):\n",
    "    data.append({'hit': 0, 'count': 0})\n",
    "\n",
    "def choose_action(data, epsilon):\n",
    "    # code here\n",
    "    dist = # softmax distribution\n",
    "    return np.random.choice(10, p=dist)\n",
    "    \n",
    "env.reset()\n",
    "for i in range(1000):\n",
    "    action = choose_action(data, epsilon)\n",
    "    _, reward, _, _ = env.step(action)\n",
    "    data[action]['hit'] += reward\n",
    "    data[action]['count'] += 1\n",
    "    hit_count += reward\n",
    "    rates.append(float(hit_count) / (i + 1))\n",
    "\n",
    "plt.plot(np.arange(1000), np.array(rates))"
   ]
  },
  {
   "cell_type": "markdown",
   "metadata": {},
   "source": [
    "Finally, you have still UCB1 exploration. Let's make it!"
   ]
  },
  {
   "cell_type": "code",
   "execution_count": null,
   "metadata": {},
   "outputs": [],
   "source": [
    "hit_count = 0\n",
    "rates = []\n",
    "data = []\n",
    "for i in range(10):\n",
    "    data.append({'hit': 0, 'count': 0})\n",
    "\n",
    "def choose_action(data, epsilon):\n",
    "    total_count = # total visiting count\n",
    "    #\n",
    "    # code here\n",
    "    #\n",
    "    b = # B value array\n",
    "    return np.argmax(b)\n",
    "    \n",
    "env.reset()\n",
    "for i in range(1000):\n",
    "    action = choose_action(data, epsilon)\n",
    "    _, reward, _, _ = env.step(action)\n",
    "    data[action]['hit'] += reward\n",
    "    data[action]['count'] += 1\n",
    "    hit_count += reward\n",
    "    rates.append(float(hit_count) / (i + 1))\n",
    "\n",
    "plt.plot(np.arange(1000), np.array(rates))"
   ]
  },
  {
   "cell_type": "markdown",
   "metadata": {},
   "source": [
    "Congratulation!! You've done all exercise of lecture11!!"
   ]
  },
  {
   "cell_type": "code",
   "execution_count": null,
   "metadata": {
    "collapsed": true
   },
   "outputs": [],
   "source": []
  }
 ],
 "metadata": {
  "kernelspec": {
   "display_name": "Python 3",
   "language": "python",
   "name": "python3"
  },
  "language_info": {
   "codemirror_mode": {
    "name": "ipython",
    "version": 3
   },
   "file_extension": ".py",
   "mimetype": "text/x-python",
   "name": "python",
   "nbconvert_exporter": "python",
   "pygments_lexer": "ipython3",
   "version": "3.6.1"
  }
 },
 "nbformat": 4,
 "nbformat_minor": 2
}
