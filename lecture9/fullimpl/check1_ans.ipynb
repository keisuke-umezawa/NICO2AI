{
 "cells": [
  {
   "cell_type": "markdown",
   "metadata": {},
   "source": [
    "# 第9回: RNN (Check1)\n",
    "## 目標\n",
    "- 適当な決定性オートマトンに従うシンボル列の学習を行う\n",
    "- Chainerで単純なRNNを実装する\n",
    "- RNNの記憶容量の限界を検証する"
   ]
  },
  {
   "cell_type": "markdown",
   "metadata": {},
   "source": [
    "### 実装\n",
    "ここでは単純な一層のリカレントニューラルネットワークの実装を学びます。"
   ]
  },
  {
   "cell_type": "markdown",
   "metadata": {},
   "source": [
    "### おまじない\n",
    "必要なモジュールを`import`しましょう。そろそろ見慣れてきましたね。"
   ]
  },
  {
   "cell_type": "code",
   "execution_count": 3,
   "metadata": {
    "collapsed": true
   },
   "outputs": [],
   "source": [
    "%matplotlib inline\n",
    "import chainer\n",
    "from chainer import cuda, Function\n",
    "from chainer import Link, Chain, ChainList\n",
    "import chainer.functions as F\n",
    "import chainer.links as L\n",
    "import numpy as np\n",
    "import matplotlib.pyplot as plt"
   ]
  },
  {
   "cell_type": "markdown",
   "metadata": {},
   "source": [
    "### L.LSTMを使った書き方\n",
    "chainerでRNNを実装する際に、最も簡単に書く方法は以下のように`Chainer.Link`にある`LSTM`モジュールを使うことです。"
   ]
  },
  {
   "cell_type": "code",
   "execution_count": 4,
   "metadata": {
    "collapsed": true
   },
   "outputs": [],
   "source": [
    "# SimpleRNN: \n",
    "class SimpleRNN(Chain):\n",
    "    def __init__(\n",
    "        self,\n",
    "        n_input,\n",
    "        n_hidden,\n",
    "        n_output,\n",
    "        train=True\n",
    "    ):\n",
    "        super(SimpleRNN, self).__init__()\n",
    "        with self.init_scope():\n",
    "            self.l1 = L.LSTM(n_input, n_hidden)\n",
    "            self.l2 = L.Lineary(n_hidden, n_output)\n",
    "            \n",
    "    def __call__(self, x):\n",
    "        h = self.l1(x)\n",
    "        y = self.l2(h)\n",
    "        return y\n",
    "    \n",
    "    def clear_state(self):\n",
    "        self.l1.reset_state()"
   ]
  },
  {
   "cell_type": "markdown",
   "metadata": {},
   "source": [
    "しかし、これでは(LSTMを使っているため)\"純粋な\"RNN\"ではなくなってしまいます。\n",
    "\n",
    "今回は`Link.LSTM`があることは忘れて、一つ一つ自分で実装することにしましょう。"
   ]
  },
  {
   "cell_type": "markdown",
   "metadata": {},
   "source": [
    "## (練習課題.1)MySimpleRNNの実装\n",
    "### 単純な時系列データの学習"
   ]
  },
  {
   "cell_type": "code",
   "execution_count": 5,
   "metadata": {
    "collapsed": true
   },
   "outputs": [],
   "source": [
    "trans = [0, 1, 1, 1, 1]"
   ]
  },
  {
   "cell_type": "markdown",
   "metadata": {},
   "source": [
    "### 周期信号の作製\n",
    "有限決定性オートマトンの状態遷移関数を`generator`を使って作成しましょう。\n",
    "`generator`では、入力パラメータを得て、直ちに一つの値を返す「普通の」関数とは異なり、\n",
    "「一旦何らかの値を返して、しばらく後に、その時点から処理を再開する」関数を作成することが出来ます。間隔をあけて値を生成することができるため、ジェネレータ関数と呼ばれています。\n",
    "\n",
    "ジェネレータを使うことによって、値を前もって用意する必要がなくなります。\n",
    "ここでは、0の次に1がn回続いてまた0が現れる、そしてまた1がn回続くといったオートマトンを表す遷移関数をジェネレータで作成してみることにします。"
   ]
  },
  {
   "cell_type": "markdown",
   "metadata": {},
   "source": [
    "ジェネレータでは、値を渡すのに`return`ステートメントの代わりに`yield`ステートメントを使用します。`yield`ステートメントを使用した場合、関数は呼び出し元に値を返した後に、終了するのではなく、処理を中断します。そのときに、ステート情報が保持されるため、一時停止したポイントから再度呼び出されたときに処理を再開することが出来ます。\n",
    "\n",
    "今回の実装では、「0を`yield`したあと、1を指定回数分`yield`する」という繰り返し処理を記述すれば良いことになります。\n",
    "\n",
    "例えば、こんな風に..."
   ]
  },
  {
   "cell_type": "code",
   "execution_count": 6,
   "metadata": {
    "collapsed": true
   },
   "outputs": [],
   "source": [
    "def trans_func(n_one=5):\n",
    "    while True:\n",
    "        yield 0\n",
    "        for i in range(n_one):\n",
    "            yield 1"
   ]
  },
  {
   "cell_type": "markdown",
   "metadata": {},
   "source": [
    "ジェネレータ関数は、ジェネレータオブジェクトを生成することが出来ます。"
   ]
  },
  {
   "cell_type": "code",
   "execution_count": 7,
   "metadata": {
    "collapsed": true
   },
   "outputs": [],
   "source": [
    "# create a generator\n",
    "gen = trans_func(3)"
   ]
  },
  {
   "cell_type": "markdown",
   "metadata": {},
   "source": [
    "ジェネレータオブジェクトは[イテレータプロトコル](https://docs.python.jp/3/c-api/iter.html)をサポートします。\n",
    "イテレータプロトコルについては、詳しくは述べませんが、繰り返し処理に関する最低限の取り決めと考えて良いでしょう。\n",
    "イテレータプロトコルをサポートする関数は`__next__`メソッドを持っています。このメソッドを呼ぶと、`yield`で中断された処理を再開することが出来ます。再開後、また`yield`することもあるし、`yield`すべき値が無いと`StopIteration`という例外を投げて終わりを知らせてくれます。\n",
    "なお、先程作成した`trans_func`ジェネレータ関数には終わりは来ません。永遠と`yield`し続けます。"
   ]
  },
  {
   "cell_type": "markdown",
   "metadata": {},
   "source": [
    "`__next__`メソッドを何回か呼んでみて「0の次に1がn回続く」という繰り返しが実装できているか確認しましょう。"
   ]
  },
  {
   "cell_type": "code",
   "execution_count": 8,
   "metadata": {
    "scrolled": true
   },
   "outputs": [
    {
     "data": {
      "text/plain": [
       "0"
      ]
     },
     "execution_count": 8,
     "metadata": {},
     "output_type": "execute_result"
    }
   ],
   "source": [
    "gen.__next__()"
   ]
  },
  {
   "cell_type": "markdown",
   "metadata": {},
   "source": [
    "さて、ジェネレータの考え方が少しわかったところで、実際に時系列データを作成してみます。"
   ]
  },
  {
   "cell_type": "code",
   "execution_count": 9,
   "metadata": {},
   "outputs": [
    {
     "name": "stdout",
     "output_type": "stream",
     "text": [
      "[0, 1, 1, 1, 0, 1, 1, 1, 0, 1, 1, 1, 0, 1, 1, 1, 0, 1, 1, 1]\n"
     ]
    }
   ],
   "source": [
    "stseq = []\n",
    "gen = trans_func(3)\n",
    "for i in range(20):\n",
    "    stseq.append(gen.__next__())\n",
    "print(stseq)"
   ]
  },
  {
   "cell_type": "markdown",
   "metadata": {},
   "source": [
    "「0の後に1が3回続く」という繰り返しを5回持った時系列データを、配列`stseq`に格納しました。\n",
    "感の良い方は気付いてしまったかもしれませんが、ジェネレータはすべての値を含んだデータを用意する必要がないところに利用価値がありました。\n",
    "したがって、このようにジェネレータを使ってデータセットを予め用意するのは本来であればナンセンスなのですが、\n",
    "こちらのほうが見通しが良いので今回はこのまま解説をしていきたいと思います。\n",
    "\n",
    "まずはじめに、このデータを学習させてみましょう。"
   ]
  },
  {
   "cell_type": "markdown",
   "metadata": {},
   "source": [
    "### MySimpleRNNの実装\n",
    "以上のような時系列データを扱うことができるRNNを実装してみましょう。"
   ]
  },
  {
   "cell_type": "code",
   "execution_count": 10,
   "metadata": {
    "collapsed": true
   },
   "outputs": [],
   "source": [
    "class MySimpleRNN(chainer.Chain):\n",
    "    def __init__(\n",
    "        self,\n",
    "        n_input,\n",
    "        n_hidden,\n",
    "        n_output,\n",
    "    ):\n",
    "        super(MySimpleRNN, self).__init__()\n",
    "        with self.init_scope():\n",
    "            self.embed = L.EmbedID(n_input, n_hidden)\n",
    "            self.H = L.Linear(n_hidden, n_hidden)\n",
    "            self.W = L.Linear(n_hidden, n_output)\n",
    "            \n",
    "        self.n_input = n_input\n",
    "        self.n_hidden = n_hidden\n",
    "        self.n_output = n_output\n",
    "            \n",
    "    def __call__(self, x_in, train=False):\n",
    "        # x_in will be like [0, 1, 1, 1, 0]\n",
    "        rval = None\n",
    "        h = np.zeros((1, self.n_hidden), dtype=np.float32)\n",
    "        for i in range(len(x_in) - 1):\n",
    "            # techer (should points at the next element)\n",
    "            tx = np.array([x_in[i + 1]], dtype=np.int32)\n",
    "            \n",
    "            # feed input\n",
    "            x_k = self.embed(\n",
    "                np.array([x_in[i]], dtype=np.int32)\n",
    "            )\n",
    "            \n",
    "            # update hidden states\n",
    "            h = F.tanh(x_k + self.H(h))\n",
    "            \n",
    "            # update output states\n",
    "            y_k = self.W(h)\n",
    "            \n",
    "            # print(y_k.data, tx)\n",
    "            # loss = F.softmax_cross_entropy(np.array([[0.4]], dtype=np.float32), tx)\n",
    "            if train:\n",
    "                # compute loss\n",
    "                loss = self.loss_func(y_k, tx)\n",
    "                rval = loss if rval is None else rval + loss\n",
    "            else:\n",
    "                # make prediction\n",
    "                output = self.output_func(y_k)\n",
    "                # print(output)\n",
    "                rval = [output] if rval is None else rval + [output]\n",
    "                \n",
    "        return rval\n",
    "    \n",
    "    def output_func(self, h):\n",
    "        return F.softmax(h)\n",
    "\n",
    "    def loss_func(self, y, t):\n",
    "        return F.softmax_cross_entropy(y, t)"
   ]
  },
  {
   "cell_type": "markdown",
   "metadata": {},
   "source": [
    "### 時系列データの学習"
   ]
  },
  {
   "cell_type": "markdown",
   "metadata": {},
   "source": [
    "さて、いい感じにクラスが作れたので実際にモデルを学習させていきましょう。"
   ]
  },
  {
   "cell_type": "code",
   "execution_count": 11,
   "metadata": {
    "scrolled": true
   },
   "outputs": [
    {
     "name": "stdout",
     "output_type": "stream",
     "text": [
      "epoch:  0, loss: 9.763\n",
      "epoch:  1, loss: 9.420\n",
      "epoch:  2, loss: 9.095\n",
      "epoch:  3, loss: 8.789\n",
      "epoch:  4, loss: 8.500\n",
      "epoch:  5, loss: 8.229\n",
      "epoch:  6, loss: 7.974\n",
      "epoch:  7, loss: 7.736\n",
      "epoch:  8, loss: 7.513\n",
      "epoch:  9, loss: 7.304\n",
      "epoch: 10, loss: 7.109\n",
      "epoch: 11, loss: 6.926\n",
      "epoch: 12, loss: 6.755\n",
      "epoch: 13, loss: 6.594\n",
      "epoch: 14, loss: 6.441\n",
      "epoch: 15, loss: 6.297\n",
      "epoch: 16, loss: 6.159\n",
      "epoch: 17, loss: 6.028\n",
      "epoch: 18, loss: 5.902\n",
      "epoch: 19, loss: 5.780\n",
      "epoch: 20, loss: 5.662\n",
      "epoch: 21, loss: 5.548\n",
      "epoch: 22, loss: 5.437\n",
      "epoch: 23, loss: 5.329\n",
      "epoch: 24, loss: 5.224\n",
      "epoch: 25, loss: 5.121\n",
      "epoch: 26, loss: 5.020\n",
      "epoch: 27, loss: 4.922\n",
      "epoch: 28, loss: 4.826\n",
      "epoch: 29, loss: 4.731\n",
      "epoch: 30, loss: 4.639\n",
      "epoch: 31, loss: 4.549\n",
      "epoch: 32, loss: 4.460\n",
      "epoch: 33, loss: 4.373\n",
      "epoch: 34, loss: 4.288\n",
      "epoch: 35, loss: 4.205\n",
      "epoch: 36, loss: 4.123\n",
      "epoch: 37, loss: 4.043\n",
      "epoch: 38, loss: 3.964\n",
      "epoch: 39, loss: 3.886\n",
      "epoch: 40, loss: 3.810\n",
      "epoch: 41, loss: 3.735\n",
      "epoch: 42, loss: 3.662\n",
      "epoch: 43, loss: 3.590\n",
      "epoch: 44, loss: 3.519\n",
      "epoch: 45, loss: 3.449\n",
      "epoch: 46, loss: 3.380\n",
      "epoch: 47, loss: 3.313\n",
      "epoch: 48, loss: 3.247\n",
      "epoch: 49, loss: 3.181\n",
      "epoch: 50, loss: 3.117\n",
      "epoch: 51, loss: 3.055\n",
      "epoch: 52, loss: 2.993\n",
      "epoch: 53, loss: 2.933\n",
      "epoch: 54, loss: 2.873\n",
      "epoch: 55, loss: 2.815\n",
      "epoch: 56, loss: 2.758\n",
      "epoch: 57, loss: 2.702\n",
      "epoch: 58, loss: 2.647\n",
      "epoch: 59, loss: 2.593\n",
      "epoch: 60, loss: 2.540\n",
      "epoch: 61, loss: 2.489\n",
      "epoch: 62, loss: 2.438\n",
      "epoch: 63, loss: 2.389\n",
      "epoch: 64, loss: 2.340\n",
      "epoch: 65, loss: 2.293\n",
      "epoch: 66, loss: 2.247\n",
      "epoch: 67, loss: 2.201\n",
      "epoch: 68, loss: 2.157\n",
      "epoch: 69, loss: 2.113\n",
      "epoch: 70, loss: 2.071\n",
      "epoch: 71, loss: 2.030\n",
      "epoch: 72, loss: 1.989\n",
      "epoch: 73, loss: 1.949\n",
      "epoch: 74, loss: 1.911\n",
      "epoch: 75, loss: 1.873\n",
      "epoch: 76, loss: 1.836\n",
      "epoch: 77, loss: 1.800\n",
      "epoch: 78, loss: 1.765\n",
      "epoch: 79, loss: 1.731\n",
      "epoch: 80, loss: 1.697\n",
      "epoch: 81, loss: 1.664\n",
      "epoch: 82, loss: 1.633\n",
      "epoch: 83, loss: 1.601\n",
      "epoch: 84, loss: 1.571\n",
      "epoch: 85, loss: 1.541\n",
      "epoch: 86, loss: 1.512\n",
      "epoch: 87, loss: 1.484\n",
      "epoch: 88, loss: 1.457\n",
      "epoch: 89, loss: 1.430\n",
      "epoch: 90, loss: 1.404\n",
      "epoch: 91, loss: 1.378\n",
      "epoch: 92, loss: 1.353\n",
      "epoch: 93, loss: 1.329\n",
      "epoch: 94, loss: 1.305\n",
      "epoch: 95, loss: 1.282\n",
      "epoch: 96, loss: 1.259\n",
      "epoch: 97, loss: 1.237\n",
      "epoch: 98, loss: 1.216\n",
      "epoch: 99, loss: 1.195\n",
      "epoch: 100, loss: 1.175\n",
      "epoch: 101, loss: 1.155\n",
      "epoch: 102, loss: 1.135\n",
      "epoch: 103, loss: 1.116\n",
      "epoch: 104, loss: 1.098\n",
      "epoch: 105, loss: 1.080\n",
      "epoch: 106, loss: 1.062\n",
      "epoch: 107, loss: 1.045\n",
      "epoch: 108, loss: 1.028\n",
      "epoch: 109, loss: 1.012\n",
      "epoch: 110, loss: 0.996\n",
      "epoch: 111, loss: 0.980\n",
      "epoch: 112, loss: 0.965\n",
      "epoch: 113, loss: 0.950\n",
      "epoch: 114, loss: 0.935\n",
      "epoch: 115, loss: 0.921\n",
      "epoch: 116, loss: 0.907\n",
      "epoch: 117, loss: 0.894\n",
      "epoch: 118, loss: 0.880\n",
      "epoch: 119, loss: 0.867\n",
      "epoch: 120, loss: 0.855\n",
      "epoch: 121, loss: 0.842\n",
      "epoch: 122, loss: 0.830\n",
      "epoch: 123, loss: 0.818\n",
      "epoch: 124, loss: 0.807\n",
      "epoch: 125, loss: 0.795\n",
      "epoch: 126, loss: 0.784\n",
      "epoch: 127, loss: 0.774\n",
      "epoch: 128, loss: 0.763\n",
      "epoch: 129, loss: 0.753\n",
      "epoch: 130, loss: 0.743\n",
      "epoch: 131, loss: 0.733\n",
      "epoch: 132, loss: 0.723\n",
      "epoch: 133, loss: 0.713\n",
      "epoch: 134, loss: 0.704\n",
      "epoch: 135, loss: 0.695\n",
      "epoch: 136, loss: 0.686\n",
      "epoch: 137, loss: 0.677\n",
      "epoch: 138, loss: 0.669\n",
      "epoch: 139, loss: 0.660\n",
      "epoch: 140, loss: 0.652\n",
      "epoch: 141, loss: 0.644\n",
      "epoch: 142, loss: 0.636\n",
      "epoch: 143, loss: 0.628\n",
      "epoch: 144, loss: 0.621\n",
      "epoch: 145, loss: 0.613\n",
      "epoch: 146, loss: 0.606\n",
      "epoch: 147, loss: 0.599\n",
      "epoch: 148, loss: 0.592\n",
      "epoch: 149, loss: 0.585\n",
      "epoch: 150, loss: 0.578\n",
      "epoch: 151, loss: 0.571\n",
      "epoch: 152, loss: 0.565\n",
      "epoch: 153, loss: 0.558\n",
      "epoch: 154, loss: 0.552\n",
      "epoch: 155, loss: 0.546\n",
      "epoch: 156, loss: 0.540\n",
      "epoch: 157, loss: 0.534\n",
      "epoch: 158, loss: 0.528\n",
      "epoch: 159, loss: 0.522\n",
      "epoch: 160, loss: 0.517\n",
      "epoch: 161, loss: 0.511\n",
      "epoch: 162, loss: 0.506\n",
      "epoch: 163, loss: 0.500\n",
      "epoch: 164, loss: 0.495\n",
      "epoch: 165, loss: 0.490\n",
      "epoch: 166, loss: 0.485\n",
      "epoch: 167, loss: 0.480\n",
      "epoch: 168, loss: 0.475\n",
      "epoch: 169, loss: 0.470\n",
      "epoch: 170, loss: 0.465\n",
      "epoch: 171, loss: 0.460\n",
      "epoch: 172, loss: 0.456\n",
      "epoch: 173, loss: 0.451\n",
      "epoch: 174, loss: 0.447\n",
      "epoch: 175, loss: 0.442\n",
      "epoch: 176, loss: 0.438\n",
      "epoch: 177, loss: 0.434\n",
      "epoch: 178, loss: 0.429\n",
      "epoch: 179, loss: 0.425\n",
      "epoch: 180, loss: 0.421\n",
      "epoch: 181, loss: 0.417\n",
      "epoch: 182, loss: 0.413\n",
      "epoch: 183, loss: 0.409\n",
      "epoch: 184, loss: 0.405\n",
      "epoch: 185, loss: 0.402\n",
      "epoch: 186, loss: 0.398\n",
      "epoch: 187, loss: 0.394\n",
      "epoch: 188, loss: 0.391\n",
      "epoch: 189, loss: 0.387\n",
      "epoch: 190, loss: 0.384\n",
      "epoch: 191, loss: 0.380\n",
      "epoch: 192, loss: 0.377\n",
      "epoch: 193, loss: 0.373\n",
      "epoch: 194, loss: 0.370\n",
      "epoch: 195, loss: 0.367\n",
      "epoch: 196, loss: 0.363\n",
      "epoch: 197, loss: 0.360\n",
      "epoch: 198, loss: 0.357\n",
      "epoch: 199, loss: 0.354\n",
      "epoch: 200, loss: 0.351\n",
      "epoch: 201, loss: 0.348\n",
      "epoch: 202, loss: 0.345\n",
      "epoch: 203, loss: 0.342\n",
      "epoch: 204, loss: 0.339\n",
      "epoch: 205, loss: 0.336\n",
      "epoch: 206, loss: 0.333\n",
      "epoch: 207, loss: 0.331\n",
      "epoch: 208, loss: 0.328\n",
      "epoch: 209, loss: 0.325\n",
      "epoch: 210, loss: 0.323\n",
      "epoch: 211, loss: 0.320\n",
      "epoch: 212, loss: 0.317\n",
      "epoch: 213, loss: 0.315\n",
      "epoch: 214, loss: 0.312\n",
      "epoch: 215, loss: 0.310\n",
      "epoch: 216, loss: 0.307\n",
      "epoch: 217, loss: 0.305\n",
      "epoch: 218, loss: 0.302\n",
      "epoch: 219, loss: 0.300\n",
      "epoch: 220, loss: 0.298\n",
      "epoch: 221, loss: 0.295\n",
      "epoch: 222, loss: 0.293\n",
      "epoch: 223, loss: 0.291\n",
      "epoch: 224, loss: 0.288\n",
      "epoch: 225, loss: 0.286\n",
      "epoch: 226, loss: 0.284\n",
      "epoch: 227, loss: 0.282\n",
      "epoch: 228, loss: 0.280\n",
      "epoch: 229, loss: 0.278\n",
      "epoch: 230, loss: 0.275\n",
      "epoch: 231, loss: 0.273\n",
      "epoch: 232, loss: 0.271\n",
      "epoch: 233, loss: 0.269\n",
      "epoch: 234, loss: 0.267\n",
      "epoch: 235, loss: 0.265\n",
      "epoch: 236, loss: 0.263\n",
      "epoch: 237, loss: 0.261\n",
      "epoch: 238, loss: 0.260\n",
      "epoch: 239, loss: 0.258\n",
      "epoch: 240, loss: 0.256\n",
      "epoch: 241, loss: 0.254\n",
      "epoch: 242, loss: 0.252\n",
      "epoch: 243, loss: 0.250\n",
      "epoch: 244, loss: 0.249\n",
      "epoch: 245, loss: 0.247\n",
      "epoch: 246, loss: 0.245\n",
      "epoch: 247, loss: 0.243\n",
      "epoch: 248, loss: 0.242\n",
      "epoch: 249, loss: 0.240\n",
      "epoch: 250, loss: 0.238\n",
      "epoch: 251, loss: 0.237\n",
      "epoch: 252, loss: 0.235\n",
      "epoch: 253, loss: 0.233\n",
      "epoch: 254, loss: 0.232\n",
      "epoch: 255, loss: 0.230\n",
      "epoch: 256, loss: 0.229\n",
      "epoch: 257, loss: 0.227\n",
      "epoch: 258, loss: 0.226\n",
      "epoch: 259, loss: 0.224\n",
      "epoch: 260, loss: 0.222\n",
      "epoch: 261, loss: 0.221\n",
      "epoch: 262, loss: 0.220\n",
      "epoch: 263, loss: 0.218\n",
      "epoch: 264, loss: 0.217\n",
      "epoch: 265, loss: 0.215\n",
      "epoch: 266, loss: 0.214\n",
      "epoch: 267, loss: 0.212\n",
      "epoch: 268, loss: 0.211\n",
      "epoch: 269, loss: 0.210\n",
      "epoch: 270, loss: 0.208\n",
      "epoch: 271, loss: 0.207\n",
      "epoch: 272, loss: 0.206\n",
      "epoch: 273, loss: 0.204\n",
      "epoch: 274, loss: 0.203\n",
      "epoch: 275, loss: 0.202\n",
      "epoch: 276, loss: 0.200\n",
      "epoch: 277, loss: 0.199\n",
      "epoch: 278, loss: 0.198\n",
      "epoch: 279, loss: 0.197\n",
      "epoch: 280, loss: 0.195\n",
      "epoch: 281, loss: 0.194\n",
      "epoch: 282, loss: 0.193\n",
      "epoch: 283, loss: 0.192\n",
      "epoch: 284, loss: 0.191\n",
      "epoch: 285, loss: 0.189\n",
      "epoch: 286, loss: 0.188\n",
      "epoch: 287, loss: 0.187\n",
      "epoch: 288, loss: 0.186\n",
      "epoch: 289, loss: 0.185\n",
      "epoch: 290, loss: 0.184\n",
      "epoch: 291, loss: 0.183\n",
      "epoch: 292, loss: 0.181\n",
      "epoch: 293, loss: 0.180\n",
      "epoch: 294, loss: 0.179\n",
      "epoch: 295, loss: 0.178\n",
      "epoch: 296, loss: 0.177\n",
      "epoch: 297, loss: 0.176\n",
      "epoch: 298, loss: 0.175\n",
      "epoch: 299, loss: 0.174\n"
     ]
    }
   ],
   "source": [
    "myrnn = MySimpleRNN(n_input=2, n_hidden=20, n_output=2)\n",
    "optimizer = chainer.optimizers.Adam()\n",
    "optimizer.setup(myrnn)\n",
    "loss_results = []\n",
    "for e in range(300):\n",
    "    myrnn.zerograds()  # initialize gradients\n",
    "    loss = myrnn(stseq, train=True)  # get loss\n",
    "    loss.backward()  # compute backpropag\n",
    "    loss_results += [loss.data]\n",
    "    optimizer.update()\n",
    "    print('epoch: {:2d}, loss: {:.3f}'.format(e, float(loss.data)))"
   ]
  },
  {
   "cell_type": "code",
   "execution_count": 12,
   "metadata": {},
   "outputs": [
    {
     "data": {
      "image/png": "[encoded data removed]",
      "text/plain": [
       "<matplotlib.figure.Figure at 0x1098b1128>"
      ]
     },
     "metadata": {},
     "output_type": "display_data"
    }
   ],
   "source": [
    "plt.plot(loss_results, label='train')  # plot trained results\n",
    "plt.legend()  # show legend\n",
    "plt.show()"
   ]
  },
  {
   "cell_type": "markdown",
   "metadata": {},
   "source": [
    "### 評価"
   ]
  },
  {
   "cell_type": "markdown",
   "metadata": {},
   "source": [
    "しっかりとCross Entropyが下がっていることが確認できたところで、predictionをしてみます。"
   ]
  },
  {
   "cell_type": "code",
   "execution_count": 13,
   "metadata": {
    "collapsed": true
   },
   "outputs": [],
   "source": [
    "predicted = myrnn(stseq)"
   ]
  },
  {
   "cell_type": "code",
   "execution_count": 14,
   "metadata": {},
   "outputs": [
    {
     "name": "stdout",
     "output_type": "stream",
     "text": [
      "ph  1: teacher/pred: 1/1\n",
      "ph  2: teacher/pred: 1/1\n",
      "ph  3: teacher/pred: 1/1\n",
      "ph  4: teacher/pred: 0/0\n",
      "ph  5: teacher/pred: 1/1\n",
      "ph  6: teacher/pred: 1/1\n",
      "ph  7: teacher/pred: 1/1\n",
      "ph  8: teacher/pred: 0/0\n",
      "ph  9: teacher/pred: 1/1\n",
      "ph 10: teacher/pred: 1/1\n",
      "ph 11: teacher/pred: 1/1\n",
      "ph 12: teacher/pred: 0/0\n",
      "ph 13: teacher/pred: 1/1\n",
      "ph 14: teacher/pred: 1/1\n",
      "ph 15: teacher/pred: 1/1\n",
      "ph 16: teacher/pred: 0/0\n",
      "ph 17: teacher/pred: 1/1\n",
      "ph 18: teacher/pred: 1/1\n",
      "ph 19: teacher/pred: 1/1\n",
      "Accuracy: 100.0%\n"
     ]
    }
   ],
   "source": [
    "accuracy = []\n",
    "for i, p in enumerate(predicted):\n",
    "    teacher = stseq[i+1]\n",
    "    pred = np.argmax(p.data[0])\n",
    "    print('ph {:2d}: teacher/pred: {}/{}'.format(i+1, teacher, pred))\n",
    "    accuracy += [1 if teacher == pred else 0]\n",
    "print('Accuracy: {}%'.format(np.mean(accuracy) * 100))"
   ]
  },
  {
   "cell_type": "markdown",
   "metadata": {},
   "source": [
    "## (練習課題.2) 記憶容量の限界\n",
    "ここから実装したRNNに少し意地悪をしていきたいと思います。\n",
    "`MysimpleRNN`はどこまで記憶することができるでしょうか？"
   ]
  },
  {
   "cell_type": "markdown",
   "metadata": {},
   "source": [
    "### 時系列データの作製\n",
    "実装したジェネレータを使って少し複雑な時系列データを作ってみてください。"
   ]
  },
  {
   "cell_type": "code",
   "execution_count": 15,
   "metadata": {},
   "outputs": [
    {
     "name": "stdout",
     "output_type": "stream",
     "text": [
      "[0, 0, 1, 1, 1, 1, 1, 0, 1, 1, 1, 1, 1, 0, 1, 1, 1, 1, 1, 0, 1, 1, 0, 1, 1, 0, 1, 1, 1, 1, 1, 0, 1, 1, 1, 1, 1, 0, 1, 1, 1, 1, 1, 0, 0, 1, 1, 1, 1, 0, 1, 1, 1, 1, 1, 0, 1, 1, 1, 1]\n"
     ]
    }
   ],
   "source": [
    "# create a generator\n",
    "gen2a = trans_func(10)\n",
    "gen2b = trans_func(2)\n",
    "\n",
    "# create a status sequence data\n",
    "stseq2 = []\n",
    "for i in range(30):\n",
    "    stseq2.append(gen2a.__next__())\n",
    "    stseq2.append(gen2b.__next__())\n",
    "print(stseq2)"
   ]
  },
  {
   "cell_type": "code",
   "execution_count": 16,
   "metadata": {},
   "outputs": [
    {
     "data": {
      "image/png": "[encoded data removed]",
      "text/plain": [
       "<matplotlib.figure.Figure at 0x109a7f128>"
      ]
     },
     "metadata": {},
     "output_type": "display_data"
    }
   ],
   "source": [
    "plt.plot(stseq2,  label='stseq')\n",
    "plt.legend()\n",
    "plt.show()"
   ]
  },
  {
   "cell_type": "markdown",
   "metadata": {},
   "source": [
    "### 作成した時系列データの学習"
   ]
  },
  {
   "cell_type": "markdown",
   "metadata": {},
   "source": [
    "作成したデータを実際に学習させてみましょう。"
   ]
  },
  {
   "cell_type": "code",
   "execution_count": 16,
   "metadata": {
    "scrolled": true
   },
   "outputs": [
    {
     "name": "stdout",
     "output_type": "stream",
     "text": [
      "epoch:  0, loss: 40.000\n",
      "epoch:  1, loss: 39.175\n",
      "epoch:  2, loss: 38.388\n",
      "epoch:  3, loss: 37.641\n",
      "epoch:  4, loss: 36.934\n",
      "epoch:  5, loss: 36.264\n",
      "epoch:  6, loss: 35.633\n",
      "epoch:  7, loss: 35.039\n",
      "epoch:  8, loss: 34.481\n",
      "epoch:  9, loss: 33.958\n",
      "epoch: 10, loss: 33.470\n",
      "epoch: 11, loss: 33.013\n",
      "epoch: 12, loss: 32.587\n",
      "epoch: 13, loss: 32.189\n",
      "epoch: 14, loss: 31.818\n",
      "epoch: 15, loss: 31.471\n",
      "epoch: 16, loss: 31.148\n",
      "epoch: 17, loss: 30.845\n",
      "epoch: 18, loss: 30.561\n",
      "epoch: 19, loss: 30.294\n",
      "epoch: 20, loss: 30.042\n",
      "epoch: 21, loss: 29.803\n",
      "epoch: 22, loss: 29.577\n",
      "epoch: 23, loss: 29.360\n",
      "epoch: 24, loss: 29.153\n",
      "epoch: 25, loss: 28.953\n",
      "epoch: 26, loss: 28.760\n",
      "epoch: 27, loss: 28.574\n",
      "epoch: 28, loss: 28.394\n",
      "epoch: 29, loss: 28.218\n",
      "epoch: 30, loss: 28.048\n",
      "epoch: 31, loss: 27.881\n",
      "epoch: 32, loss: 27.719\n",
      "epoch: 33, loss: 27.561\n",
      "epoch: 34, loss: 27.406\n",
      "epoch: 35, loss: 27.254\n",
      "epoch: 36, loss: 27.105\n",
      "epoch: 37, loss: 26.959\n",
      "epoch: 38, loss: 26.815\n",
      "epoch: 39, loss: 26.673\n",
      "epoch: 40, loss: 26.532\n",
      "epoch: 41, loss: 26.392\n",
      "epoch: 42, loss: 26.254\n",
      "epoch: 43, loss: 26.116\n",
      "epoch: 44, loss: 25.979\n",
      "epoch: 45, loss: 25.842\n",
      "epoch: 46, loss: 25.706\n",
      "epoch: 47, loss: 25.570\n",
      "epoch: 48, loss: 25.435\n",
      "epoch: 49, loss: 25.299\n",
      "epoch: 50, loss: 25.164\n",
      "epoch: 51, loss: 25.029\n",
      "epoch: 52, loss: 24.895\n",
      "epoch: 53, loss: 24.760\n",
      "epoch: 54, loss: 24.626\n",
      "epoch: 55, loss: 24.491\n",
      "epoch: 56, loss: 24.356\n",
      "epoch: 57, loss: 24.221\n",
      "epoch: 58, loss: 24.086\n",
      "epoch: 59, loss: 23.951\n",
      "epoch: 60, loss: 23.815\n",
      "epoch: 61, loss: 23.679\n",
      "epoch: 62, loss: 23.543\n",
      "epoch: 63, loss: 23.406\n",
      "epoch: 64, loss: 23.270\n",
      "epoch: 65, loss: 23.134\n",
      "epoch: 66, loss: 22.998\n",
      "epoch: 67, loss: 22.862\n",
      "epoch: 68, loss: 22.726\n",
      "epoch: 69, loss: 22.591\n",
      "epoch: 70, loss: 22.457\n",
      "epoch: 71, loss: 22.323\n",
      "epoch: 72, loss: 22.191\n",
      "epoch: 73, loss: 22.059\n",
      "epoch: 74, loss: 21.928\n",
      "epoch: 75, loss: 21.798\n",
      "epoch: 76, loss: 21.670\n",
      "epoch: 77, loss: 21.543\n",
      "epoch: 78, loss: 21.417\n",
      "epoch: 79, loss: 21.292\n",
      "epoch: 80, loss: 21.169\n",
      "epoch: 81, loss: 21.047\n",
      "epoch: 82, loss: 20.927\n",
      "epoch: 83, loss: 20.808\n",
      "epoch: 84, loss: 20.690\n",
      "epoch: 85, loss: 20.574\n",
      "epoch: 86, loss: 20.459\n",
      "epoch: 87, loss: 20.345\n",
      "epoch: 88, loss: 20.232\n",
      "epoch: 89, loss: 20.120\n",
      "epoch: 90, loss: 20.009\n",
      "epoch: 91, loss: 19.899\n",
      "epoch: 92, loss: 19.790\n",
      "epoch: 93, loss: 19.681\n",
      "epoch: 94, loss: 19.574\n",
      "epoch: 95, loss: 19.466\n",
      "epoch: 96, loss: 19.360\n",
      "epoch: 97, loss: 19.253\n",
      "epoch: 98, loss: 19.148\n",
      "epoch: 99, loss: 19.042\n",
      "epoch: 100, loss: 18.937\n",
      "epoch: 101, loss: 18.832\n",
      "epoch: 102, loss: 18.727\n",
      "epoch: 103, loss: 18.622\n",
      "epoch: 104, loss: 18.517\n",
      "epoch: 105, loss: 18.413\n",
      "epoch: 106, loss: 18.308\n",
      "epoch: 107, loss: 18.203\n",
      "epoch: 108, loss: 18.098\n",
      "epoch: 109, loss: 17.993\n",
      "epoch: 110, loss: 17.887\n",
      "epoch: 111, loss: 17.781\n",
      "epoch: 112, loss: 17.675\n",
      "epoch: 113, loss: 17.569\n",
      "epoch: 114, loss: 17.462\n",
      "epoch: 115, loss: 17.355\n",
      "epoch: 116, loss: 17.248\n",
      "epoch: 117, loss: 17.140\n",
      "epoch: 118, loss: 17.033\n",
      "epoch: 119, loss: 16.924\n",
      "epoch: 120, loss: 16.816\n",
      "epoch: 121, loss: 16.707\n",
      "epoch: 122, loss: 16.597\n",
      "epoch: 123, loss: 16.488\n",
      "epoch: 124, loss: 16.378\n",
      "epoch: 125, loss: 16.268\n",
      "epoch: 126, loss: 16.157\n",
      "epoch: 127, loss: 16.047\n",
      "epoch: 128, loss: 15.936\n",
      "epoch: 129, loss: 15.825\n",
      "epoch: 130, loss: 15.714\n",
      "epoch: 131, loss: 15.602\n",
      "epoch: 132, loss: 15.490\n",
      "epoch: 133, loss: 15.378\n",
      "epoch: 134, loss: 15.266\n",
      "epoch: 135, loss: 15.154\n",
      "epoch: 136, loss: 15.042\n",
      "epoch: 137, loss: 14.929\n",
      "epoch: 138, loss: 14.816\n",
      "epoch: 139, loss: 14.704\n",
      "epoch: 140, loss: 14.591\n",
      "epoch: 141, loss: 14.478\n",
      "epoch: 142, loss: 14.365\n",
      "epoch: 143, loss: 14.252\n",
      "epoch: 144, loss: 14.139\n",
      "epoch: 145, loss: 14.026\n",
      "epoch: 146, loss: 13.914\n",
      "epoch: 147, loss: 13.802\n",
      "epoch: 148, loss: 13.690\n",
      "epoch: 149, loss: 13.578\n",
      "epoch: 150, loss: 13.467\n",
      "epoch: 151, loss: 13.357\n",
      "epoch: 152, loss: 13.247\n",
      "epoch: 153, loss: 13.138\n",
      "epoch: 154, loss: 13.030\n",
      "epoch: 155, loss: 12.923\n",
      "epoch: 156, loss: 12.818\n",
      "epoch: 157, loss: 12.713\n",
      "epoch: 158, loss: 12.610\n",
      "epoch: 159, loss: 12.508\n",
      "epoch: 160, loss: 12.407\n",
      "epoch: 161, loss: 12.308\n",
      "epoch: 162, loss: 12.211\n",
      "epoch: 163, loss: 12.115\n",
      "epoch: 164, loss: 12.021\n",
      "epoch: 165, loss: 11.928\n",
      "epoch: 166, loss: 11.838\n",
      "epoch: 167, loss: 11.749\n",
      "epoch: 168, loss: 11.661\n",
      "epoch: 169, loss: 11.576\n",
      "epoch: 170, loss: 11.492\n",
      "epoch: 171, loss: 11.410\n",
      "epoch: 172, loss: 11.329\n",
      "epoch: 173, loss: 11.250\n",
      "epoch: 174, loss: 11.173\n",
      "epoch: 175, loss: 11.097\n",
      "epoch: 176, loss: 11.023\n",
      "epoch: 177, loss: 10.950\n",
      "epoch: 178, loss: 10.879\n",
      "epoch: 179, loss: 10.809\n",
      "epoch: 180, loss: 10.740\n",
      "epoch: 181, loss: 10.673\n",
      "epoch: 182, loss: 10.607\n",
      "epoch: 183, loss: 10.543\n",
      "epoch: 184, loss: 10.479\n",
      "epoch: 185, loss: 10.417\n",
      "epoch: 186, loss: 10.356\n",
      "epoch: 187, loss: 10.296\n",
      "epoch: 188, loss: 10.237\n",
      "epoch: 189, loss: 10.179\n",
      "epoch: 190, loss: 10.122\n",
      "epoch: 191, loss: 10.065\n",
      "epoch: 192, loss: 10.010\n",
      "epoch: 193, loss: 9.956\n",
      "epoch: 194, loss: 9.902\n",
      "epoch: 195, loss: 9.850\n",
      "epoch: 196, loss: 9.798\n",
      "epoch: 197, loss: 9.747\n",
      "epoch: 198, loss: 9.696\n",
      "epoch: 199, loss: 9.647\n",
      "epoch: 200, loss: 9.598\n",
      "epoch: 201, loss: 9.549\n",
      "epoch: 202, loss: 9.502\n",
      "epoch: 203, loss: 9.455\n",
      "epoch: 204, loss: 9.408\n",
      "epoch: 205, loss: 9.363\n",
      "epoch: 206, loss: 9.318\n",
      "epoch: 207, loss: 9.273\n",
      "epoch: 208, loss: 9.229\n",
      "epoch: 209, loss: 9.186\n",
      "epoch: 210, loss: 9.144\n",
      "epoch: 211, loss: 9.102\n",
      "epoch: 212, loss: 9.060\n",
      "epoch: 213, loss: 9.019\n",
      "epoch: 214, loss: 8.979\n",
      "epoch: 215, loss: 8.939\n",
      "epoch: 216, loss: 8.900\n",
      "epoch: 217, loss: 8.862\n",
      "epoch: 218, loss: 8.824\n",
      "epoch: 219, loss: 8.786\n",
      "epoch: 220, loss: 8.750\n",
      "epoch: 221, loss: 8.713\n",
      "epoch: 222, loss: 8.678\n",
      "epoch: 223, loss: 8.642\n",
      "epoch: 224, loss: 8.608\n",
      "epoch: 225, loss: 8.574\n",
      "epoch: 226, loss: 8.540\n",
      "epoch: 227, loss: 8.507\n",
      "epoch: 228, loss: 8.474\n",
      "epoch: 229, loss: 8.442\n",
      "epoch: 230, loss: 8.411\n",
      "epoch: 231, loss: 8.380\n",
      "epoch: 232, loss: 8.349\n",
      "epoch: 233, loss: 8.319\n",
      "epoch: 234, loss: 8.289\n",
      "epoch: 235, loss: 8.259\n",
      "epoch: 236, loss: 8.230\n",
      "epoch: 237, loss: 8.201\n",
      "epoch: 238, loss: 8.173\n",
      "epoch: 239, loss: 8.145\n",
      "epoch: 240, loss: 8.117\n",
      "epoch: 241, loss: 8.090\n",
      "epoch: 242, loss: 8.063\n",
      "epoch: 243, loss: 8.036\n",
      "epoch: 244, loss: 8.009\n",
      "epoch: 245, loss: 7.983\n",
      "epoch: 246, loss: 7.957\n",
      "epoch: 247, loss: 7.931\n",
      "epoch: 248, loss: 7.905\n",
      "epoch: 249, loss: 7.879\n",
      "epoch: 250, loss: 7.853\n",
      "epoch: 251, loss: 7.828\n",
      "epoch: 252, loss: 7.802\n",
      "epoch: 253, loss: 7.777\n",
      "epoch: 254, loss: 7.752\n",
      "epoch: 255, loss: 7.727\n",
      "epoch: 256, loss: 7.701\n",
      "epoch: 257, loss: 7.676\n",
      "epoch: 258, loss: 7.651\n",
      "epoch: 259, loss: 7.625\n",
      "epoch: 260, loss: 7.600\n",
      "epoch: 261, loss: 7.575\n",
      "epoch: 262, loss: 7.549\n",
      "epoch: 263, loss: 7.523\n",
      "epoch: 264, loss: 7.497\n",
      "epoch: 265, loss: 7.471\n",
      "epoch: 266, loss: 7.445\n",
      "epoch: 267, loss: 7.419\n",
      "epoch: 268, loss: 7.392\n",
      "epoch: 269, loss: 7.366\n",
      "epoch: 270, loss: 7.339\n",
      "epoch: 271, loss: 7.311\n",
      "epoch: 272, loss: 7.284\n",
      "epoch: 273, loss: 7.256\n",
      "epoch: 274, loss: 7.228\n",
      "epoch: 275, loss: 7.199\n",
      "epoch: 276, loss: 7.170\n",
      "epoch: 277, loss: 7.141\n",
      "epoch: 278, loss: 7.111\n",
      "epoch: 279, loss: 7.081\n",
      "epoch: 280, loss: 7.050\n",
      "epoch: 281, loss: 7.019\n",
      "epoch: 282, loss: 6.988\n",
      "epoch: 283, loss: 6.956\n",
      "epoch: 284, loss: 6.923\n",
      "epoch: 285, loss: 6.890\n",
      "epoch: 286, loss: 6.857\n",
      "epoch: 287, loss: 6.822\n",
      "epoch: 288, loss: 6.788\n",
      "epoch: 289, loss: 6.753\n",
      "epoch: 290, loss: 6.717\n",
      "epoch: 291, loss: 6.680\n",
      "epoch: 292, loss: 6.643\n",
      "epoch: 293, loss: 6.605\n",
      "epoch: 294, loss: 6.567\n",
      "epoch: 295, loss: 6.528\n",
      "epoch: 296, loss: 6.488\n",
      "epoch: 297, loss: 6.447\n",
      "epoch: 298, loss: 6.406\n",
      "epoch: 299, loss: 6.364\n"
     ]
    }
   ],
   "source": [
    "myrnn2 = MySimpleRNN(n_input=2, n_hidden=20, n_output=2)\n",
    "optimizer2 = chainer.optimizers.Adam()\n",
    "optimizer2.setup(myrnn2)\n",
    "loss_results2 = []\n",
    "for e in range(300):\n",
    "    myrnn2.zerograds()\n",
    "    loss2 = myrnn2(stseq2, train=True)\n",
    "    loss2.backward()\n",
    "    loss_results2 += [loss2.data]\n",
    "    optimizer2.update()\n",
    "    print('epoch: {:2d}, loss: {:.3f}'.format(e, float(loss2.data)))"
   ]
  },
  {
   "cell_type": "markdown",
   "metadata": {},
   "source": [
    "学習過程のlossは以下のようになります。"
   ]
  },
  {
   "cell_type": "code",
   "execution_count": 18,
   "metadata": {},
   "outputs": [
    {
     "data": {
      "image/png": "[encoded data removed]",
      "text/plain": [
       "<matplotlib.figure.Figure at 0x110bcd860>"
      ]
     },
     "metadata": {},
     "output_type": "display_data"
    }
   ],
   "source": [
    "plt.plot(loss_results,  label='train1')\n",
    "plt.plot(loss_results2, label='train2')\n",
    "plt.legend()\n",
    "plt.show()"
   ]
  },
  {
   "cell_type": "markdown",
   "metadata": {},
   "source": [
    "### 評価"
   ]
  },
  {
   "cell_type": "code",
   "execution_count": 20,
   "metadata": {
    "collapsed": true,
    "scrolled": true
   },
   "outputs": [],
   "source": [
    "predicted2 = myrnn2(stseq2)"
   ]
  },
  {
   "cell_type": "code",
   "execution_count": 21,
   "metadata": {
    "scrolled": true
   },
   "outputs": [
    {
     "name": "stdout",
     "output_type": "stream",
     "text": [
      "ph  1: teacher/pred: 0/0\n",
      "ph  2: teacher/pred: 1/1\n",
      "ph  3: teacher/pred: 1/1\n",
      "ph  4: teacher/pred: 1/1\n",
      "ph  5: teacher/pred: 1/1\n",
      "ph  6: teacher/pred: 1/1\n",
      "ph  7: teacher/pred: 0/0\n",
      "ph  8: teacher/pred: 1/1\n",
      "ph  9: teacher/pred: 1/1\n",
      "ph 10: teacher/pred: 1/1\n",
      "ph 11: teacher/pred: 1/1\n",
      "ph 12: teacher/pred: 1/1\n",
      "ph 13: teacher/pred: 0/0\n",
      "ph 14: teacher/pred: 1/1\n",
      "ph 15: teacher/pred: 1/1\n",
      "ph 16: teacher/pred: 1/1\n",
      "ph 17: teacher/pred: 1/1\n",
      "ph 18: teacher/pred: 1/1\n",
      "ph 19: teacher/pred: 0/0\n",
      "ph 20: teacher/pred: 1/1\n",
      "ph 21: teacher/pred: 1/1\n",
      "ph 22: teacher/pred: 0/1\n",
      "ph 23: teacher/pred: 1/1\n",
      "ph 24: teacher/pred: 1/1\n",
      "ph 25: teacher/pred: 0/0\n",
      "ph 26: teacher/pred: 1/1\n",
      "ph 27: teacher/pred: 1/1\n",
      "ph 28: teacher/pred: 1/1\n",
      "ph 29: teacher/pred: 1/1\n",
      "ph 30: teacher/pred: 1/1\n",
      "ph 31: teacher/pred: 0/0\n",
      "ph 32: teacher/pred: 1/1\n",
      "ph 33: teacher/pred: 1/1\n",
      "ph 34: teacher/pred: 1/1\n",
      "ph 35: teacher/pred: 1/1\n",
      "ph 36: teacher/pred: 1/1\n",
      "ph 37: teacher/pred: 0/0\n",
      "ph 38: teacher/pred: 1/1\n",
      "ph 39: teacher/pred: 1/1\n",
      "ph 40: teacher/pred: 1/1\n",
      "ph 41: teacher/pred: 1/1\n",
      "ph 42: teacher/pred: 1/1\n",
      "ph 43: teacher/pred: 0/0\n",
      "ph 44: teacher/pred: 0/1\n",
      "ph 45: teacher/pred: 1/1\n",
      "ph 46: teacher/pred: 1/1\n",
      "ph 47: teacher/pred: 1/1\n",
      "ph 48: teacher/pred: 1/1\n",
      "ph 49: teacher/pred: 0/0\n",
      "ph 50: teacher/pred: 1/1\n",
      "ph 51: teacher/pred: 1/1\n",
      "ph 52: teacher/pred: 1/1\n",
      "ph 53: teacher/pred: 1/1\n",
      "ph 54: teacher/pred: 1/1\n",
      "ph 55: teacher/pred: 0/0\n",
      "ph 56: teacher/pred: 1/1\n",
      "ph 57: teacher/pred: 1/1\n",
      "ph 58: teacher/pred: 1/1\n",
      "ph 59: teacher/pred: 1/1\n",
      "Accuracy: 96.61016949152543%\n"
     ]
    }
   ],
   "source": [
    "accuracy2 = []\n",
    "for i, p in enumerate(predicted2):\n",
    "    teacher = stseq2[i+1]\n",
    "    pred = np.argmax(p.data[0])\n",
    "    print('ph {:2d}: teacher/pred: {}/{}'.format(i+1, teacher, pred))\n",
    "    accuracy2 += [1 if teacher == pred else 0]\n",
    "print('Accuracy: {}%'.format(np.mean(accuracy2) * 100))"
   ]
  }
 ],
 "metadata": {
  "kernelspec": {
   "display_name": "Python 3",
   "language": "python",
   "name": "python3"
  },
  "language_info": {
   "codemirror_mode": {
    "name": "ipython",
    "version": 3
   },
   "file_extension": ".py",
   "mimetype": "text/x-python",
   "name": "python",
   "nbconvert_exporter": "python",
   "pygments_lexer": "ipython3",
   "version": "3.6.1"
  }
 },
 "nbformat": 4,
 "nbformat_minor": 2
}
