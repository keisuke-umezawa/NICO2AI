{
 "cells": [
  {
   "cell_type": "markdown",
   "metadata": {},
   "source": [
    "# 第7回：畳み込みニューラルネットワーク (1)\n",
    "\n",
    "---\n",
    "\n",
    "## 到達目標\n",
    "* 畳み込みニューラルネットワーク (CNN) が開発されるまでの歴史を概観する\n",
    "* CNNを用いて画像分類タスクを実装・実行できる\n",
    "\n",
    "---\n",
    "\n",
    "## キーワード\n",
    "* 単純型・複雑型細胞\n",
    "* 畳み込み層\n",
    "* プーリング層\n",
    "* 全結合層\n",
    "* 特徴マップ\n",
    "* AlexNet\n",
    "\n",
    "---\n",
    "\n",
    "## 講師へのお願い\n",
    "* 新出用語が多いので、1つ1つの用語を混同しないように教えてください\n",
    "* 画像の取り扱いがやや煩雑なので、その入出力形式にも注意を払ってください"
   ]
  },
  {
   "cell_type": "markdown",
   "metadata": {},
   "source": [
    "## タイムスケジュール\n",
    "### 前回の復習 (5分)\n",
    "### 講義・基礎演習 (85分)"
   ]
  },
  {
   "cell_type": "markdown",
   "metadata": {},
   "source": [
    "#### Part 1. 視覚の計算モデルの歴史\n",
    "##### 講義 (15分)\n",
    "* 全結合NNの問題点 (パラメータ数の多さ、学習の不安定性、etc.)\n",
    "    1. 勾配消失問題 vanishing gradient problem\n",
    "    1. 信用割当問題 credit assignment problem"
   ]
  },
  {
   "cell_type": "markdown",
   "metadata": {},
   "source": [
    "* 局所結合ネットワーク\n",
    "\n",
    "* 単純型細胞と複雑型細胞\n",
    "\n",
    "<center>\n",
    "<img src=\"1968Hubel_Wiesel_1.svg\" style=\"width:74%\">\n",
    "Hubel and Wiesel の実験の模式図\n",
    "\n",
    "<img src=\"1968Hubel_Wiesel_2.svg\" style=\"width:74%\">\n",
    "</center>"
   ]
  },
  {
   "cell_type": "markdown",
   "metadata": {},
   "source": [
    "<center>\n",
    "<img src=\"1962Hubel_complexCells.svg\" style=\"width:49%\">\n",
    "単純細胞の組み合わせで複雑細胞が構成される\n",
    "</center>"
   ]
  },
  {
   "cell_type": "markdown",
   "metadata": {},
   "source": [
    "* Fukushimaのネオコグニトロン(Fukushima, 1980)\n",
    "\n",
    "    - S 細胞と C 細胞との繰り返し。最初の多層（深層）化された物体認識モデルととらえることが可能\n",
    "    - S 細胞：生理学の単純細胞 simple cells に対応。受容野 receptive fileds の概念を実現。特徴抽出，特徴検出を行う。\n",
    "    - C 細胞：複雑細胞 complex cells に対応。広い受容野。位置，回転，拡大縮小の差異を吸収\n",
    "\n",
    "<center>\n",
    "<img src=\"fukushima_portrait.jpeg\" style=\"width:19%\">\n",
    "福島邦彦先生\n",
    "\n",
    "<img src=\"Neocognitron.svg\" style=\"width:49%\">\n",
    "ネオコグニトロンの模式図\n",
    "</center>"
   ]
  },
  {
   "cell_type": "markdown",
   "metadata": {},
   "source": [
    "* LeNet\n",
    "<center>\n",
    "<img src=\"1998LeNet5.svg\" style=\"width:74%\">\n",
    "LeNet5 (LeCun,1998)\n",
    "</center>\n",
    "\n",
    "初期はプーリングではなくサブサンプリングであったが，後にプーリングに置き換えられた。"
   ]
  },
  {
   "cell_type": "markdown",
   "metadata": {},
   "source": [
    "* AlexNet\n",
    "<center>\n",
    "<img src=\"2012AlexNet_2.svg\" style=\"width:74%\">\n",
    "AlexNet (Krizenski et al.,2012) 実際には GPU 2 枚並列(下図)\n",
    "</center>\n",
    "\n",
    "<center>\n",
    "<img src=\"2012AlexNet.svg\" style=\"width:74%\">\n",
    "\n",
    "2層から3層，及び5層から完全結合層，完全結合層間では GPU 間での通信あり\n",
    "</center>\n",
    "\n",
    "サポートベクターマシンを破った最初の CNN. AlexNet は 大規模画像認識チャレンジ で誤差 $16$％を達成した。AlexNet は\n",
    "\n",
    "1. ReLU, \n",
    "2. minibatch(SGD), \n",
    "3. GPU 2枚使用，\n",
    "4. LRN, \n",
    "5. dropout \n",
    "6. data augumentation\n",
    "7. 特別な前処理はしない全平均を引くだけ(end-to-end)\n",
    "\n",
    "などを特徴とする。"
   ]
  },
  {
   "cell_type": "markdown",
   "metadata": {},
   "source": [
    "\n",
    "理解を深めるためには Cris Olah さんのブログ記事が定評がある [http://colah.github.io/posts/2014-07-Understanding-Convolutions/](http://colah.github.io/posts/2014-07-Understanding-Convolutions/)\n"
   ]
  },
  {
   "cell_type": "markdown",
   "metadata": {},
   "source": [
    "<center>\n",
    "<img src=\"2012AlexNet_Result.svg\" style=\"width:74%\">\n",
    "AlexNet の出力例\n",
    "</center>"
   ]
  },
  {
   "cell_type": "code",
   "execution_count": null,
   "metadata": {
    "collapsed": true
   },
   "outputs": [],
   "source": []
  }
 ],
 "metadata": {
  "kernelspec": {
   "display_name": "Python [conda root]",
   "language": "python",
   "name": "conda-root-py"
  },
  "language_info": {
   "codemirror_mode": {
    "name": "ipython",
    "version": 3
   },
   "file_extension": ".py",
   "mimetype": "text/x-python",
   "name": "python",
   "nbconvert_exporter": "python",
   "pygments_lexer": "ipython3",
   "version": "3.5.3"
  },
  "latex_envs": {
   "LaTeX_envs_menu_present": true,
   "autocomplete": true,
   "bibliofile": "biblio.bib",
   "cite_by": "apalike",
   "current_citInitial": 1,
   "eqLabelWithNumbers": true,
   "eqNumInitial": 1,
   "hotkeys": {
    "equation": "Ctrl-E",
    "itemize": "Ctrl-I"
   },
   "labels_anchors": false,
   "latex_user_defs": false,
   "report_style_numbering": false,
   "user_envs_cfg": false
  }
 },
 "nbformat": 4,
 "nbformat_minor": 2
}
