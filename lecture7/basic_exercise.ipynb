{
 "cells": [
  {
   "cell_type": "markdown",
   "metadata": {},
   "source": [
    "##### 基礎演習 (30分)\n",
    "* 畳み込み層 (L.Convolution2D)\n",
    "* パディング・ストライドの指定 (pad, stride)\n",
    "* プーリング層 (F.max\\_pooling, F.avg\\_pooling)\n",
    "* 画像の入力\n",
    "* 小課題：畳み込み・プーリングを使ってみる (使い方の学習)\n",
    "* 小課題：パラメータ数の計算と比較\n",
    "* Variableの形状変換 (F.flatten())"
   ]
  },
  {
   "cell_type": "markdown",
   "metadata": {},
   "source": [
    "# Import\n",
    "\n",
    "chainerを使ってコードを書くときによく使うものをまとめてimportしておきます\n",
    "\n",
    "(Chainer Turorial推奨: https://docs.chainer.org/en/stable/tutorial/basic.html#core-concept 参照)"
   ]
  },
  {
   "cell_type": "code",
   "execution_count": null,
   "metadata": {
    "collapsed": true
   },
   "outputs": [],
   "source": [
    "import numpy as np\n",
    "import chainer\n",
    "from chainer import cuda, Function, gradient_check, report, training, utils, Variable\n",
    "from chainer import datasets, iterators, optimizers, serializers\n",
    "from chainer import Link, Chain, ChainList\n",
    "import chainer.functions as F\n",
    "import chainer.links as L\n",
    "from chainer.training import extensions"
   ]
  },
  {
   "cell_type": "markdown",
   "metadata": {},
   "source": [
    "# L.Convolution2D\n",
    "\n",
    "2次元カーネルの畳み込み層は、chainerでは\n",
    "```python\n",
    "L.Convolution2D\n",
    "```\n",
    "を使います。\n",
    "\n",
    "https://docs.chainer.org/en/stable/reference/generated/chainer.links.Convolution2D.html\n",
    "\n",
    "（講義スライドでは3次元とか4次元とか書いてありますが、「フィルタ」は2次元なので、ここではConvolution2Dです）"
   ]
  },
  {
   "cell_type": "markdown",
   "metadata": {},
   "source": [
    "`L.Convolution2D` の作用を確かめてみましょう。\n",
    "\n",
    "(1, 1, 3, 3)次元の入力マップxに、(1, 1, 2, 2)次元のフィルタを畳み込んでみます。\n",
    "\n",
    "講義スライドでは、「3次元入力に4次元フィルタを畳み込む」と書きましたが、\n",
    "複数枚の画像をまとめて入力するため、Convolution2Dは4次元配列を入力に取るようになっています"
   ]
  },
  {
   "cell_type": "code",
   "execution_count": null,
   "metadata": {
    "collapsed": true
   },
   "outputs": [],
   "source": [
    "x_data = np.array([[[\n",
    "    [1, 2, 3],\n",
    "    [4, 5, 6],\n",
    "    [7, 8, 9],\n",
    "]]], dtype=np.float32)\n",
    "x = Variable(x_data)"
   ]
  },
  {
   "cell_type": "code",
   "execution_count": null,
   "metadata": {},
   "outputs": [],
   "source": [
    "conv = L.Convolution2D(\n",
    "    in_channels=1, out_channels=1, ksize=2, stride=1, pad=0,\n",
    "    initialW=np.array([[[\n",
    "        [1, 2],\n",
    "        [3, 4],\n",
    "    ]]]),\n",
    "    initial_bias=np.array([0])\n",
    ")"
   ]
  },
  {
   "cell_type": "code",
   "execution_count": null,
   "metadata": {},
   "outputs": [],
   "source": [
    "conv(x)"
   ]
  },
  {
   "cell_type": "markdown",
   "metadata": {},
   "source": [
    "手で計算してみて、結果を見比べてみると分かりやすいかもしれません\n",
    "\n",
    "例えば、[0,0]は `1*1 + 2*2 + 3*4 + 4*5 = 37` になっています"
   ]
  },
  {
   "cell_type": "markdown",
   "metadata": {},
   "source": [
    "# 画像入力"
   ]
  },
  {
   "cell_type": "code",
   "execution_count": null,
   "metadata": {
    "collapsed": true
   },
   "outputs": [],
   "source": [
    "from skimage.io import imread\n",
    "import matplotlib.pyplot as plt\n",
    "% matplotlib inline"
   ]
  },
  {
   "cell_type": "code",
   "execution_count": null,
   "metadata": {},
   "outputs": [],
   "source": [
    "lena = imread('./lena_gray.gif')"
   ]
  },
  {
   "cell_type": "code",
   "execution_count": null,
   "metadata": {},
   "outputs": [],
   "source": [
    "plt.imshow(lena, cmap='gray')"
   ]
  },
  {
   "cell_type": "markdown",
   "metadata": {},
   "source": [
    "画像はピクセルの配列です。"
   ]
  },
  {
   "cell_type": "code",
   "execution_count": null,
   "metadata": {},
   "outputs": [],
   "source": [
    "lena"
   ]
  },
  {
   "cell_type": "code",
   "execution_count": null,
   "metadata": {},
   "outputs": [],
   "source": [
    "lena.shape"
   ]
  },
  {
   "cell_type": "markdown",
   "metadata": {},
   "source": [
    "エッジ検出フィルタを畳み込んでみます"
   ]
  },
  {
   "cell_type": "code",
   "execution_count": null,
   "metadata": {
    "collapsed": true
   },
   "outputs": [],
   "source": [
    "vertical_edge = L.Convolution2D(\n",
    "    in_channels=1, out_channels=1, ksize=3, stride=1, pad=0,\n",
    "    initialW=np.array([[[\n",
    "        [0, 0, 0],\n",
    "        [-0.5, 0, 0.5],\n",
    "        [0, 0, 0]\n",
    "    ]]]),\n",
    "    initial_bias=np.array([0])\n",
    ")"
   ]
  },
  {
   "cell_type": "code",
   "execution_count": null,
   "metadata": {},
   "outputs": [],
   "source": [
    "lena_var = Variable(np.array([[lena]], dtype=np.float32))"
   ]
  },
  {
   "cell_type": "code",
   "execution_count": null,
   "metadata": {},
   "outputs": [],
   "source": [
    "result = vertical_edge(lena_var)"
   ]
  },
  {
   "cell_type": "code",
   "execution_count": null,
   "metadata": {},
   "outputs": [],
   "source": [
    "plt.imshow(result.data[0][0], cmap='gray')"
   ]
  },
  {
   "cell_type": "code",
   "execution_count": null,
   "metadata": {
    "collapsed": true
   },
   "outputs": [],
   "source": []
  }
 ],
 "metadata": {
  "kernelspec": {
   "display_name": "Python 3",
   "language": "python",
   "name": "python3"
  },
  "language_info": {
   "codemirror_mode": {
    "name": "ipython",
    "version": 3
   },
   "file_extension": ".py",
   "mimetype": "text/x-python",
   "name": "python",
   "nbconvert_exporter": "python",
   "pygments_lexer": "ipython3",
   "version": "3.5.2"
  }
 },
 "nbformat": 4,
 "nbformat_minor": 2
}
