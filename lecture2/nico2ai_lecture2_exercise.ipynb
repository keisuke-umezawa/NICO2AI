{
 "cells": [
  {
   "cell_type": "markdown",
   "metadata": {
    "collapsed": true
   },
   "source": [
    "# NICO2AI  第2回 Python入門 (6/17) 基礎演習\n",
    "## 今日の目標\n",
    "* 機械学習の目的及び種類とその評価方法を理解する。\n",
    "* 第1回に引き続き、numpyで頻出する関数の使い方を実践的に理解する。\n",
    "* k-NN法を理解し、それをnumpyを用いて実装できる。\n",
    "\n",
    "## 目次\n",
    "* 行列積・内積 (np.matmul, np.dot)\n",
    "* 総和、平均、最大値、最小値(np.sum, np.mean, np.max, np.min)\n",
    "* L2ノルム (np.linalg.norm)\n",
    "* 数学関数 (np.sin, np.cos, np.tah, np.exp, np.log など)\n",
    "* 乱数生成 (np.random.random, np.random.normal)\n",
    "* ソート関連(np.sort, np.argsort)\n",
    "* Advanced indexing\n",
    "* ユークリッド類似度・コサイン類似度"
   ]
  },
  {
   "cell_type": "markdown",
   "metadata": {},
   "source": [
    "# はじめに\n",
    "\n",
    "* エラーがでたら落ち着いてエラーを読んでみましょう(エラーを恐れる必要はありません)\n",
    "* エラーを読んでも理解できない場合は，エラー文をそのままググると解決法が見つかることが多いです\n",
    "* 詰まったな，と思ったら気軽に質問して下さい\n",
    "* numpyはドキュメントが充実しています．こんな計算出来ないだろうか，この関数の引数について知りたい，といった場合はドキュメントを見ると解決することが多いです\n",
    "(https://docs.scipy.org/doc/)"
   ]
  },
  {
   "cell_type": "markdown",
   "metadata": {},
   "source": [
    "# 1. Numpy入門 (2)"
   ]
  },
  {
   "cell_type": "markdown",
   "metadata": {},
   "source": [
    "## ライブラリの使用 (import)(再掲)\n",
    "ライブラリの機能を使うためには、そのライブラリをインポートする必要がある。  \n",
    "numpyの機能は、ライブラリ名を前につけて、呼び出したいメソッドなどをドット(.)で繋いで呼び出す。\n",
    "```\n",
    "import hoge\n",
    "hoge.foo.bar()\n",
    "```\n",
    "Numpyでは、いちいちnumpy.と呼び出すのが面倒であることから、慣習的にimport as文を用いてnp.とするのが一般的である。"
   ]
  },
  {
   "cell_type": "code",
   "execution_count": 93,
   "metadata": {
    "collapsed": true
   },
   "outputs": [],
   "source": [
    "import numpy as np  # numpyを'np'という名前でインポートする"
   ]
  },
  {
   "cell_type": "markdown",
   "metadata": {},
   "source": [
    "## 行列積・内積 (np.matmul, np.dot) "
   ]
  },
  {
   "cell_type": "code",
   "execution_count": 94,
   "metadata": {
    "scrolled": true
   },
   "outputs": [],
   "source": [
    "a = [[1, 0], [0, 1]]\n",
    "b = [[4, 1], [2, 2]]\n",
    "np.matmul(a, b)\n",
    "# array([[4, 1],\n",
    "#        [2, 2]])"
   ]
  },
  {
   "cell_type": "code",
   "execution_count": 95,
   "metadata": {},
   "outputs": [],
   "source": [
    "np.dot(a, b)\n",
    "# array([[4, 1],\n",
    "#        [2, 2]])"
   ]
  },
  {
   "cell_type": "markdown",
   "metadata": {},
   "source": [
    "## 総和、平均、最大値、最小値(np.sum, np.mean, np.max, np.min) "
   ]
  },
  {
   "cell_type": "code",
   "execution_count": 96,
   "metadata": {},
   "outputs": [],
   "source": [
    "c = [0.5, 0.7, 0.2, 1.5, 2.0]\n",
    "np.sum(c)"
   ]
  },
  {
   "cell_type": "code",
   "execution_count": 97,
   "metadata": {},
   "outputs": [],
   "source": [
    "np.mean(c)"
   ]
  },
  {
   "cell_type": "code",
   "execution_count": 98,
   "metadata": {},
   "outputs": [],
   "source": [
    "np.max(c)"
   ]
  },
  {
   "cell_type": "code",
   "execution_count": 99,
   "metadata": {},
   "outputs": [],
   "source": [
    "np.min(c)"
   ]
  },
  {
   "cell_type": "markdown",
   "metadata": {},
   "source": [
    "### 応用\n",
    "axisを指定して同じような計算をしてみましょう"
   ]
  },
  {
   "cell_type": "code",
   "execution_count": 72,
   "metadata": {
    "collapsed": true
   },
   "outputs": [],
   "source": [
    "d = [[1.3, 2.4, 4.5],\n",
    "    [2.0, 1.3, 3.2],\n",
    "    [2.7, 1.8, 0.5]]"
   ]
  },
  {
   "cell_type": "code",
   "execution_count": 100,
   "metadata": {},
   "outputs": [],
   "source": [
    "np.sum(d)"
   ]
  },
  {
   "cell_type": "code",
   "execution_count": 101,
   "metadata": {},
   "outputs": [],
   "source": [
    "np.sum(d, axis=0)"
   ]
  },
  {
   "cell_type": "markdown",
   "metadata": {},
   "source": [
    "## L2ノルム (np.linalg.norm)"
   ]
  },
  {
   "cell_type": "code",
   "execution_count": 102,
   "metadata": {},
   "outputs": [],
   "source": [
    "e = [-4, -3, -2, -1,  0,  1,  2,  3,  4]\n",
    "np.linalg.norm(e)"
   ]
  },
  {
   "cell_type": "markdown",
   "metadata": {},
   "source": [
    "## 数学関数 (np.sin, np.cos, np.tah, np.exp, np.log など)"
   ]
  },
  {
   "cell_type": "code",
   "execution_count": 103,
   "metadata": {},
   "outputs": [],
   "source": [
    "np.sin(np.pi/2.0)"
   ]
  },
  {
   "cell_type": "code",
   "execution_count": 104,
   "metadata": {},
   "outputs": [],
   "source": [
    "np.log([1, np.e, np.e**2, 0])\n",
    "# errorが出ますが，log0を計算しているためなので気にしなくて大丈夫です"
   ]
  },
  {
   "cell_type": "markdown",
   "metadata": {},
   "source": [
    "## 乱数生成 (np.random.random_sample(), np.random.normal)"
   ]
  },
  {
   "cell_type": "markdown",
   "metadata": {},
   "source": [
    "np.rondom.random_sample() (np.random.random()) : 一様分布\n",
    "\n",
    "np.random.normal : 正規分布"
   ]
  },
  {
   "cell_type": "code",
   "execution_count": 105,
   "metadata": {},
   "outputs": [],
   "source": [
    "np.random.random_sample()"
   ]
  },
  {
   "cell_type": "code",
   "execution_count": 112,
   "metadata": {},
   "outputs": [],
   "source": [
    "# もう一回実行してみる\n",
    "np.random.random_sample()"
   ]
  },
  {
   "cell_type": "code",
   "execution_count": 107,
   "metadata": {},
   "outputs": [],
   "source": [
    "# もう一度\n",
    "np.random.random_sample()"
   ]
  },
  {
   "cell_type": "code",
   "execution_count": 108,
   "metadata": {},
   "outputs": [],
   "source": [
    "np.random.normal()"
   ]
  },
  {
   "cell_type": "code",
   "execution_count": 109,
   "metadata": {},
   "outputs": [],
   "source": [
    "# もう一回実行してみる\n",
    "np.random.normal()"
   ]
  },
  {
   "cell_type": "code",
   "execution_count": 110,
   "metadata": {},
   "outputs": [],
   "source": [
    "# もう一回\n",
    "np.random.normal()"
   ]
  },
  {
   "cell_type": "markdown",
   "metadata": {},
   "source": [
    "### 応用\n",
    "1. 上記の関数の定義域，平均・分散などを変えて乱数を生成し直してみましょう(ドキュメントを見ましょう)\n",
    "2. np.random.seedを使って乱数を生成してみましょう"
   ]
  },
  {
   "cell_type": "markdown",
   "metadata": {},
   "source": [
    "## ソート関連(np.sort, np.argsort)"
   ]
  },
  {
   "cell_type": "code",
   "execution_count": 113,
   "metadata": {},
   "outputs": [],
   "source": [
    "f = [1.0, 1.3, 1.2, 1.1, 1.5, 1.4]\n",
    "np.sort(f)"
   ]
  },
  {
   "cell_type": "code",
   "execution_count": 114,
   "metadata": {},
   "outputs": [],
   "source": [
    "np.argsort(f)"
   ]
  },
  {
   "cell_type": "markdown",
   "metadata": {},
   "source": [
    "### 応用\n",
    " np.argsortを使用して，fの最大の数，上から2番目の数，最小の数を出力してみましょう"
   ]
  },
  {
   "cell_type": "markdown",
   "metadata": {},
   "source": [
    "## Advanced indexing"
   ]
  },
  {
   "cell_type": "code",
   "execution_count": 115,
   "metadata": {},
   "outputs": [],
   "source": [
    "g = np.array([1.2, 1.4, 1.6, 1.8, 2.0])\n",
    "h = np.array([0, 2, 4])\n",
    "g[h]"
   ]
  },
  {
   "cell_type": "markdown",
   "metadata": {},
   "source": [
    "## ユークリッド類似度・コサイン類似度 "
   ]
  },
  {
   "cell_type": "code",
   "execution_count": 116,
   "metadata": {},
   "outputs": [],
   "source": [
    "i = np.asarray([1, 1, 1])\n",
    "j = np.asarray([1, -1, 1])\n",
    "\n",
    "# ユークリッド距離\n",
    "np.linalg.norm(i- j)"
   ]
  },
  {
   "cell_type": "code",
   "execution_count": 85,
   "metadata": {
    "collapsed": true
   },
   "outputs": [],
   "source": [
    "# コサイン距離\n",
    " \n",
    "# 実装してみましょう"
   ]
  }
 ],
 "metadata": {
  "kernelspec": {
   "display_name": "Python 3",
   "language": "python",
   "name": "python3"
  },
  "language_info": {
   "codemirror_mode": {
    "name": "ipython",
    "version": 3
   },
   "file_extension": ".py",
   "mimetype": "text/x-python",
   "name": "python",
   "nbconvert_exporter": "python",
   "pygments_lexer": "ipython3",
   "version": "3.5.2"
  }
 },
 "nbformat": 4,
 "nbformat_minor": 2
}
