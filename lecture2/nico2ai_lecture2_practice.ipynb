{
 "cells": [
  {
   "cell_type": "markdown",
   "metadata": {
    "collapsed": true
   },
   "source": [
    "# NICO2AI  第2回 Python入門 (6/17) 実践演習\n",
    "\n",
    "## 実践演習の進め方\n",
    "1. 講師が題材及びコードの説明をします\n",
    "2. \"WRITE ME!\"の部分のコードを書いてみましょう\n",
    "3. 書き始める前に必要な処理の概略を頭の中やノートに浮かべてからコードに落とし込みましょう\n",
    "\n",
    "## k-nn法の実装\n",
    "1. まず簡単なアルゴリズムの説明をします\n",
    "2. 次に与えられたデータを眺めてみましょう(実際のデータ分析でも，分析の前にデータを眺めておくことは重要です)\n",
    "3. k-nn法を実装しましょう\n"
   ]
  },
  {
   "cell_type": "markdown",
   "metadata": {
    "collapsed": true
   },
   "source": [
    "### 1. データの観察"
   ]
  },
  {
   "cell_type": "code",
   "execution_count": 4,
   "metadata": {
    "collapsed": true
   },
   "outputs": [],
   "source": [
    "### おまじない\n",
    "%matplotlib inline\n",
    "### 必要なライブラリをインポート\n",
    "import numpy as np\n",
    "from sklearn import datasets\n",
    "from matplotlib import pyplot as plt\n",
    "from matplotlib import cm"
   ]
  },
  {
   "cell_type": "code",
   "execution_count": 5,
   "metadata": {},
   "outputs": [],
   "source": [
    "# データ取得\n",
    "digits = datasets.load_digits()\n",
    "# 入力データ\n",
    "X = digits.data\n",
    "# ラベルデータ\n",
    "y = digits.target"
   ]
  },
  {
   "cell_type": "code",
   "execution_count": 23,
   "metadata": {},
   "outputs": [],
   "source": [
    "#　データを色々観察してみましょう\n",
    "X"
   ]
  },
  {
   "cell_type": "code",
   "execution_count": 24,
   "metadata": {},
   "outputs": [],
   "source": [
    "y"
   ]
  },
  {
   "cell_type": "code",
   "execution_count": 25,
   "metadata": {
    "collapsed": true
   },
   "outputs": [],
   "source": [
    "## 学習データの枚数は？\n",
    "\n",
    "## 一枚の画像のサイズは？"
   ]
  },
  {
   "cell_type": "markdown",
   "metadata": {},
   "source": [
    "### 画像を可視化してみましょう "
   ]
  },
  {
   "cell_type": "code",
   "execution_count": 26,
   "metadata": {
    "collapsed": true
   },
   "outputs": [],
   "source": [
    "# dataに画像を，labelにラベルを渡す\n",
    "def visualize(data, label):\n",
    "    if len(data) != len(label):\n",
    "        print(\"画像とラベルの数が合いません\")\n",
    "        return\n",
    "    \n",
    "    num_data = len(data)\n",
    "    size_window = np.ceil(np.sqrt(len(data)))\n",
    "    \n",
    "    samples = np.array(list(zip(data, label)))\n",
    "    for index, (d, l) in enumerate(samples):\n",
    "        # 画像データを格子状に配置する\n",
    "        plt.subplot(size_window, size_window, index + 1)\n",
    "        # 軸に関する表示はいらない\n",
    "        plt.axis('off')\n",
    "        # データを 8x8 のグレースケール画像として表示する\n",
    "        plt.imshow(d.reshape(8, 8), cmap=cm.gray_r, interpolation='nearest')\n",
    "        # 画像データのタイトルに正解ラベルを表示する\n",
    "        plt.title(l, color='red')\n",
    "        \n",
    "    plt.show()"
   ]
  },
  {
   "cell_type": "code",
   "execution_count": 27,
   "metadata": {},
   "outputs": [
    {
     "data": {
      "image/png": "[encoded data removed]",
      "text/plain": [
       "<matplotlib.figure.Figure at 0x11339c048>"
      ]
     },
     "metadata": {},
     "output_type": "display_data"
    }
   ],
   "source": [
    "visualize(X[:16], y[:16])"
   ]
  },
  {
   "cell_type": "markdown",
   "metadata": {},
   "source": [
    "## 2. k-nn法の実装 "
   ]
  },
  {
   "cell_type": "markdown",
   "metadata": {},
   "source": [
    "まずコサイン類似度を計算する関数を書いていきましょう"
   ]
  },
  {
   "cell_type": "code",
   "execution_count": 28,
   "metadata": {},
   "outputs": [],
   "source": [
    "# コサイン類似度\n",
    "def cos_d(a, b):\n",
    "    # write me"
   ]
  },
  {
   "cell_type": "code",
   "execution_count": 29,
   "metadata": {},
   "outputs": [],
   "source": [
    "# 検算\n",
    "a = np.array([0, 0, 1])\n",
    "b = np.array([0, 0, 1])\n",
    "cos_d(a, b) # => 1.0"
   ]
  },
  {
   "cell_type": "code",
   "execution_count": 30,
   "metadata": {},
   "outputs": [],
   "source": [
    "c = np.array([1, 0])\n",
    "d = np.array([0, 1])\n",
    "cos_d(c, d) # => 0.0"
   ]
  },
  {
   "cell_type": "markdown",
   "metadata": {},
   "source": [
    "次に，実際にk-nn法のコアのロジックを書いていきます．\n",
    "\n",
    "画像データとラベルデータから成るデータセット内を用意します．\n",
    "\n",
    "データセット内の全ての画像データに対して，評価対象の画像データとのコサイン類似度を計算します．\n",
    "\n",
    "類似度の高かった上位k個の画像データに対応するラベルを，上位から順に出力しましょう．"
   ]
  },
  {
   "cell_type": "code",
   "execution_count": 16,
   "metadata": {
    "collapsed": true
   },
   "outputs": [],
   "source": [
    "#  Xはデータセットの画像 \n",
    "#  yはデータセットのラベル\n",
    "#　　target_Xは評価対象の画像(1枚)"
   ]
  },
  {
   "cell_type": "code",
   "execution_count": 31,
   "metadata": {},
   "outputs": [],
   "source": [
    "def search(X, y, target_image):\n",
    "    k = 7\n",
    "    distances = np.zeros(len(X))\n",
    "    for idx, im in enumerate(X):\n",
    "        distances[idx] = # write me (コサイン類似度)\n",
    "        \n",
    "    # write me (距離を大きい順に並び替えて，そのidxを取得→対応するラベルを出力)\n",
    "        \n",
    "    return #ラベルのarray"
   ]
  },
  {
   "cell_type": "code",
   "execution_count": 32,
   "metadata": {},
   "outputs": [],
   "source": [
    "# 検算\n",
    "pred_labels = search2(X[:1700], y[:1700],  X[1702])\n",
    "print(pred_labels)　# => [5 5 5 5 5 5 5]"
   ]
  },
  {
   "cell_type": "code",
   "execution_count": 18,
   "metadata": {
    "collapsed": true
   },
   "outputs": [],
   "source": [
    "# さらに必要なライブラリをインポート\n",
    "from sklearn.metrics import f1_score\n",
    "from sklearn.model_selection import train_test_split"
   ]
  },
  {
   "cell_type": "code",
   "execution_count": 20,
   "metadata": {
    "collapsed": true
   },
   "outputs": [],
   "source": [
    "def k_nn(train_X, train_y, test_X):\n",
    "    rnd = np.random.RandomState(1701)\n",
    "    # kの値を指定\n",
    "    k = 7\n",
    "\n",
    "    # データの分割\n",
    "    train_X, valid_X, train_y, valid_y = train_test_split(train_X, train_y, test_size=0.2, random_state=rnd)\n",
    "    \n",
    "    # モデルの評価\n",
    "    pred_y = np.zeros(len(valid_X))\n",
    "    for idx, im in enumerate(valid_X):\n",
    "        # コサイン類似度の計算\n",
    "        lbls = search(train_X, train_y, im) #　ここでsearch()を使う\n",
    "        unique, counts = np.unique(lbls, return_counts=True)\n",
    "        pred_y[idx] = unique[np.argmax(counts)]\n",
    "\n",
    "    pred_y = pred_y.astype(int)\n",
    "    # F値の計算\n",
    "    score = f1_score(valid_y, pred_y, average='macro')\n",
    "    print(\"Validation score: {}\".format(score))\n",
    "    \n",
    "    \n",
    "    # 評価対象のデータのラベルの推定\n",
    "    pred_y = np.zeros(len(test_X))\n",
    "    for idx, im in enumerate(test_X):\n",
    "        lbls = search(train_X, train_y, im)\n",
    "        unique, counts = np.unique(lbls, return_counts=True)\n",
    "        pred_y[idx] = unique[np.argmax(counts)]\n",
    "\n",
    "    pred_y = pred_y.astype(int)\n",
    "    return pred_y"
   ]
  },
  {
   "cell_type": "code",
   "execution_count": 22,
   "metadata": {},
   "outputs": [],
   "source": [
    "pred_y = k_nn(X[:1700], y[:1700], X[1700:1725])"
   ]
  },
  {
   "cell_type": "code",
   "execution_count": null,
   "metadata": {
    "collapsed": true
   },
   "outputs": [],
   "source": [
    "# 推定結果\n",
    "visualize(X[1700:1725], pred_y)"
   ]
  },
  {
   "cell_type": "code",
   "execution_count": null,
   "metadata": {
    "collapsed": true
   },
   "outputs": [],
   "source": [
    "# 正解\n",
    "visualize(X[1700:1725], y[1700:1725])"
   ]
  },
  {
   "cell_type": "markdown",
   "metadata": {},
   "source": [
    "# 発展的な課題"
   ]
  },
  {
   "cell_type": "markdown",
   "metadata": {},
   "source": [
    "1. 最適なkの値を探してみましょう\n",
    "2. クロスバリデーションを行ってみましょう"
   ]
  }
 ],
 "metadata": {
  "kernelspec": {
   "display_name": "Python 3",
   "language": "python",
   "name": "python3"
  },
  "language_info": {
   "codemirror_mode": {
    "name": "ipython",
    "version": 3
   },
   "file_extension": ".py",
   "mimetype": "text/x-python",
   "name": "python",
   "nbconvert_exporter": "python",
   "pygments_lexer": "ipython3",
   "version": "3.5.2"
  }
 },
 "nbformat": 4,
 "nbformat_minor": 2
}
