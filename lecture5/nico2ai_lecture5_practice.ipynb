{
 "cells": [
  {
   "cell_type": "markdown",
   "metadata": {},
   "source": [
    "# NICO2AI 第5回 勾配法と誤差逆伝搬法 (7/15) 実践演習\n",
    "\n",
    "課題\n",
    "\n",
    "- 3層NNモデルのクロスエントロピー誤差最小化をミニバッチ勾配降下法で実装する\n",
    "- MNISTデータセットを用いて学習を行う\n",
    "\n",
    "`### CODE HERE ###` と記載されている部分にコードを埋めていく"
   ]
  },
  {
   "cell_type": "code",
   "execution_count": null,
   "metadata": {
    "collapsed": true
   },
   "outputs": [],
   "source": [
    "%matplotlib inline\n",
    "import numpy as np\n",
    "np.random.seed(111)\n",
    "import matplotlib as mpl\n",
    "import matplotlib.pyplot as plt\n",
    "from IPython.display import display, clear_output\n",
    "from sklearn.metrics import confusion_matrix\n",
    "\n",
    "from chainer.datasets import mnist\n",
    "from utils import to_categorical, calculate_accuracy, plot_confusion_matrix, get_image_tile"
   ]
  },
  {
   "cell_type": "markdown",
   "metadata": {},
   "source": [
    "## MNISTデータのロード"
   ]
  },
  {
   "cell_type": "code",
   "execution_count": null,
   "metadata": {
    "collapsed": true
   },
   "outputs": [],
   "source": [
    "data = mnist.get_mnist()\n",
    "X_train, y_train = data[0]._datasets\n",
    "X_test, y_test = data[1]._datasets\n",
    "\n",
    "Y_train = to_categorical(y_train)\n",
    "Y_test = to_categorical(y_test)"
   ]
  },
  {
   "cell_type": "code",
   "execution_count": null,
   "metadata": {
    "collapsed": false
   },
   "outputs": [],
   "source": [
    "im = get_image_tile(X_train, width=10, height=10)\n",
    "im"
   ]
  },
  {
   "cell_type": "markdown",
   "metadata": {},
   "source": [
    "## 各種関数の実装"
   ]
  },
  {
   "cell_type": "code",
   "execution_count": null,
   "metadata": {
    "collapsed": true
   },
   "outputs": [],
   "source": [
    "def softmax(U, reduce_axis=0):\n",
    "    shp = list(U.shape)\n",
    "    shp[reduce_axis] = 1\n",
    "    return ### CODE HERE ###\n",
    "\n",
    "def softmax_cross_entropy(D, Y):\n",
    "    epsilon = 1e-8\n",
    "    Y = np.clip(Y, epsilon, 1-epsilon)\n",
    "    return ### CODE HERE ###\n",
    "\n",
    "def sigmoid(U):\n",
    "    return ### CODE HERE ###\n",
    "\n",
    "def dsigmoid_du(U):\n",
    "    return ### CODE HERE ###"
   ]
  },
  {
   "cell_type": "markdown",
   "metadata": {},
   "source": [
    "## パラメーター初期化関数の実装"
   ]
  },
  {
   "cell_type": "code",
   "execution_count": null,
   "metadata": {
    "collapsed": true
   },
   "outputs": [],
   "source": [
    "x_dim = 784\n",
    "h_dim = 256\n",
    "nb_classes = 10\n",
    "\n",
    "def init_params():\n",
    "    W_2 = np.random.normal(loc=0.0, scale=1.0, size=x_dim*h_dim).reshape([h_dim, x_dim])\n",
    "    b_2 = np.zeros(h_dim).reshape(h_dim, 1)\n",
    "    W_3 = np.random.normal(loc=0.0, scale=1.0, size=h_dim*nb_classes).reshape([nb_classes, h_dim])\n",
    "    b_3 = np.zeros(nb_classes).reshape(nb_classes, 1)\n",
    "    return W_2, b_2, W_3, b_3"
   ]
  },
  {
   "cell_type": "markdown",
   "metadata": {},
   "source": [
    "## 推論用関数の実装"
   ]
  },
  {
   "cell_type": "code",
   "execution_count": null,
   "metadata": {
    "collapsed": false
   },
   "outputs": [],
   "source": [
    "def inference(X):\n",
    "    X = X.T\n",
    "    assert X.shape[0] == x_dim\n",
    "    \n",
    "    U_2 = ### CODE HERE ###\n",
    "    Z_2 = ### CODE HERE ###\n",
    "    \n",
    "    U_3 = ### CODE HERE ###\n",
    "    Z_3 = ### CODE HERE ###\n",
    "\n",
    "    return Z_3.T"
   ]
  },
  {
   "cell_type": "markdown",
   "metadata": {},
   "source": [
    "## 学習"
   ]
  },
  {
   "cell_type": "code",
   "execution_count": null,
   "metadata": {
    "collapsed": false
   },
   "outputs": [],
   "source": [
    "nb_epoch = 10\n",
    "batch_size = 100\n",
    "nb_batch = int(len(X_train) / batch_size)\n",
    "eta = 0.01\n",
    "data_idx = np.arange(len(X_train))\n",
    "\n",
    "fig = plt.figure(figsize=(4,4))\n",
    "ax = fig.add_subplot(111)\n",
    "train_epochs = []\n",
    "test_epochs = []\n",
    "train_losses = []\n",
    "test_losses = []\n",
    "train_accuracies = []\n",
    "test_accuracies = []\n",
    "plot_freq = 50\n",
    "\n",
    "W_2, b_2, W_3, b_3 = init_params()\n",
    "\n",
    "for epoch in range(nb_epoch):\n",
    "    np.random.shuffle(data_idx)\n",
    "    for batch in range(nb_batch):\n",
    "        X_batch = X_train[data_idx[batch*batch_size:(batch+1)*batch_size]]\n",
    "        Y_batch = Y_train[data_idx[batch*batch_size:(batch+1)*batch_size]]\n",
    "        X = X_batch.T\n",
    "        D = Y_batch.T\n",
    "        \n",
    "        ## 順方向の推論\n",
    "        U_2 = ### CODE HERE ###\n",
    "        Z_2 = ### CODE HERE ###\n",
    "\n",
    "        U_3 = ### CODE HERE ###\n",
    "        Z_3 = ### CODE HERE ###\n",
    "        Y = Z_3\n",
    "        \n",
    "        ## デルタの計算\n",
    "        Delta_3 = ### CODE HERE ###\n",
    "        Delta_2 = ### CODE HERE ###\n",
    "        \n",
    "        ## 3層目のパラメーターに関する勾配\n",
    "        dLdW_3 = ### CODE HERE ###\n",
    "        dLdb_3 = ### CODE HERE ###\n",
    "        \n",
    "        ## 2層目のパラメーターに関する勾配\n",
    "        dLdW_2 = ### CODE HERE ###\n",
    "        dLdb_2 = ### CODE HERE ###\n",
    "        \n",
    "        ## 3層目のパラメーターの更新\n",
    "        W_3 = ### CODE HERE ###\n",
    "        b_3 = ### CODE HERE ###\n",
    "        \n",
    "        ## 2層目のパラメーターの更新\n",
    "        W_2 = ### CODE HERE ###\n",
    "        b_2 = ### CODE HERE ###\n",
    "\n",
    "        ## リアルタイムの誤差の描画\n",
    "        if batch % plot_freq == 0:\n",
    "            train_epochs.append( epoch+batch/nb_batch )\n",
    "            train_losses.append( softmax_cross_entropy(D, Y) / batch_size )\n",
    "            train_accuracies.append( calculate_accuracy(D.argmax(axis=0), Y.argmax(axis=0)) )\n",
    "            clear_output(wait = True)\n",
    "            ax.plot( train_epochs, train_losses, label='Train' )\n",
    "            ax.plot( test_epochs, test_losses, label='Test' )\n",
    "            plt.xlabel('Epoch')\n",
    "            plt.ylabel('Loss')\n",
    "            plt.title('epoch: {:02d}, batch: {:04d}'.format(epoch, batch))\n",
    "            plt.legend()\n",
    "            display(fig)\n",
    "            ax.cla()\n",
    "    Y = inference(X_test).T\n",
    "    test_epochs.append( epoch+1 )\n",
    "    test_losses.append( softmax_cross_entropy(Y_test.T, Y) / len(Y_test) )\n",
    "    test_accuracies.append( calculate_accuracy(y_test, Y.argmax(axis=0)) )\n",
    "fig.clf()"
   ]
  },
  {
   "cell_type": "code",
   "execution_count": null,
   "metadata": {
    "collapsed": false
   },
   "outputs": [],
   "source": [
    "fig = plt.figure(figsize=(4,4))\n",
    "ax = fig.add_subplot(111)\n",
    "\n",
    "ax.plot( train_epochs, train_accuracies, label='Train' )\n",
    "ax.plot( test_epochs, test_accuracies, label='Test' )\n",
    "plt.xlabel('Epoch')\n",
    "plt.ylabel('Accuracy')\n",
    "plt.legend()\n",
    "plt.ylim(0, 1)"
   ]
  },
  {
   "cell_type": "markdown",
   "metadata": {},
   "source": [
    "## 学習結果の確認"
   ]
  },
  {
   "cell_type": "code",
   "execution_count": null,
   "metadata": {
    "collapsed": true
   },
   "outputs": [],
   "source": [
    "Y_hat = inference(X_test)\n",
    "y_hat = Y_hat.argmax(axis=1)"
   ]
  },
  {
   "cell_type": "code",
   "execution_count": null,
   "metadata": {
    "collapsed": false
   },
   "outputs": [],
   "source": [
    "C = confusion_matrix(y_test, y_hat)\n",
    "plot_confusion_matrix(C, range(10))"
   ]
  },
  {
   "cell_type": "code",
   "execution_count": null,
   "metadata": {
    "collapsed": true
   },
   "outputs": [],
   "source": []
  }
 ],
 "metadata": {
  "kernelspec": {
   "display_name": "Python 3",
   "language": "python",
   "name": "python3"
  },
  "language_info": {
   "codemirror_mode": {
    "name": "ipython",
    "version": 3
   },
   "file_extension": ".py",
   "mimetype": "text/x-python",
   "name": "python",
   "nbconvert_exporter": "python",
   "pygments_lexer": "ipython3",
   "version": "3.6.0"
  }
 },
 "nbformat": 4,
 "nbformat_minor": 2
}
