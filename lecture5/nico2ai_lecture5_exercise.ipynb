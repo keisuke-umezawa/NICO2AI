{
 "cells": [
  {
   "cell_type": "markdown",
   "metadata": {},
   "source": [
    "# NICO2AI 第5回 勾配法と誤差逆伝搬法 (7/15) 基礎演習\n",
    "\n",
    "## 到達目標\n",
    "\n",
    "- 基本的な勾配降下法のアルゴリズムを理解する\n",
    "- ロジスティック回帰における勾配法を実装できる\n",
    "- フィードフォワードニューラルネットワーク及び誤差逆伝播法の仕組みを理解する\n",
    "- 誤差逆伝播法の実装を体験する\n",
    "\n",
    "## キーワード\n",
    "\n",
    "- 勾配降下法\n",
    "- クロスエントロピー誤差\n",
    "- フィードフォワードニューラルネットワーク\n",
    "- 誤差逆伝播法\n",
    "- 確率的勾配降下法 (SGD)\n",
    "\n",
    "\n",
    "`### CODE HERE ###` と記載されている部分にコードを埋めていく"
   ]
  },
  {
   "cell_type": "code",
   "execution_count": null,
   "metadata": {
    "collapsed": true
   },
   "outputs": [],
   "source": [
    "%matplotlib inline\n",
    "import numpy as np\n",
    "import matplotlib as mpl\n",
    "import matplotlib.pyplot as plt\n",
    "from IPython.display import display, clear_output"
   ]
  },
  {
   "cell_type": "markdown",
   "metadata": {},
   "source": [
    "## つくってみよう1\n",
    "\n",
    "課題: 線形モデルの二乗誤差最小化を解析解と勾配法の2つで実装する\n",
    "\n",
    "※1 データは以下の式から生成する\n",
    "\n",
    "$$\n",
    "y = Xw + \\epsilon \\\\\n",
    "X_{ij}, w_i \\sim \\mathcal{N} (0.0, 1.0) \\\\\n",
    "\\epsilon_i \\sim \\mathcal{N} (0.0, 4.0)\n",
    "$$\n",
    "\n",
    "※2 データ数N: 100, 次元数D: 20\n"
   ]
  },
  {
   "cell_type": "code",
   "execution_count": null,
   "metadata": {
    "collapsed": true
   },
   "outputs": [],
   "source": [
    "## データの生成\n",
    "\n",
    "np.random.seed(111)\n",
    "N = 100\n",
    "D = 20\n",
    "X = np.random.normal(loc=0.0, scale=1.0, size=N*D).reshape(N, D)\n",
    "w = np.random.normal(loc=0.0, scale=1.0, size=D)\n",
    "y = X.dot(w) + np.random.normal(loc=0.0, scale=2.0, size=N)"
   ]
  },
  {
   "cell_type": "code",
   "execution_count": null,
   "metadata": {
    "collapsed": true
   },
   "outputs": [],
   "source": [
    "## 解析解による解の導出\n",
    "w_ls = ### CODE HERE ###"
   ]
  },
  {
   "cell_type": "code",
   "execution_count": null,
   "metadata": {
    "collapsed": false
   },
   "outputs": [],
   "source": [
    "## 勾配法を用いた解の導出\n",
    "T = 100\n",
    "eta = 0.01\n",
    "w_gd = np.random.normal(loc=0.0, scale=0.1, size=D)\n",
    "for t in range(T):\n",
    "    print('\\r[{}/{}]'.format(t, T), end='')\n",
    "    w_gd = ### CODE HERE ###"
   ]
  },
  {
   "cell_type": "code",
   "execution_count": null,
   "metadata": {
    "collapsed": false
   },
   "outputs": [],
   "source": [
    "## 解析解と勾配法の結果の比較\n",
    "\n",
    "y_ls = X.dot(w_ls)\n",
    "y_gd = X.dot(w_gd)\n",
    "\n",
    "fig = plt.figure(figsize=(4,4))\n",
    "plt.plot([-15, 15], [-15, 15], '--', color='gray')\n",
    "plt.plot(y, y_ls, 'o', label='Least Square')\n",
    "plt.plot(y, y_gd, '+', label='Gradient Descent')\n",
    "\n",
    "plt.legend()\n",
    "plt.xlabel('$y$')\n",
    "plt.ylabel('$\\hat{y}$')"
   ]
  },
  {
   "cell_type": "markdown",
   "metadata": {},
   "source": [
    "## つくってみよう2\n",
    "\n",
    "課題\n",
    "\n",
    "1. シグモイド関数 $\\sigma(z)$ を実装する\n",
    "2. クロスエントロピー誤差関数 $\\mathrm{H}(y, a)$ を実装する\n",
    "3. 1次元のロジスティック回帰モデルのクロスエントロピー誤差最小化を勾配法で実装する\n"
   ]
  },
  {
   "cell_type": "code",
   "execution_count": null,
   "metadata": {
    "collapsed": true
   },
   "outputs": [],
   "source": [
    "## シグモイド関数の実装\n",
    "def sigmoid(z):\n",
    "    return ### CODE HERE ###"
   ]
  },
  {
   "cell_type": "code",
   "execution_count": null,
   "metadata": {
    "collapsed": false
   },
   "outputs": [],
   "source": [
    "## シグモイド関数の確認\n",
    "fig = plt.figure(figsize=(4,3))\n",
    "z = np.linspace(-5, 5, 100)\n",
    "plt.plot(z, sigmoid(z), color='black')\n",
    "plt.xlabel('$z$')\n",
    "plt.ylabel('$\\sigma(z)$')"
   ]
  },
  {
   "cell_type": "code",
   "execution_count": null,
   "metadata": {
    "collapsed": true
   },
   "outputs": [],
   "source": [
    "## クロスエントロピー誤差の実装\n",
    "def crossentropy(d, y):\n",
    "    epsilon = 1e-8\n",
    "    y = np.clip(y, epsilon, 1-epsilon)\n",
    "    return ### CODE HERE ###"
   ]
  },
  {
   "cell_type": "code",
   "execution_count": null,
   "metadata": {
    "collapsed": false
   },
   "outputs": [],
   "source": [
    "## クロスエントロピー誤差の確認\n",
    "fig = plt.figure(figsize=(5, 3))\n",
    "d = 0.7\n",
    "y = np.linspace(0.0, 1.0, 100)\n",
    "plt.plot(y, crossentropy(d, y), color='black')\n",
    "plt.plot([0.7, 0.7], [0, 15], '--', color='gray')\n",
    "plt.text(0.4, 6, '$p(d=1)=0.7$')\n",
    "plt.ylim(0, 10)\n",
    "plt.xlabel('$q(x=1)$')\n",
    "plt.ylabel('Cross entropy')"
   ]
  },
  {
   "cell_type": "code",
   "execution_count": null,
   "metadata": {
    "collapsed": true
   },
   "outputs": [],
   "source": [
    "## データの生成\n",
    "np.random.seed(111)\n",
    "N = 100\n",
    "w = 3.0\n",
    "x = np.random.normal(loc=0.0, scale=2.0, size=N)\n",
    "d = np.array([sigmoid(w*x) >= np.random.uniform(size=N)], dtype=int).flatten()\n",
    "p_true = sigmoid(w*np.linspace(-6, 6, 100))"
   ]
  },
  {
   "cell_type": "code",
   "execution_count": null,
   "metadata": {
    "collapsed": false
   },
   "outputs": [],
   "source": [
    "## 勾配法を用いた解の導出\n",
    "T = 100\n",
    "eta = 0.01\n",
    "w_gd = 0.0\n",
    "for t in range(T):\n",
    "    print('\\r[{}/{}]'.format(t, T), end='')\n",
    "    y = ### CODE HERE ###\n",
    "    w_gd = ### CODE HERE ###"
   ]
  },
  {
   "cell_type": "code",
   "execution_count": null,
   "metadata": {
    "collapsed": false
   },
   "outputs": [],
   "source": [
    "## 推定結果の確認\n",
    "p_hat = sigmoid(w_gd*np.linspace(-6, 6, 100))\n",
    "\n",
    "plt.figure(figsize=(6, 4))\n",
    "plt.plot(x, d, 'o', label='Observation')\n",
    "plt.plot(np.linspace(-6, 6, 100), p_true, label='True ($w={:.2f}$)'.format(w))\n",
    "plt.plot(np.linspace(-6, 6, 100), p_hat, label='Estimated ($w={:.2f}$)'.format(w_gd))\n",
    "plt.legend(loc='upper left')"
   ]
  },
  {
   "cell_type": "code",
   "execution_count": null,
   "metadata": {
    "collapsed": true
   },
   "outputs": [],
   "source": []
  }
 ],
 "metadata": {
  "kernelspec": {
   "display_name": "Python 3",
   "language": "python",
   "name": "python3"
  },
  "language_info": {
   "codemirror_mode": {
    "name": "ipython",
    "version": 3
   },
   "file_extension": ".py",
   "mimetype": "text/x-python",
   "name": "python",
   "nbconvert_exporter": "python",
   "pygments_lexer": "ipython3",
   "version": "3.6.0"
  }
 },
 "nbformat": 4,
 "nbformat_minor": 2
}
