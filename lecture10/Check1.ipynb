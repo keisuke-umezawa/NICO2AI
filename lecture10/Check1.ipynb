{
 "cells": [
  {
   "cell_type": "markdown",
   "metadata": {},
   "source": [
    "# 第10回: RNN (Check1)\n",
    "## 概要\n",
    "講義で紹介したLSTM, GRUを実際に実装してみましょう。\n",
    "\n",
    "この少演習では、講師が実際にコードを書いていくので、真似する形で進めてください。\n",
    "## 目標\n",
    "- Chainerで多層のLSTMを実装する"
   ]
  },
  {
   "cell_type": "code",
   "execution_count": 1,
   "metadata": {
    "collapsed": true
   },
   "outputs": [],
   "source": [
    "%matplotlib inline\n",
    "import chainer\n",
    "from chainer import cuda, Function\n",
    "from chainer import Link, Chain, ChainList\n",
    "import chainer.functions as F\n",
    "import chainer.links as L\n",
    "import numpy as np\n",
    "import matplotlib.pyplot as plt"
   ]
  },
  {
   "cell_type": "markdown",
   "metadata": {},
   "source": [
    "### 一層のLSTM\n",
    "LSTMセルの数が一つのものを、一層のLSTMと呼びます。\n",
    "まずは一層のLSTMを実装してみましょう。[LSTMのリンク](https://docs.chainer.org/en/stable/reference/generated/chainer.links.LSTM.html#chainer.links.LSTM)は`L.LSTM`にあります。"
   ]
  },
  {
   "cell_type": "code",
   "execution_count": 2,
   "metadata": {
    "collapsed": true
   },
   "outputs": [],
   "source": [
    "class SingleLSTM(Chain):\n",
    "    def __init__(\n",
    "        self,\n",
    "        n_input,\n",
    "        n_hidden,\n",
    "        n_output,\n",
    "        train=True\n",
    "    ):\n",
    "        super(SingleLSTM, self).__init__()\n",
    "        with self.init_scope():\n",
    "            self.l0 = L.Linear(n_input, n_hidden)  # COUT\n",
    "            self.l1 = L.LSTM(n_hidden, n_hidden)  # COUT\n",
    "            self.l2 = L.Linear(n_hidden, n_output)  # COUT\n",
    "            \n",
    "    def __call__(self, x):\n",
    "        u = self.l0(x)  # COUT\n",
    "        h = self.l1(u)  # COUT\n",
    "        y = self.l2(h)  # COUT\n",
    "        return y\n",
    "    \n",
    "    def clear_state(self):\n",
    "        self.l1.reset_state()  # COUT"
   ]
  },
  {
   "cell_type": "markdown",
   "metadata": {},
   "source": [
    "### 多層のLSTM"
   ]
  },
  {
   "cell_type": "markdown",
   "metadata": {},
   "source": [
    "これを多層化する場合、単純にLinkをつなぎ合わせていけば良いことになります。(例: 二層のLSTM)\n",
    "\n",
    "多層化すると、より次元の高い複雑なデータを学習することが出来ますが、闇雲に層を増やしディープにしてもあまりうまく行きません。\n",
    "とりわけLSTM等RNNの場合、高々4層の構造を取ることが多く、CNNのようにバンバン重ねるということはしないのが普通です。"
   ]
  },
  {
   "cell_type": "code",
   "execution_count": 3,
   "metadata": {
    "collapsed": true
   },
   "outputs": [],
   "source": [
    "class MultiLSTM(Chain):\n",
    "    def __init__(\n",
    "        self,\n",
    "        n_input,\n",
    "        n_hidden,\n",
    "        n_output,\n",
    "        train=True\n",
    "    ):\n",
    "        super(MultiLSTM, self).__init__()\n",
    "        with self.init_scope():\n",
    "            self.l0 = L.Linear(n_input, n_hidden)  # COUT\n",
    "            self.l1 = L.LSTM(n_hidden, n_hidden)  # COUT\n",
    "            self.l2 = L.LSTM(n_hidden, n_hidden)\n",
    "            self.l3 = L.Linear(n_hidden, n_output)  # COUT\n",
    "            \n",
    "    def __call__(self, x):\n",
    "        u = self.l0(x)  # COUT\n",
    "        h1 = self.l1(u)  # COUT\n",
    "        h2 = self.l2(h1)\n",
    "        y = self.l3(h)  # COUT\n",
    "        return y\n",
    "    \n",
    "    def clear_state(self):\n",
    "        self.l1.reset_state()  # COUT\n",
    "        self.l2.reset_state()  # cout"
   ]
  },
  {
   "cell_type": "markdown",
   "metadata": {},
   "source": [
    "### 多層のGRU\n",
    "LSTMの代わりにGRUを使いたくなった場合でも、実装は非常に簡単で、`L.LSTM`の代わりに`L.GRU`を用いれば良いだけです。\n",
    "\n",
    "その他使えるリンクは、こちらの[docs](https://docs.chainer.org/en/stable/reference/links.html)に列挙されています。"
   ]
  },
  {
   "cell_type": "code",
   "execution_count": 4,
   "metadata": {
    "collapsed": true
   },
   "outputs": [],
   "source": [
    "class MultiGRU(Chain):\n",
    "    def __init__(\n",
    "        self,\n",
    "        n_input,\n",
    "        n_hidden,\n",
    "        n_output,\n",
    "        train=True\n",
    "    ):\n",
    "        super(MultiGRU, self).__init__()\n",
    "        with self.init_scope():\n",
    "            self.l0 = L.Linear(n_input, n_hidden)  # COUT\n",
    "            self.l1 = L.GRU(n_hidden, n_hidden)  # COUT\n",
    "            self.l2 = L.GRU(n_hidden, n_hidden)\n",
    "            self.l3 = L.Linear(n_hidden, n_output)  # COUT\n",
    "            \n",
    "    def __call__(self, x):\n",
    "        u = self.l0(x)  # COUT\n",
    "        h1 = self.l1(u)  # COUT\n",
    "        h2 = self.l2(h1)\n",
    "        y = self.l3(h)  # COUT\n",
    "        return y\n",
    "    \n",
    "    def clear_state(self):\n",
    "        self.l1.reset_state()  # COUT\n",
    "        self.l2.reset_state()  # cout"
   ]
  },
  {
   "cell_type": "markdown",
   "metadata": {},
   "source": [
    "### 正弦波の作製"
   ]
  },
  {
   "cell_type": "code",
   "execution_count": 5,
   "metadata": {
    "collapsed": true
   },
   "outputs": [],
   "source": [
    "import math\n",
    "import random\n",
    " \n",
    "random.seed(0)\n",
    " \n",
    "class DataMaker(object):\n",
    " \n",
    "    def __init__(self, steps_per_cycle, number_of_cycles):\n",
    "        self.steps_per_cycle = steps_per_cycle\n",
    "        self.number_of_cycles = number_of_cycles\n",
    " \n",
    "    def make(self):\n",
    "        return np.array([math.sin(i * 2 * math.pi/self.steps_per_cycle) for i in range(self.steps_per_cycle)] * self.number_of_cycles)"
   ]
  },
  {
   "cell_type": "code",
   "execution_count": 25,
   "metadata": {
    "collapsed": true
   },
   "outputs": [],
   "source": [
    "# make training data\n",
    "data_maker = DataMaker(steps_per_cycle=50, number_of_cycles=30)\n",
    "train_data = data_maker.make()"
   ]
  },
  {
   "cell_type": "code",
   "execution_count": 26,
   "metadata": {},
   "outputs": [
    {
     "data": {
      "text/plain": [
       "array([ 0.        ,  0.12533323,  0.24868989, ..., -0.36812455,\n",
       "       -0.24868989, -0.12533323])"
      ]
     },
     "execution_count": 26,
     "metadata": {},
     "output_type": "execute_result"
    }
   ],
   "source": [
    "train_data"
   ]
  },
  {
   "cell_type": "code",
   "execution_count": 27,
   "metadata": {},
   "outputs": [
    {
     "data": {
      "image/png": "[encoded data removed]",
      "text/plain": [
       "<matplotlib.figure.Figure at 0x7f5b7e6b2dd8>"
      ]
     },
     "metadata": {},
     "output_type": "display_data"
    }
   ],
   "source": [
    "plt.plot(train_data[:50*3],  label='sin')\n",
    "plt.legend()\n",
    "plt.show()"
   ]
  },
  {
   "cell_type": "markdown",
   "metadata": {},
   "source": [
    "### 学習\n",
    "実際にデータを学習していきましょう。"
   ]
  },
  {
   "cell_type": "code",
   "execution_count": 9,
   "metadata": {
    "collapsed": true
   },
   "outputs": [],
   "source": [
    "model = SingleLSTM(n_input=1, n_hidden=50, n_output=1)\n",
    "optimizer = chainer.optimizers.Adam()\n",
    "optimizer.setup(model)"
   ]
  },
  {
   "cell_type": "code",
   "execution_count": 10,
   "metadata": {},
   "outputs": [
    {
     "data": {
      "text/plain": [
       "<__main__.SingleLSTM at 0x7f5baa12f8d0>"
      ]
     },
     "execution_count": 10,
     "metadata": {},
     "output_type": "execute_result"
    }
   ],
   "source": [
    "import cupy as xp\n",
    "# !!! FOR GPU !!!\n",
    "gpu_device = 0\n",
    "cuda.get_device(gpu_device).use()\n",
    "model.to_gpu(gpu_device)"
   ]
  },
  {
   "cell_type": "code",
   "execution_count": 11,
   "metadata": {
    "collapsed": true
   },
   "outputs": [],
   "source": [
    "def get_loss(model, x_in):\n",
    "    loss_accum = 0\n",
    "    x = xp.array(x_in, dtype=xp.float32)\n",
    "    for i in range(len(x_in) - 1):\n",
    "        x_k = xp.atleast_2d(x[i])\n",
    "        y_t = xp.atleast_2d(x[i+1])\n",
    "        y_k = model(x_k)\n",
    "        loss = F.mean_squared_error(y_k, y_t)\n",
    "        loss_accum += loss\n",
    "    return loss_accum"
   ]
  },
  {
   "cell_type": "code",
   "execution_count": 12,
   "metadata": {},
   "outputs": [
    {
     "name": "stdout",
     "output_type": "stream",
     "text": [
      "epoch:  0, loss: 1260.022\n",
      "epoch:  1, loss: 954.129\n",
      "epoch:  2, loss: 732.836\n",
      "epoch:  3, loss: 564.250\n",
      "epoch:  4, loss: 430.813\n",
      "epoch:  5, loss: 324.159\n",
      "epoch:  6, loss: 239.874\n",
      "epoch:  7, loss: 175.682\n",
      "epoch:  8, loss: 129.702\n",
      "epoch:  9, loss: 98.911\n",
      "epoch: 10, loss: 79.490\n",
      "epoch: 11, loss: 67.799\n",
      "epoch: 12, loss: 60.819\n",
      "epoch: 13, loss: 56.263\n",
      "epoch: 14, loss: 52.586\n",
      "epoch: 15, loss: 48.924\n",
      "epoch: 16, loss: 44.994\n",
      "epoch: 17, loss: 40.939\n",
      "epoch: 18, loss: 37.129\n",
      "epoch: 19, loss: 33.947\n",
      "epoch: 20, loss: 31.613\n",
      "epoch: 21, loss: 30.091\n",
      "epoch: 22, loss: 29.114\n",
      "epoch: 23, loss: 28.303\n",
      "epoch: 24, loss: 27.327\n",
      "epoch: 25, loss: 26.001\n",
      "epoch: 26, loss: 24.301\n",
      "epoch: 27, loss: 22.313\n",
      "epoch: 28, loss: 20.161\n",
      "epoch: 29, loss: 17.966\n",
      "epoch: 30, loss: 15.824\n",
      "epoch: 31, loss: 13.820\n",
      "epoch: 32, loss: 12.032\n",
      "epoch: 33, loss: 10.529\n",
      "epoch: 34, loss: 9.360\n",
      "epoch: 35, loss: 8.530\n",
      "epoch: 36, loss: 7.985\n",
      "epoch: 37, loss: 7.626\n",
      "epoch: 38, loss: 7.324\n",
      "epoch: 39, loss: 6.967\n",
      "epoch: 40, loss: 6.486\n",
      "epoch: 41, loss: 5.878\n",
      "epoch: 42, loss: 5.196\n",
      "epoch: 43, loss: 4.524\n",
      "epoch: 44, loss: 3.946\n",
      "epoch: 45, loss: 3.515\n",
      "epoch: 46, loss: 3.236\n",
      "epoch: 47, loss: 3.075\n",
      "epoch: 48, loss: 2.973\n",
      "epoch: 49, loss: 2.872\n"
     ]
    }
   ],
   "source": [
    "loss_results = []\n",
    "train_x = xp.array(train_data, dtype=xp.float32).reshape((-1, 1))\n",
    "for e in range(50):\n",
    "    model.zerograds()  # initialize gradients\n",
    "    loss = get_loss(model, train_x)  # get loss\n",
    "    loss.backward()  # compute backpropag\n",
    "    loss_results += [loss.data]\n",
    "    optimizer.update()\n",
    "    print('epoch: {:2d}, loss: {:.3f}'.format(e, float(loss.data)))"
   ]
  },
  {
   "cell_type": "markdown",
   "metadata": {},
   "source": [
    "### 評価"
   ]
  },
  {
   "cell_type": "code",
   "execution_count": 13,
   "metadata": {},
   "outputs": [],
   "source": [
    "model.clear_state()\n",
    "with chainer.no_backprop_mode():\n",
    "        out = model(train_data)"
   ]
  },
  {
   "cell_type": "code",
   "execution_count": 19,
   "metadata": {},
   "outputs": [
    {
     "data": {
      "text/plain": [
       "chainer.variable.Variable"
      ]
     },
     "execution_count": 19,
     "metadata": {},
     "output_type": "execute_result"
    }
   ],
   "source": [
    "type(out)"
   ]
  },
  {
   "cell_type": "code",
   "execution_count": 28,
   "metadata": {},
   "outputs": [
    {
     "data": {
      "image/png": "[encoded data removed]",
      "text/plain": [
       "<matplotlib.figure.Figure at 0x7f5b7e6ada58>"
      ]
     },
     "metadata": {},
     "output_type": "display_data"
    }
   ],
   "source": [
    "plt.plot(train_data[:50*3],  label='sin')\n",
    "plt.plot(chainer.cuda.to_cpu(out.data)[:50*3],  label='sin(predicted)')\n",
    "plt.legend()\n",
    "plt.show()"
   ]
  },
  {
   "cell_type": "code",
   "execution_count": null,
   "metadata": {
    "collapsed": true
   },
   "outputs": [],
   "source": []
  }
 ],
 "metadata": {
  "kernelspec": {
   "display_name": "Python 3",
   "language": "python",
   "name": "python3"
  },
  "language_info": {
   "codemirror_mode": {
    "name": "ipython",
    "version": 3
   },
   "file_extension": ".py",
   "mimetype": "text/x-python",
   "name": "python",
   "nbconvert_exporter": "python",
   "pygments_lexer": "ipython3",
   "version": "3.5.2"
  }
 },
 "nbformat": 4,
 "nbformat_minor": 2
}
