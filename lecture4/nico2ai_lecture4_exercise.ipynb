{
 "cells": [
  {
   "cell_type": "markdown",
   "metadata": {},
   "source": [
    "# NICO2AI  第3回 線形回帰 (7/8) 基礎演習\n",
    "## 今日の目標\n",
    "* デバッグの方法に慣れる\n",
    "* 機械学習のライブラリscikitlearnをマスターする\n",
    "* 機械学習の各手法を実際に動かしてみる\n",
    "\n",
    "## キーワード\n",
    "* デバッグ、pdb\n",
    "* scikitlearn\n",
    "* kmeans, SVM, PCA\n",
    "\n",
    "## 基礎演習の進め方\n",
    "1. 講師がコードの説明をします\n",
    "2. 講師の指示にしたがって、各セルのコードを実行してください\n",
    "3. 一部のコードは、「エラー例」「参考」用としてコメントアウトされています。必要に応じてコメントアウトを解除して挙動を確かめよう\n",
    "4. \"WRITE ME!\"と書かれている部分は講師の指示とヒントに従いながら自分の手で書いてみましょう"
   ]
  },
  {
   "cell_type": "code",
   "execution_count": null,
   "metadata": {
    "collapsed": true
   },
   "outputs": [],
   "source": [
    "#本日使うライブラリのインポート\n",
    "% matplotlib inline\n",
    "import numpy as np\n",
    "import matplotlib.pyplot as plt\n",
    "import pdb"
   ]
  },
  {
   "cell_type": "markdown",
   "metadata": {},
   "source": [
    "## デバッグ（バグ取り）に慣れる\n",
    "プログラムが複雑になってくると、バグの原因を見つけるのが難しくなってきます。\n",
    "そこで今回はバグを取る方法をいくつか紹介します。\n",
    "\n",
    "- **print文デバッグ:**\n",
    "怪しい箇所にprint文を挟み、変数を確認する方法。\n",
    "どんなプログラム言語でも有効な手段であり、よく使う。\n",
    "- **pdb:**\n",
    "python特有のデバッグ用ツール。インテラクティブに挙動を調べることができるので便利。"
   ]
  },
  {
   "cell_type": "markdown",
   "metadata": {},
   "source": [
    "### printデバッグ\n",
    "printデバッグは、変数を調べたいと思う箇所にprint文で変数の中身を出力させ想定している変数と合致するか確かめる方法です。\n",
    "\n",
    "\n",
    "単純に変数を出力する以外にもこんな例があります。\n",
    "- データのタイプを調べたい時　type(DATA)\n",
    "- listの大きさを調べたい時 len(DATA)\n",
    "- numpy配列の大きさを調べたいt時　DATA.shape\n"
   ]
  },
  {
   "cell_type": "code",
   "execution_count": null,
   "metadata": {},
   "outputs": [],
   "source": [
    "DATA = [1,2,3,4,5,6]\n",
    "print(type(DATA))\n",
    "print(len(DATA))\n",
    "DATA = np.zeros([10,4])\n",
    "print(DATA.shape)"
   ]
  },
  {
   "cell_type": "markdown",
   "metadata": {},
   "source": [
    "### pdbデバッグ\n",
    "ここで、pdbというデバッグ用のライブラリを紹介します。これはpythonに標準装備されているライブラリです。<br>\n",
    "エラー発生箇所の手前や変数の挙動を見たい位置に\n",
    "\n",
    "\n",
    "``pdb.set_trace()``\n",
    "\n",
    "\n",
    "という関数を挿入します。<br>\n",
    "すると、挿入した箇所でいったんプログラムを中断すると同時に、インタラクティブなインターフェースが出てきます。<br>\n",
    "例えば下の例で変数を打ち込んで中身を確かめてみてください。\n",
    "\n",
    "**※pdbを終了する時は必ずq(quit)とコマンドを打って終了するようにしてください**"
   ]
  },
  {
   "cell_type": "code",
   "execution_count": null,
   "metadata": {},
   "outputs": [],
   "source": [
    "def plus(x=2, y=3):\n",
    "    x = 2\n",
    "    y = 3\n",
    "    # pdb.set_trace() #これ\n",
    "    z = x + y\n",
    "    print(\"%d + %d = %d\"%(x,y,z))\n",
    "plus()"
   ]
  },
  {
   "cell_type": "markdown",
   "metadata": {},
   "source": [
    "### 詳しいコマンドの使い方\n",
    "\n",
    "<!--\n",
    "左詰め表記が利かない？\n",
    "| コマンド | 省略 | 概要 |\n",
    "| :------ | ------ | :------ |\n",
    "|help|h|コマンドのヘルプを表示「help」でコマンド一覧。<br>「help コマンド名」でコマンドのヘルプが表示される。|\n",
    "|where|w|スタックトレースを表示|\n",
    "|down|d|スタックトレース中に1レベル下げる|\n",
    "|up|u|スタックトレース中に1レベル上げる|\n",
    "|step|s|現在行を実行し、次の行に進む。<br>次の行が関数の場合、関数内で停止|\n",
    "|next|n|現在行を実行し、次の行に進む。<br>次の行が関数でも、関数内では停止しない|\n",
    "|return|r|現在の関数から抜ける|\n",
    "|list|l|現在行周辺のソースを表示デフォルトは11行表示する|\n",
    "|args|a|現在関数の引数一覧を表示\n",
    "|p 式||式内容を表示|\n",
    "|pp 式||式内容を pprint で表示|\n",
    "|quit|q|デバッガ終了|\n",
    "-->\n",
    "\n",
    "<img src=\"pdb.png\" width=\"50%\" style=\"{text-align:left}\">\n",
    "この中でも特によく使うのは、\n",
    "``list, next, args, quit``\n",
    "あたりだと思います。覚えておくといいでしょう。"
   ]
  },
  {
   "cell_type": "markdown",
   "metadata": {},
   "source": [
    "### 例題\n",
    "（１）次のコードは前回線形回帰をするときに使ったコードですが、一部間違った箇所があり実行できません。\n",
    "エラー文を読みつつデバッグしてみましょう。"
   ]
  },
  {
   "cell_type": "code",
   "execution_count": null,
   "metadata": {},
   "outputs": [],
   "source": [
    "import numpy as np\n",
    "import matplotlib.pyplot as plt\n",
    "\n",
    "rnd = np.random.RandomState(1701)\n",
    "\n",
    "n_train = 25  # 訓練データ数\n",
    "\n",
    "# ガウシアンノイズを持つデータ点を生成\n",
    "train_x = np.linspace(-3, 3, n_train)\n",
    "train_y = 0.5 * train_x + 0.2 + 0.2 * rnd.randn(len(train_x))\n",
    "\n",
    "# X = (train_xにバイアス項1の列ベクトルを追加)\n",
    "X = np.stack((train_x, np.ones(len(train_x))))\n",
    "\n",
    "# theta = (X^T X)^{-1} X^T y (方程式を解く)\n",
    "theta = np.linalg.solve(np.dot(X.T, X), np.dot(X.T, train_y))\n",
    "print(theta)"
   ]
  },
  {
   "cell_type": "markdown",
   "metadata": {},
   "source": [
    "<hr>\n",
    "# scikitlearn 入門\n",
    "機械学習のライブラリ、scikit-learnについて勉強します。\n",
    "\n",
    "scikit-learnでは基本的な流れとして\n",
    "1. データの用意\n",
    "2. モデルの選択\n",
    "3. 訓練データのフィッティング(fit)\n",
    "4. (テストデータの予測(predict))\n",
    "\n",
    "という3ステップで実行することができます。\n",
    "\n",
    "## scikitlearnで線形回帰を書いてみる\n",
    "基礎演習では線形回帰を例に見てみましょう<br>\n",
    "データは前回のコードをそのまま使います<br>\n",
    "次の発展演習では公式リファレンスを見ながらkmeans, SVM, PCAのコードを書いてもらいます\n",
    "\n",
    "**1.データを用意**"
   ]
  },
  {
   "cell_type": "code",
   "execution_count": null,
   "metadata": {
    "collapsed": true
   },
   "outputs": [],
   "source": [
    "rnd = np.random.RandomState(1701)\n",
    "n_train = 25  # 訓練データ数\n",
    "\n",
    "# ガウシアンノイズを持つデータ点を生成\n",
    "train_x = np.linspace(-3, 3, n_train)\n",
    "train_y = 0.5 * train_x + 0.2 + 0.2 * rnd.randn(len(train_x))"
   ]
  },
  {
   "cell_type": "markdown",
   "metadata": {},
   "source": [
    "**2.モデルを選択**\n",
    "\n",
    "線形回帰では\n",
    "\n",
    "``sklearn.linear_model.LinearRegression``\n",
    "\n",
    "という関数を使います。\n",
    "パラメータを指定したい時などはここで指定してあげます。\n",
    "\n",
    "公式サイトはこちらです:<br>\n",
    "http://scikit-learn.org/stable/modules/generated/sklearn.linear_model.LinearRegression.html\n",
    "<br>\n",
    "線形回帰に限らず、公式サイトに詳しい解説が載っているので、使い方がよくわからなくなったら公式サイトをチェックするようにしましょう\n"
   ]
  },
  {
   "cell_type": "code",
   "execution_count": null,
   "metadata": {},
   "outputs": [],
   "source": [
    "from sklearn import linear_model\n",
    "clf = linear_model.LinearRegression()"
   ]
  },
  {
   "cell_type": "markdown",
   "metadata": {},
   "source": [
    "**3.フィッティング**"
   ]
  },
  {
   "cell_type": "code",
   "execution_count": null,
   "metadata": {},
   "outputs": [],
   "source": [
    "clf.fit(train_x.reshape(-1,1), train_y.reshape(-1,1))"
   ]
  },
  {
   "cell_type": "markdown",
   "metadata": {},
   "source": [
    "**4.テストデータの予測**"
   ]
  },
  {
   "cell_type": "code",
   "execution_count": null,
   "metadata": {},
   "outputs": [],
   "source": [
    "test_x = [[-2.25],[-1],[0.5],[2.3]]\n",
    "predict = clf.predict(test_x)\n",
    "print(predict)"
   ]
  },
  {
   "cell_type": "markdown",
   "metadata": {},
   "source": [
    "**（補足）直線の形を調べる**\n",
    "\n",
    "線形回帰では予測よりも実際の直線を知りたいことが多いですが、\n",
    "その時は次のようにします"
   ]
  },
  {
   "cell_type": "code",
   "execution_count": null,
   "metadata": {},
   "outputs": [],
   "source": [
    "# 傾き\n",
    "print(clf.coef_)\n",
    "# 切片\n",
    "print(clf.intercept_)"
   ]
  },
  {
   "cell_type": "code",
   "execution_count": null,
   "metadata": {},
   "outputs": [],
   "source": [
    "# 訓練データ、テストデータをプロットしてみる\n",
    "plt.scatter(train_x, train_y, marker=\"x\",color=\"c\")\n",
    "plt.scatter(test_x, predict, color=\"r\")\n",
    "plt.plot(test_x, predict, color=\"r\")\n",
    "plt.show()"
   ]
  },
  {
   "cell_type": "markdown",
   "metadata": {},
   "source": [
    "簡単に線形回帰することができましたね。"
   ]
  }
 ],
 "metadata": {
  "kernelspec": {
   "display_name": "Python 3",
   "language": "python",
   "name": "python3"
  },
  "language_info": {
   "codemirror_mode": {
    "name": "ipython",
    "version": 3
   },
   "file_extension": ".py",
   "mimetype": "text/x-python",
   "name": "python",
   "nbconvert_exporter": "python",
   "pygments_lexer": "ipython3",
   "version": "3.5.3"
  }
 },
 "nbformat": 4,
 "nbformat_minor": 2
}
