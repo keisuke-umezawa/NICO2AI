{
 "cells": [
  {
   "cell_type": "markdown",
   "metadata": {},
   "source": [
    "# NICO2AI  第4回 線形回帰 (7/8) 実践演習\n",
    "\n",
    "## 実践演習の進め方\n",
    "1. 講師が題材及びコードの説明をします\n",
    "2. \"WRITE ME!\"の部分のコードを書いてみましょう\n",
    "3. 書き始める前に必要な処理の概略を頭の中やノートに浮かべてからコードに落とし込みましょう"
   ]
  },
  {
   "cell_type": "markdown",
   "metadata": {},
   "source": [
    "# kmeans\n",
    "kmeansをやってみましょう。\n",
    "\n",
    "- 公式リファレンス:<br>\n",
    "http://scikit-learn.org/stable/modules/generated/sklearn.cluster.KMeans.html\n",
    "\n",
    "使い方がわからないときはどんどん公式リファレンスを見るようにしましょう。\n",
    "\n",
    "※データの生成箇所のところは、scikitlearnに付属されてある。ランダムなデータセットを作れる関数を使いました。<br>\n",
    "http://scikit-learn.org/stable/modules/generated/sklearn.datasets.make_classification.html"
   ]
  },
  {
   "cell_type": "code",
   "execution_count": null,
   "metadata": {},
   "outputs": [],
   "source": [
    "% matplotlib inline\n",
    "import sklearn.cluster\n",
    "import sklearn.datasets\n",
    "import matplotlib.pyplot as plt\n",
    "\n",
    "# データの生成\n",
    "X1, Y1 = sklearn.datasets.make_blobs(n_samples=200, n_features=2, centers=4, random_state=1)"
   ]
  },
  {
   "cell_type": "code",
   "execution_count": null,
   "metadata": {},
   "outputs": [],
   "source": [
    "#データの可視化\n",
    "plt.figure()\n",
    "plt.scatter(*X1.T)\n",
    "plt.grid()\n",
    "plt.figure()\n",
    "plt.scatter(*X1.T, marker='o', c=Y1)\n",
    "plt.grid()\n",
    "plt.show()"
   ]
  },
  {
   "cell_type": "code",
   "execution_count": null,
   "metadata": {},
   "outputs": [],
   "source": [
    "# 正解ラベル\n",
    "print(Y1)"
   ]
  },
  {
   "cell_type": "code",
   "execution_count": null,
   "metadata": {},
   "outputs": [],
   "source": [
    "# モデルの宣言\n",
    "kmeans =  #WRITE ME　"
   ]
  },
  {
   "cell_type": "code",
   "execution_count": null,
   "metadata": {},
   "outputs": [],
   "source": [
    "# フィッティング\n",
    "Ypred = # WRITE ME\n",
    "print(Ypred)"
   ]
  },
  {
   "cell_type": "code",
   "execution_count": null,
   "metadata": {},
   "outputs": [],
   "source": [
    "# 結果の可視化\n",
    "plt.figure()\n",
    "plt.scatter(*X1.T, marker='o', c=Y1)\n",
    "plt.title(\"correct label\")\n",
    "plt.grid()\n",
    "plt.figure()\n",
    "plt.scatter(*X1.T, marker='o', c=Ypred)\n",
    "plt.title(\"predicted label\")\n",
    "plt.grid()\n",
    "plt.show()"
   ]
  },
  {
   "cell_type": "markdown",
   "metadata": {},
   "source": [
    "# PCA\n",
    "scikitlearnでは手書き文字のデータセットが用意されています。<br>\n",
    "http://scikit-learn.org/stable/modules/generated/sklearn.datasets.load_digits.html\n",
    "\n",
    "ここでは、PCAを使って手書き文字のデータの次元圧縮をしてみましょう。\n",
    "\n",
    "- 公式リファレンス:<br>\n",
    "http://scikit-learn.org/stable/modules/generated/sklearn.decomposition.PCA.html"
   ]
  },
  {
   "cell_type": "code",
   "execution_count": null,
   "metadata": {},
   "outputs": [],
   "source": [
    "% matplotlib inline\n",
    "import sklearn.decomposition\n",
    "import sklearn.datasets\n",
    "import matplotlib.pyplot as plt\n",
    "\n",
    "data = sklearn.datasets.load_digits(n_class=5) # sklearnに付属の手書き文字データ"
   ]
  },
  {
   "cell_type": "code",
   "execution_count": null,
   "metadata": {},
   "outputs": [],
   "source": [
    "# データを可視化\n",
    "plt.figure()\n",
    "for i in range(1,11):\n",
    "    plt.subplot(2,5,i)\n",
    "    plt.imshow(data.images[i], cmap=\"gray\", interpolation=\"none\")\n",
    "    plt.title(data.target[i])\n",
    "plt.show()"
   ]
  },
  {
   "cell_type": "code",
   "execution_count": null,
   "metadata": {},
   "outputs": [],
   "source": [
    "# モデルの宣言\n",
    "# 今回は可視化してみたいので2次元に圧縮してみましょう\n",
    "pca = #WRITE ME\n",
    "\n",
    "# 2次元空間に写像する\n",
    "pca_point = #WRITE ME"
   ]
  },
  {
   "cell_type": "code",
   "execution_count": null,
   "metadata": {},
   "outputs": [],
   "source": [
    "# 結果の可視化\n",
    "color = [\"r\",\"c\",\"m\",\"b\",\"g\"]\n",
    "plt.scatter(*pca_point.T, marker=\".\", color=map(lambda x:color[x], data.target))\n",
    "plt.xlabel(\"PC1\")\n",
    "plt.ylabel(\"PC2\")\n",
    "plt.grid()\n",
    "plt.show()"
   ]
  },
  {
   "cell_type": "markdown",
   "metadata": {},
   "source": [
    "# SVM\n",
    "SVMを実際にやってみます。\n",
    "せっかくなので、先ほど次元圧縮した手書き文字データを使ってクラス分けしてみましょう。\n",
    "\n",
    "- 公式リファレンス:<br>\n",
    "http://scikit-learn.org/stable/modules/generated/sklearn.svm.SVC.html"
   ]
  },
  {
   "cell_type": "code",
   "execution_count": null,
   "metadata": {},
   "outputs": [],
   "source": [
    "import sklearn.decomposition\n",
    "import sklearn.datasets\n",
    "import sklearn.svm\n",
    "import matplotlib.pyplot as plt\n",
    "\n",
    "data = sklearn.datasets.load_digits(n_class=5)\n",
    "train_data = data.data[:800]\n",
    "train_label = data.target[:800]\n",
    "test_data = data.data[800:]\n",
    "test_label = data.target[800:]\n",
    "\n",
    "# PCAで次元圧縮\n",
    "## モデル宣言\n",
    "pca = # WRITE ME\n",
    "## 次元圧縮（train_dataを使ってください）\n",
    "pca_point = # WRITE ME"
   ]
  },
  {
   "cell_type": "code",
   "execution_count": null,
   "metadata": {},
   "outputs": [],
   "source": [
    "# SVMで学習\n",
    "# モデルの選択\n",
    "svm = #WRITE ME!\n",
    "\n",
    "# フィッティング\n",
    "#WRITE ME!"
   ]
  },
  {
   "cell_type": "code",
   "execution_count": null,
   "metadata": {},
   "outputs": [],
   "source": [
    "#テストデータの次元圧縮\n",
    "transformed_test_data = pca.transform(test_data)\n",
    "\n",
    "# テストデータの予測\n",
    "predict = #WRITE ME\n",
    "print(predict)"
   ]
  },
  {
   "cell_type": "code",
   "execution_count": null,
   "metadata": {},
   "outputs": [],
   "source": [
    "# 正解率の計算\n",
    "# scikitlearnは関係ないですが、正解率を計算するコードを書いてみましょう"
   ]
  },
  {
   "cell_type": "code",
   "execution_count": null,
   "metadata": {},
   "outputs": [],
   "source": [
    "# 結果の可視化\n",
    "test_image = data.images[800:]\n",
    "plt.figure()\n",
    "for i in range(1,11):\n",
    "    plt.subplot(2,5,i)\n",
    "    plt.imshow(test_image[i], cmap=\"gray\", interpolation=\"none\")\n",
    "    plt.title(predict[i]) # 各画像のタイトルが予測ラベルを表すようにします\n",
    "plt.show()"
   ]
  },
  {
   "cell_type": "markdown",
   "metadata": {},
   "source": [
    "### 補足課題\n",
    "次元圧縮の重要性を確かめるために、元のデータ(64次元)のままクラスタリングして正解率を見てみましょう<br>\n",
    "余力がある人は、2次元でなくｎ次元（n=3,4,5...）に圧縮するとどうなるか確かめてみましょう"
   ]
  },
  {
   "cell_type": "code",
   "execution_count": null,
   "metadata": {},
   "outputs": [],
   "source": [
    "# WRITE ME"
   ]
  }
 ],
 "metadata": {
  "kernelspec": {
   "display_name": "Python 2",
   "language": "python",
   "name": "python2"
  },
  "language_info": {
   "codemirror_mode": {
    "name": "ipython",
    "version": 2
   },
   "file_extension": ".py",
   "mimetype": "text/x-python",
   "name": "python",
   "nbconvert_exporter": "python",
   "pygments_lexer": "ipython2",
   "version": "2.7.12"
  }
 },
 "nbformat": 4,
 "nbformat_minor": 2
}
