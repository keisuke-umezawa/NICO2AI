{
 "cells": [
  {
   "cell_type": "markdown",
   "metadata": {},
   "source": [
    "# NICO2AI  第3回 線形回帰 (7/1) 基礎演習\n",
    "## 今日の目標\n",
    "* Pythonの利便性を上げるクラスなどの構文が書けるようになる\n",
    "* 二乗誤差最小化に基づく線形回帰アルゴリズムを数式で記述し、その実装ができる\n",
    "* 実データを用いて線形回帰を行い、その結果をMatplotlibを用いて可視化できる\n",
    "\n",
    "## キーワード\n",
    "* 最小二乗回帰\n",
    "* map, reduce, filter\n",
    "* Advanced indexing\n",
    "* Matplotlib\n",
    "\n",
    "## 基礎演習の進め方\n",
    "1. 講師がコードの説明をします\n",
    "2. 講師の指示にしたがって、各セルのコードを実行してください\n",
    "3. 一部のコードは、「エラー例」「参考」用としてコメントアウトされています。必要に応じてコメントアウトを解除して挙動を確かめよう\n",
    "4. \"WRITE ME!\"と書かれている部分は講師の指示とヒントに従いながら自分の手で書いてみましょう"
   ]
  },
  {
   "cell_type": "code",
   "execution_count": 1,
   "metadata": {
    "collapsed": true
   },
   "outputs": [],
   "source": [
    "# 今日使うパッケージのインポート\n",
    "%matplotlib inline\n",
    "\n",
    "import os\n",
    "import time\n",
    "import numpy as np\n",
    "import matplotlib.pyplot as plt\n",
    "import matplotlib.font_manager as fm\n",
    "from sklearn import datasets\n",
    "\n",
    "# デフォルトのスタイルシートの変更\n",
    "plt.style.use('ggplot')\n",
    "plt.rcParams['ytick.color'] = '111111'\n",
    "plt.rcParams['xtick.color'] = '111111'\n",
    "plt.rcParams['axes.labelcolor'] = '111111'\n",
    "plt.rcParams['font.size'] = 15\n",
    "\n",
    "# 日本語文字化け対策\n",
    "fontnames = [os.path.basename(fm.FontProperties(fname=f).get_name()) for f in fm.findSystemFonts()]\n",
    "selected = list(filter(lambda x: 'IPAGothic' in x or 'TakaoGothic' in x or 'Osaka' in x, fontnames))\n",
    "\n",
    "if len(selected) == 0:\n",
    "    print('ERROR! Install Japanese font beforehand')\n",
    "else:\n",
    "    plt.rcParams['font.family'] = selected[0]"
   ]
  },
  {
   "cell_type": "markdown",
   "metadata": {},
   "source": [
    "# 1. Python・numpyのさらなる活用\n",
    "前2回より発展的なPython・numpyの使い方を学びましょう。\n",
    "\n",
    "## map, reduce, filterとラムダ式\n",
    "たくさんのファイルやデータを処理する時、しばしばリストの各要素に対して同じ処理をしたい場合があります。  \n",
    "その際、Pythonではmap, reduce, filterと呼ばれる便利な関数群を使うことができます。\n",
    "これらの基本的な使い方は3関数共通で、\n",
    "```\n",
    "結果 = 関数名(関数またはラムダ式、リスト)\n",
    "```\n",
    "という呼び出し方をします。実際に場面と用法を見ていきましょう。\n",
    "\n",
    "### ラムダ式 (lambda)\n",
    "本題に移る前に、ラムダ式について簡単に説明します。\n",
    "ラムダ式はlambdaキーワードを使って、**無名 (名無し) 関数**を書くことができる仕組みです。\n",
    "\n",
    "map/reduce/filterはいずれも同じ処理を繰り返しおこないますが、簡単な処理 (足し算など) のためにいちいち関数を定義してやるのは面倒な上、わざわざ名前をつけなくとも良い場合が多々あります。  \n",
    "例えば、変数xのy乗を計算する場合、通常の関数では"
   ]
  },
  {
   "cell_type": "code",
   "execution_count": 2,
   "metadata": {},
   "outputs": [
    {
     "name": "stdout",
     "output_type": "stream",
     "text": [
      "9\n"
     ]
    }
   ],
   "source": [
    "def power(x, y):\n",
    "    return x ** y\n",
    "\n",
    "print(power(3, 2))  # -> 9"
   ]
  },
  {
   "cell_type": "markdown",
   "metadata": {},
   "source": [
    "とかいてやる必要がありますが、ラムダ式では\n",
    "```\n",
    "lambda 引数: 返り値\n",
    "```\n",
    "と書くことで、1行に収めることができます。これから紹介する関数ではラムダ式が非常に便利な役割を果たします。"
   ]
  },
  {
   "cell_type": "code",
   "execution_count": 3,
   "metadata": {},
   "outputs": [
    {
     "name": "stdout",
     "output_type": "stream",
     "text": [
      "9\n"
     ]
    }
   ],
   "source": [
    "f = lambda x, y: x ** y\n",
    "\n",
    "print(f(3, 2))"
   ]
  },
  {
   "cell_type": "markdown",
   "metadata": {},
   "source": [
    "### map: 同じ処理を繰り返す\n",
    "mapキーワードは、**リスト中の全ての要素に対して同じ計算を行い**、イテレータを返します。  \n",
    "range文と同様、帰ってきたイテレータをlist()で囲ってやると、新しいリストを得ることができます。\n",
    "\n",
    "#### 使用場面：\n",
    "* ファイル名の一覧に対し、全て拡張子をつける\n",
    "* 浮動小数点のリストをint関数を使って全て整数にする\n",
    "\n",
    "**注意：数値を全て2倍するなどの操作なら、numpyの機能を使ったほうが良い**"
   ]
  },
  {
   "cell_type": "code",
   "execution_count": 4,
   "metadata": {},
   "outputs": [
    {
     "name": "stdout",
     "output_type": "stream",
     "text": [
      "[0, 1, 2, 3, 4, 5, 6, 7, 8, 9]\n",
      "[0, 2, 4, 6, 8, 10, 12, 14, 16, 18]\n",
      "['GOPR0088.jpg', 'GOPR0089.jpg', 'GOPR0090.jpg']\n",
      "GOPR0088.jpg\n",
      "GOPR0089.jpg\n",
      "GOPR0090.jpg\n"
     ]
    }
   ],
   "source": [
    "# リストの全ての要素を2倍に\n",
    "single = list(range(10))\n",
    "print(single)\n",
    "\n",
    "double = list(map(lambda x: x * 2, single))\n",
    "print(double)\n",
    "\n",
    "# ファイル名の末尾に.jpgを付け加える\n",
    "filename_list = [\"GOPR0088\", \"GOPR0089\", \"GOPR0090\"]\n",
    "filename_ext_list = list(map(lambda x: x+\".jpg\", filename_list))\n",
    "print(filename_ext_list)\n",
    "\n",
    "# range文と同じように使うこともできる\n",
    "for filename in map(lambda x: x+\".jpg\", filename_list):\n",
    "    print(filename)"
   ]
  },
  {
   "cell_type": "markdown",
   "metadata": {},
   "source": [
    "### reduce: 順番に束ねる\n",
    "reduce関数は、map関数とは異なり、次のような操作を行います：\n",
    "1. リストの先頭2つをとる\n",
    "2. 2つの要素に対して処理を行い、処理結果を得る\n",
    "3. 続いて、得られた処理結果と3番めをとり、処理する要素がなくなるまで繰り返す\n",
    "\n",
    "#### 使用場面：\n",
    "* たくさんのリストや文字列を1つに連結する"
   ]
  },
  {
   "cell_type": "code",
   "execution_count": 5,
   "metadata": {},
   "outputs": [
    {
     "name": "stdout",
     "output_type": "stream",
     "text": [
      "hello\n",
      "[0, 1, 2, 3, 4, 5, 6, 7, 8, 9, 0, 1, 2, 3, 4, 5, 6, 7, 8, 9, 0, 1, 2, 3, 4, 5, 6, 7, 8, 9, 0, 1, 2, 3, 4, 5, 6, 7, 8, 9, 0, 1, 2, 3, 4, 5, 6, 7, 8, 9, 0, 1, 2, 3, 4, 5, 6, 7, 8, 9, 0, 1, 2, 3, 4, 5, 6, 7, 8, 9, 0, 1, 2, 3, 4, 5, 6, 7, 8, 9, 0, 1, 2, 3, 4, 5, 6, 7, 8, 9, 0, 1, 2, 3, 4, 5, 6, 7, 8, 9]\n"
     ]
    }
   ],
   "source": [
    "# Python2では組み込みだったが、Python3でfunctoolsというモジュール内の関数に格下げ\n",
    "from functools import reduce\n",
    "\n",
    "# 文字列の連結\n",
    "splitted_strs = [\"h\", \"e\", \"l\", \"l\", \"o\"]\n",
    "string = reduce(lambda a, b: a + b, splitted_strs)\n",
    "print(string)\n",
    "\n",
    "# リストの連結\n",
    "many_lists = [list(range(10)) for _ in range(10)]\n",
    "large_list = reduce(lambda a, b: a + b, many_lists)\n",
    "print(large_list)"
   ]
  },
  {
   "cell_type": "markdown",
   "metadata": {},
   "source": [
    "### filter: 値を選び出す\n",
    "filter関数は、**ある条件にしたがってリスト中の値を選び出す**操作を行います。\n",
    "map関数と同じように、各要素を入力とする関数またはラムダ式を書きますが、そこでTrueを返したものを残し、Falseを返したものを排除します。\n",
    "#### 使用場面：\n",
    "* たくさんのリストのうち、長さが0 (空) のものを排除する\n",
    "* 辞書 (dict) のあるキーについて、ある値を持つ要素を選び出す\n",
    "\n",
    "**注意：多くの場合、numpyのadvanced indexingを使った方が良い**"
   ]
  },
  {
   "cell_type": "code",
   "execution_count": 6,
   "metadata": {},
   "outputs": [
    {
     "name": "stdout",
     "output_type": "stream",
     "text": [
      "[[1, 2, 3], [1, 2], [3, 4]]\n",
      "[{'foo': 'bar', 'hoge': 'fuga'}, {'foo': 'bar', 'hoge': 'fuga'}]\n"
     ]
    }
   ],
   "source": [
    "# 空リストの削除\n",
    "data = [[1, 2, 3], [1, 2], [], [3, 4], []]\n",
    "filtered_data = list(filter(lambda x: len(x) > 0, data))\n",
    "print(filtered_data)\n",
    "\n",
    "# 名前によるフィルタ\n",
    "dicts = [{\"hoge\": \"fuga\", \"foo\": \"bar\"}, {\"hoge\": \"fuga\", \"foo\": \"bar\"}, {\"hoge\": \"huga\", \"foo\": \"var\"}]\n",
    "filtered_dicts = list(filter(lambda x: x[\"hoge\"] == \"fuga\", dicts))\n",
    "print(filtered_dicts)"
   ]
  },
  {
   "cell_type": "markdown",
   "metadata": {},
   "source": [
    "## クラス (class)\n",
    "Pythonは、オブジェクト指向プログラミング (Object Oriented Programming) を意識した言語の1つです。そのため、Pythonにおいてもクラスの機能が定義されています。関数はその機能のみをひとくくりにしていたのを、クラスでは関数 (メソッド) と使用するデータを纏めて、**必ずしもクラス内部の詳細を意識せずに機能を利用することができるようになります (カプセル化)**。\n",
    "\n",
    "### クラスの定義\n",
    "クラスの定義には、classキーワードを使います。何もしないクラスはたった2行でかけます："
   ]
  },
  {
   "cell_type": "code",
   "execution_count": 7,
   "metadata": {
    "collapsed": true
   },
   "outputs": [],
   "source": [
    "class Sample_class:\n",
    "    pass  # pass文： if 文、for文、関数などで「何もしない」を書きたい時に使用"
   ]
  },
  {
   "cell_type": "markdown",
   "metadata": {},
   "source": [
    "今まで通り、クラスの中身はクラス定義から1段インデントしたところに書きます。\n",
    "\n",
    "### メソッド・インスタンス変数・\\_\\_init\\_\\_\n",
    "クラスは、例えていえば「設計図」のようなものです。実際にその機能を使うためには、クラスを「インスタンス」と呼ばれる実体として作成する必要があります。\n",
    "\n",
    "クラスの中身には**メソッド (関数のようなもの)** と**インスタンス変数 (クラス内の変数)**があり、インスタンス変数の値はインスタンスごとに独立に保持されます。\n",
    "\n",
    "#### \\_\\_init\\_\\_関数\n",
    "クラスをインスタンス化する際、中身を初期化するために\\_\\_init\\_\\_関数が必ず呼びだされます。ここに、クラス内の値の初期化を記述します。\n",
    "\n",
    "#### 例：カウンタ"
   ]
  },
  {
   "cell_type": "code",
   "execution_count": 8,
   "metadata": {
    "collapsed": true
   },
   "outputs": [],
   "source": [
    "# カウンタの定義\n",
    "class Counter:\n",
    "    def __init__(self):\n",
    "        self.count = 0\n",
    "        \n",
    "    def push_count(self):\n",
    "        self.count += 1\n",
    "    \n",
    "    def get_count(self):\n",
    "        return self.count"
   ]
  },
  {
   "cell_type": "code",
   "execution_count": 9,
   "metadata": {},
   "outputs": [
    {
     "name": "stdout",
     "output_type": "stream",
     "text": [
      "0\n",
      "2\n"
     ]
    }
   ],
   "source": [
    "# 使ってみる\n",
    "counter_1 = Counter()  # インスタンス化\n",
    "print(counter_1.get_count())  # 初期値は0\n",
    "counter_1.push_count()\n",
    "counter_1.push_count()\n",
    "print(counter_1.get_count())  # 2回呼び出したので2"
   ]
  },
  {
   "cell_type": "code",
   "execution_count": 10,
   "metadata": {},
   "outputs": [
    {
     "name": "stdout",
     "output_type": "stream",
     "text": [
      "0\n"
     ]
    }
   ],
   "source": [
    "counter_2 = Counter()  # インスタンス化\n",
    "print(counter_2.get_count())  # 別のインスタンスは元のインスタンスとは別物"
   ]
  },
  {
   "cell_type": "markdown",
   "metadata": {},
   "source": [
    "## selfキーワード\n",
    "すでにお気づきの方もいる通り、\n",
    "* メソッド\n",
    "* インスタンス変数\n",
    "\n",
    "の両方に\"self\"というキーワードが使われています。\n",
    "\n",
    "これは、Pythonがこの関数・変数があるクラスに属するものを見分けるためのもので、\n",
    "* メソッドの最初の引数には必ずselfをつける\n",
    "* インスタンス変数は常にself.と続ける\n",
    "\n",
    "しないとメソッド・インスタンス変数として認識されません。\n",
    "\n",
    "一方、これらの関数を呼び出すときに\"self\"をつける必要はありません。  \n",
    "一見面倒 (そして実際面倒) な仕組みではありますが、**selfがついていればそれがメソッドまたはクラス変数であることがひと目でわかる**ことをPythonが重視した結果、このような仕組みになっています。"
   ]
  },
  {
   "cell_type": "markdown",
   "metadata": {},
   "source": [
    "### クラスの例：ガウス分布を用いた確率的分類\n",
    "第4回で扱うscikit-learnは、多数の機能を提供していますが、各クラスは必ず次のような**統一的なインターフェース**を用意しています。\n",
    "* Estimator: データから学習するときには、**fit**関数を呼び出す\n",
    "* Predictor: 学習済みのモデルを使って何らかの予測するときには、**predict**関数を呼び出す\n",
    "* Transformer: 入力データを学習済みモデルを用いて変換するときには、**transform**関数を呼び出す\n",
    "* Model: 学習したモデルの良さ (Goodness of fit, 適合度)を計算するときには、**score**関数を呼び出す\n",
    "\n",
    "参考：http://scikit-learn.org/stable/developers/contributing.html#apis-of-scikit-learn-objects\n",
    "\n",
    "講義で紹介したガウス分布のフィッティングを、scikit-learn風に書いてみます："
   ]
  },
  {
   "cell_type": "code",
   "execution_count": 1,
   "metadata": {
    "collapsed": true
   },
   "outputs": [],
   "source": [
    "class GaussianClassifier:\n",
    "    def __init__(self, n_classes):\n",
    "        # インスタンス変数の初期化\n",
    "        self.n_classes = n_classes\n",
    "        self.mus = [0.0 for _ in range(n_classes)]  # クラスごとのガウス分布の平均\n",
    "        self.sigmas = [1.0 for _ in range(n_classes)]  # クラスごとのガウス分布の分散\n",
    "        self.priors = [1/n_classes for _ in range(n_classes)]  # クラスの事前確率\n",
    "    \n",
    "    def fit(self, X, Y):\n",
    "        for cls in range(self.n_classes):\n",
    "            X_c = X[Y == cls]  # ブーリアンマスクで品種 (クラス) ごとのデータを取り出す (後述)\n",
    "            # ガウス分布の最尤推定 (標本平均、標本分散)\n",
    "            self.mus[cls] = np.mean(X_c)\n",
    "            self.sigmas[cls] = np.var(X_c)\n",
    "        cnts = np.array([sum(Y == cls) for cls in range(self.n_classes)])  # クラスの事前分布p(y)の計算\n",
    "        self.priors = cnts / np.sum(cnts)  # 正規化して確率分布とする\n",
    "        \n",
    "    def predict(self, x):\n",
    "        probs = np.array([np.exp(-((x - mu) ** 2)/(2 * sigma)) / np.sqrt(2 * np.pi * sigma) * prior\n",
    "                 for mu, sigma, prior in zip(self.mus, self.sigmas, self.priors)])\n",
    "        return probs / np.sum(probs)  # 正規化して確率分布とする"
   ]
  },
  {
   "cell_type": "markdown",
   "metadata": {},
   "source": [
    "上では、ガウス分布を用いた確率的生成モデルを定義していますが、私達はその中身を意識することなく、下のようにこのモデルを使うことができます："
   ]
  },
  {
   "cell_type": "code",
   "execution_count": 12,
   "metadata": {},
   "outputs": [
    {
     "name": "stdout",
     "output_type": "stream",
     "text": [
      "4.0cm - 予測された品種: setosa (確率: 0.9607760200892345)\n",
      "5.0cm - 予測された品種: setosa (確率: 0.8691125452841645)\n",
      "6.0cm - 予測された品種: versicolor (確率: 0.6433303906775817)\n",
      "7.0cm - 予測された品種: virginica (確率: 0.8513394990157609)\n",
      "8.0cm - 予測された品種: virginica (確率: 0.9956514498995187)\n"
     ]
    }
   ],
   "source": [
    "# 使用例：がく片長からアヤメの品種を予測\n",
    "iris = datasets.load_iris()\n",
    "X = iris.data[:, 0]  #  今回は簡単のため1次元データを使用\n",
    "Y = iris.target\n",
    "labels = ['setosa', 'versicolor', 'virginica']\n",
    "colors = ['r', 'g', 'b']\n",
    "n_classes = 3\n",
    "\n",
    "# モデルの学習\n",
    "classifier = GaussianClassifier(n_classes)\n",
    "classifier.fit(X, Y)  # 学習器の中身を意識することなく学習を実行できる\n",
    "\n",
    "# 4cm〜8cmを1cm刻みで入力した場合の品種予測\n",
    "for input_length in np.arange(4, 9, dtype=np.float):\n",
    "    p = classifier.predict(input_length)\n",
    "    print(\"{}cm - 予測された品種: {} (確率: {})\".format(input_length, labels[np.argmax(p)], np.max(p)))"
   ]
  },
  {
   "cell_type": "markdown",
   "metadata": {},
   "source": [
    "### 補足：確率分布の可視化\n",
    "上の分類器の挙動は、可視化するとひと目でわかります。  \n",
    "各入力点において、そのクラス確率が最も大きなものを予測とします。"
   ]
  },
  {
   "cell_type": "code",
   "execution_count": 13,
   "metadata": {},
   "outputs": [
    {
     "data": {
      "image/png": "[encoded data removed]",
      "text/plain": [
       "<matplotlib.figure.Figure at 0x7efda460e668>"
      ]
     },
     "metadata": {},
     "output_type": "display_data"
    }
   ],
   "source": [
    "plt.figure()\n",
    "plt.title(\"Histogram of sepal length (cm)\")\n",
    "bins = np.linspace(2, 10, 40)\n",
    "for cls in range(n_classes):\n",
    "    X_c = X[Y == cls]\n",
    "    color = colors[cls]\n",
    "    label = labels[cls]\n",
    "    plt.hist(X_c, bins=bins, alpha=0.33, color=color, normed=True, label=label)\n",
    "    mu = np.mean(X_c)\n",
    "    sigma = np.var(X_c)\n",
    "    x = np.linspace(-10, 10, 400)\n",
    "    y = np.exp(-((x - mu) ** 2)/(2 * sigma)) / np.sqrt(2 * np.pi * sigma)\n",
    "    plt.plot(x, y, linewidth=2, color=color)\n",
    "plt.plot(np.arange(4, 9), np.ones(5)*0.03, linestyle='None', marker='x', color='k')\n",
    "plt.xlim(2, 10)\n",
    "plt.xlabel('Sepal length (cm)')\n",
    "plt.ylabel('Probability')\n",
    "plt.legend()\n",
    "plt.show()"
   ]
  },
  {
   "cell_type": "markdown",
   "metadata": {},
   "source": [
    "## Advanced Indexing\n",
    "すでに第1回で、次のような要素の切り出しができることを扱いました：\n",
    "```\n",
    "配列[start:end:step,...]\n",
    "```\n",
    "要素の切り出しはコピーを伴わないため**高速**である反面、次のような状況では使えませんでした：\n",
    "* リストの1, 2, 4, 5番目を取り出す (非連続)\n",
    "* 入力と出力のペアX, y (共にリスト) から、**y == 1**に対応するXを取り出す\n",
    "* 行列Xの要素のうち、負のものをゼロにする\n",
    "\n",
    "Numpyでは、自然に上記の操作を書くことができる**advanced indexing**と呼ばれる機能を備えています。  \n",
    "実際に見てみましょう："
   ]
  },
  {
   "cell_type": "code",
   "execution_count": 14,
   "metadata": {},
   "outputs": [
    {
     "name": "stdout",
     "output_type": "stream",
     "text": [
      "[1 2 4 5]\n",
      "[1 4 5]\n"
     ]
    }
   ],
   "source": [
    "a = np.array([1, 2, 3, 4, 5])\n",
    "print(a[[0, 1, 3, 4]])  # インデックスに非連続のリストを入れることができる\n",
    "\n",
    "x = np.array([[1, 2], [3, 4], [5, 6]])\n",
    "print(x[[0, 1, 2], [0, 1, 0]])  # 軸ごとにインデックスを指定"
   ]
  },
  {
   "cell_type": "markdown",
   "metadata": {},
   "source": [
    "### Boolean array indexing\n",
    "取り出したい要素のインデックスを数字で指定するだけでなく、ブーリアンマスク (TrueまたはFalseで構成された配列) を用いて、**Trueのインデックスの値**だけを取り出すことができます："
   ]
  },
  {
   "cell_type": "code",
   "execution_count": 15,
   "metadata": {},
   "outputs": [
    {
     "name": "stdout",
     "output_type": "stream",
     "text": [
      "[[1 2]\n",
      " [5 6]]\n",
      "[[1 2]\n",
      " [5 6]]\n"
     ]
    }
   ],
   "source": [
    "# 下の2つは等価\n",
    "print(x[[0, 2]])\n",
    "print(x[[True, False, True]])"
   ]
  },
  {
   "cell_type": "markdown",
   "metadata": {},
   "source": [
    "### Advanced indexingの活用例"
   ]
  },
  {
   "cell_type": "code",
   "execution_count": 16,
   "metadata": {},
   "outputs": [
    {
     "name": "stdout",
     "output_type": "stream",
     "text": [
      "[ True False  True]\n",
      "[[1 3]\n",
      " [4 1]]\n",
      "[[False  True]\n",
      " [ True False]]\n",
      "[[ 3.1  0. ]\n",
      " [ 0.   6.7]]\n"
     ]
    }
   ],
   "source": [
    "# 入力と出力のペア\n",
    "X = np.array([[1, 3], [2, 5], [4, 1]])\n",
    "y = np.array([0, 1, 0])\n",
    "print(y == 0)  # ==との比較はブーリアンの行列を返す\n",
    "print(X[y == 0])  # クラス0に対応するXのみを取り出す\n",
    "\n",
    "# 一部の要素の書き換え\n",
    "A = np.array([[3.1, -1.5], [-4.2, 6.7]])\n",
    "print(A < 0)\n",
    "A[A < 0] = 0.0\n",
    "print(A)  # 負の値だけを0にできた！"
   ]
  },
  {
   "cell_type": "markdown",
   "metadata": {},
   "source": [
    "### Advanced indexingの注意点\n",
    "Advanced indexingは便利な反面、通常の切り出しよりかなり遅いため、濫用は避けましょう。\n",
    "\n",
    "参考：https://docs.scipy.org/doc/numpy/reference/arrays.indexing.html"
   ]
  },
  {
   "cell_type": "code",
   "execution_count": 17,
   "metadata": {},
   "outputs": [
    {
     "name": "stdout",
     "output_type": "stream",
     "text": [
      "0.0043125152587890625 (s)\n"
     ]
    }
   ],
   "source": [
    "# 切り出し\n",
    "start = time.time()\n",
    "x = np.arange(10000)\n",
    "for _ in range(10000):\n",
    "    y = x[2500:7500]\n",
    "end = time.time()\n",
    "print(\"{} (s)\".format(end - start))"
   ]
  },
  {
   "cell_type": "code",
   "execution_count": 18,
   "metadata": {},
   "outputs": [
    {
     "name": "stdout",
     "output_type": "stream",
     "text": [
      "0.8378379344940186 (s)\n"
     ]
    }
   ],
   "source": [
    "# ランダムなマスク\n",
    "start = time.time()\n",
    "x = np.arange(10000)\n",
    "random_mask = np.round(np.random.random(10000)).astype(np.bool)\n",
    "for _ in range(10000):\n",
    "    y = x[random_mask]\n",
    "end = time.time()\n",
    "print(\"{} (s)\".format(end - start))"
   ]
  },
  {
   "cell_type": "markdown",
   "metadata": {},
   "source": [
    "## 書いてみよう(2) ：Advanced indexingを用いた変数のマスク\n",
    "irisデータセットには、Xに3品種のデータが含まれており、対応するYにはその品種のクラスが0〜2の3種類の値として格納されています。\n",
    "\n",
    "**課題**：クラス1 (Verisicolor) のデータのみを\n",
    "* 配列の切り出し\n",
    "* ブーリアンマスク\n",
    "\n",
    "の2種類の方法で取り出せ。"
   ]
  },
  {
   "cell_type": "code",
   "execution_count": 19,
   "metadata": {},
   "outputs": [
    {
     "name": "stdout",
     "output_type": "stream",
     "text": [
      "[0 0 0 0 0 0 0 0 0 0 0 0 0 0 0 0 0 0 0 0 0 0 0 0 0 0 0 0 0 0 0 0 0 0 0 0 0\n",
      " 0 0 0 0 0 0 0 0 0 0 0 0 0 1 1 1 1 1 1 1 1 1 1 1 1 1 1 1 1 1 1 1 1 1 1 1 1\n",
      " 1 1 1 1 1 1 1 1 1 1 1 1 1 1 1 1 1 1 1 1 1 1 1 1 1 1 2 2 2 2 2 2 2 2 2 2 2\n",
      " 2 2 2 2 2 2 2 2 2 2 2 2 2 2 2 2 2 2 2 2 2 2 2 2 2 2 2 2 2 2 2 2 2 2 2 2 2\n",
      " 2 2]\n"
     ]
    }
   ],
   "source": [
    "X = np.array(iris.data)\n",
    "Y = np.array(iris.target)\n",
    "\n",
    "print(Y)"
   ]
  },
  {
   "cell_type": "code",
   "execution_count": 20,
   "metadata": {
    "collapsed": true
   },
   "outputs": [],
   "source": [
    "# WRITE ME!\n",
    "basic = X[50:100]\n",
    "advanced = X[Y == 1]\n",
    "\n",
    "# エラーが出なければOK\n",
    "assert (basic == advanced).all()"
   ]
  },
  {
   "cell_type": "markdown",
   "metadata": {},
   "source": [
    "## Numpy配列の結合\n",
    "第1・2回で行列の生成と操作について扱ってきましたが、実際には、それぞれ同じ長さを持つベクトルaとあるベクトルbを連結して新しい行列cがほしい、と言ったことが良くあります。Numpyにはそのためのメソッドとして複数の関数が用意されています。\n",
    "\n",
    "配列を結合する場合、「どの次元方向に結合するか」が重要になります。**次元の数え方は0始まり**であることに注意しつつ見ていきましょう。"
   ]
  },
  {
   "cell_type": "markdown",
   "metadata": {},
   "source": [
    "### np.stack: 指定の次元に新しい軸を作成"
   ]
  },
  {
   "cell_type": "code",
   "execution_count": 21,
   "metadata": {},
   "outputs": [
    {
     "name": "stdout",
     "output_type": "stream",
     "text": [
      "[[ 0.  1.  2.]\n",
      " [ 1.  1.  1.]]\n",
      "[[ 0.  1.]\n",
      " [ 1.  1.]\n",
      " [ 2.  1.]]\n"
     ]
    }
   ],
   "source": [
    "a = np.arange(3)\n",
    "b = np.ones(3)\n",
    "print(np.stack((a, b), axis=0))  # axis=0 (2, 3)：現在の軸の前に新しい軸を追加\n",
    "print(np.stack((a, b), axis=1))  # axis=1 (3, 2): 現在の軸の後ろに新しい軸を追加"
   ]
  },
  {
   "cell_type": "markdown",
   "metadata": {},
   "source": [
    "### np.hstack：水平方向 (列方向、1軸目) に結合"
   ]
  },
  {
   "cell_type": "code",
   "execution_count": 22,
   "metadata": {},
   "outputs": [
    {
     "name": "stdout",
     "output_type": "stream",
     "text": [
      "[[ 1.  1.]\n",
      " [ 2.  1.]\n",
      " [ 3.  1.]]\n",
      "[ 0.  1.  2.  1.  1.  1.]\n"
     ]
    }
   ],
   "source": [
    "c = np.array([[1],[2],[3]])\n",
    "d = np.ones((3, 1))\n",
    "print(np.hstack((c, d)))  # (3, 2)：1軸目 (列方向)に結合\n",
    "\n",
    "a = np.arange(3)\n",
    "b = np.ones(3)\n",
    "print(np.hstack((a, b)))  # (6,)：列がない (1次元) の場合はそのまま結合"
   ]
  },
  {
   "cell_type": "markdown",
   "metadata": {},
   "source": [
    "### np.vstack: 垂直方向 (行方向、0軸目) に結合"
   ]
  },
  {
   "cell_type": "code",
   "execution_count": 23,
   "metadata": {},
   "outputs": [
    {
     "name": "stdout",
     "output_type": "stream",
     "text": [
      "[[ 1.]\n",
      " [ 2.]\n",
      " [ 3.]\n",
      " [ 1.]\n",
      " [ 1.]\n",
      " [ 1.]]\n",
      "[[ 0.  1.  2.]\n",
      " [ 1.  1.  1.]]\n"
     ]
    }
   ],
   "source": [
    "c = np.array([[1],[2],[3]])\n",
    "d = np.ones((3, 1))\n",
    "print(np.vstack((c, d)))  # (6, 1)：0軸目 (列方向)に結合\n",
    "\n",
    "a = np.arange(3)\n",
    "b = np.ones(3)\n",
    "print(np.vstack((a, b)))  # (2, 3)：0軸目 (列方向)に結合"
   ]
  },
  {
   "cell_type": "markdown",
   "metadata": {},
   "source": [
    "### np.dstack:  深さ方向 (2軸目) に結合"
   ]
  },
  {
   "cell_type": "code",
   "execution_count": 24,
   "metadata": {},
   "outputs": [
    {
     "name": "stdout",
     "output_type": "stream",
     "text": [
      "[[[ 1.  1.]]\n",
      "\n",
      " [[ 2.  1.]]\n",
      "\n",
      " [[ 3.  1.]]]\n",
      "[[[ 0.  1.]\n",
      "  [ 1.  1.]\n",
      "  [ 2.  1.]]]\n"
     ]
    }
   ],
   "source": [
    "c = np.array([[1],[2],[3]])\n",
    "d = np.ones((3, 1))\n",
    "print(np.dstack((c, d)))  # (3, 1, 2)：2軸目 (列方向)にあたらしい軸を作り、結合\n",
    "\n",
    "a = np.arange(3)\n",
    "b = np.ones(3)\n",
    "print(np.dstack((a, b)))  # (1, 3, 2)：2軸目 (列方向)にあたらしい軸を作り、結合"
   ]
  },
  {
   "cell_type": "markdown",
   "metadata": {},
   "source": [
    "### np.concatenate: 指定した軸方向に結合"
   ]
  },
  {
   "cell_type": "code",
   "execution_count": 25,
   "metadata": {},
   "outputs": [
    {
     "name": "stdout",
     "output_type": "stream",
     "text": [
      "[ 0.  1.  2.  1.  1.  1.]\n"
     ]
    }
   ],
   "source": [
    "a = np.arange(3)\n",
    "b = np.ones(3)\n",
    "print(np.concatenate((a, b), axis=0))  # axis=0 (6,)：0軸目で連結\n",
    "# print(np.concatenate((a, b), axis=1))  # 存在しない軸を指定した場合エラー"
   ]
  },
  {
   "cell_type": "markdown",
   "metadata": {},
   "source": [
    "### 配列結合まとめ\n",
    "|関数名|結合方向|新しい軸を作るか？|\n",
    "|:--|--:|--:|\n",
    "|np.stack|任意|作る(挿入する)|\n",
    "|np.hstack|列方向 (1軸目)|軸が存在しない場合のみ|\n",
    "|np.vstack|行方向 (0軸目)|軸が存在しない場合のみ|\n",
    "|np.dstack|深さ方向 (2軸目)|軸が存在しない場合のみ|\n",
    "|np.concatenate|任意|作らない|"
   ]
  },
  {
   "cell_type": "markdown",
   "metadata": {},
   "source": [
    "## 単位行列の作成\n",
    "単位行列は、np.zerosとnp.onesだけでは簡単に作れないため、専用の関数が用意されています。\n",
    "$$\n",
    "I = \\left(\n",
    "    \\begin{array}{cccc}\n",
    "      1 & 0 & \\cdots & 0  \\\\\n",
    "      0 & 1 & \\cdots & 0 \\\\\n",
    "      \\vdots & \\vdots & \\ddots & \\vdots \\\\\n",
    "      0 & 0 & \\cdots & 1 \\\\\n",
    "    \\end{array}\n",
    "  \\right)\n",
    "$$"
   ]
  },
  {
   "cell_type": "code",
   "execution_count": 26,
   "metadata": {},
   "outputs": [
    {
     "name": "stdout",
     "output_type": "stream",
     "text": [
      "[[ 1.  0.  0.]\n",
      " [ 0.  1.  0.]\n",
      " [ 0.  0.  1.]]\n",
      "[[ 10.   0.   0.]\n",
      " [  0.  10.   0.]\n",
      " [  0.   0.  10.]]\n"
     ]
    }
   ],
   "source": [
    "# 単位行列を作成\n",
    "identity = np.eye(3)  # 単位行列の大きさを指定\n",
    "print(identity)\n",
    "\n",
    "print(identity*10)  # 定数倍"
   ]
  },
  {
   "cell_type": "markdown",
   "metadata": {},
   "source": [
    "## 方程式を解く\n",
    "科学技術演算の機能の多くはscipyに用意されていますが、numpyにもいくつかの数値計算を行ってくれる関数群が用意されています。\n",
    "本節で紹介するnp.linalg.solveは、\n",
    "$${\\bf Ax} = {\\bf b}$$\n",
    "行列表記にすると、、\n",
    "$$\n",
    "  \\left(\n",
    "    \\begin{array}{cccc}\n",
    "      a_{11} & a_{12} & \\cdots & a_{1m}  \\\\\n",
    "      a_{21} & a_{22} & \\cdots & a_{2m} \\\\\n",
    "      \\vdots & \\vdots & \\ddots & \\vdots \\\\\n",
    "      a_{m1} & a_{m2} & \\cdots & a_{mm} \\\\\n",
    "    \\end{array}\n",
    "  \\right)\n",
    "  \\left(\n",
    "    \\begin{array}{c}\n",
    "      x_{1} \\\\\n",
    "      x_{2} \\\\\n",
    "      \\vdots \\\\\n",
    "      x_{m} \\\\\n",
    "    \\end{array}\n",
    "  \\right)\n",
    "  =\n",
    "  \\left(\n",
    "    \\begin{array}{c}\n",
    "      b_{1} \\\\\n",
    "      b_{2} \\\\\n",
    "      \\vdots \\\\\n",
    "      b_{m} \\\\\n",
    "    \\end{array}\n",
    "  \\right)  \n",
    "$$\n",
    "連立方程式で書けば、\n",
    "$$\n",
    "\\begin{eqnarray}\n",
    "  \\left\\{\n",
    "    \\begin{array}{l}\n",
    "      a_{11} x_1 + a_{12} x_2 + \\cdots + a_{1m} x_m = y_1 \\\\\n",
    "      a_{21} x_1 + a_{22} x_2 + \\cdots + a_{2m} x_m = y_2 \\\\\n",
    "      \\vdots \\\\\n",
    "      a_{m1} x_1 + a_{m2} x_2 + \\cdots + a_{mm} x_m = y_m \\\\\n",
    "    \\end{array}\n",
    "  \\right.\n",
    "\\end{eqnarray}\n",
    "$$\n",
    "の形の方程式を説いて、解xを計算してくれます。このあとの線形回帰ではこの関数を利用して解析解を計算します。\n",
    "\n",
    "### 例：\n",
    "\n",
    "$$\n",
    "  \\left(\n",
    "    \\begin{array}{cc}\n",
    "      3 & 1 \\\\\n",
    "      1 & 2 \\\\\n",
    "    \\end{array}\n",
    "  \\right)\n",
    "  \\left(\n",
    "    \\begin{array}{c}\n",
    "      x_1 \\\\\n",
    "      x_2 \\\\\n",
    "    \\end{array}\n",
    "  \\right)\n",
    "  =\n",
    "  \\left(\n",
    "    \\begin{array}{c}\n",
    "      9 \\\\\n",
    "      8 \\\\\n",
    "    \\end{array}\n",
    "  \\right)  \n",
    "$$"
   ]
  },
  {
   "cell_type": "code",
   "execution_count": 27,
   "metadata": {},
   "outputs": [
    {
     "name": "stdout",
     "output_type": "stream",
     "text": [
      "[ 2.  3.]\n"
     ]
    }
   ],
   "source": [
    "a = np.array([[3,1], [1,2]])\n",
    "b = np.array([9,8])\n",
    "\n",
    "x = np.linalg.solve(a, b)\n",
    "print(x)"
   ]
  },
  {
   "cell_type": "markdown",
   "metadata": {},
   "source": [
    "### 補足：np.linalgモジュール\n",
    "solve関数だけでなく、np.linalgモジュールでは次のような機能をサポートしています：\n",
    "* cholesky: コレスキー分解\n",
    "* svd: SVD (特異値分解)\n",
    "* eig: 固有値及び固有ベクトルの計算\n",
    "* det: 行列式の計算\n",
    "* lstsq: 線形行列方程式 (linear matrix equation) を最小二乗法で解く (今日の内容！)"
   ]
  },
  {
   "cell_type": "markdown",
   "metadata": {},
   "source": [
    "# 2. Matplotlib入門\n",
    "本節では、データや学習結果を視覚的に見るための方法として、Matplotlibの基本的な使い方を扱います。  \n",
    "Matplotlibは、主に2Dのグラフを表示するためのライブラリとして標準的に使われています。\n",
    "\n",
    "高機能である一方、\n",
    "* デザインを細かく調整しないと見た目が良くならない\n",
    "* 仕組みが複雑で、学習曲線が急\n",
    "\n",
    "という弱点があります。\n",
    "\n",
    "本節はMatplotlibの基本概念とその最低限の使い方を素早く解説します。\n",
    "\n",
    "**注意：本講義ではすでにグラフのデザインは見やすいようにやや調整しています。ファイル先頭に記述していますが、解説は行いません。**"
   ]
  },
  {
   "cell_type": "code",
   "execution_count": 28,
   "metadata": {
    "collapsed": true
   },
   "outputs": [],
   "source": [
    "# インポート\n",
    "import matplotlib.pyplot as plt"
   ]
  },
  {
   "cell_type": "markdown",
   "metadata": {},
   "source": [
    "### グラフの読み方\n",
    "<img src=\"figures/anatomy1.png\" width=\"50%\">\n",
    "(https://matplotlib.org/faq/usage_faq.html より)\n",
    "\n",
    "Matplotlibのコマンドの意味を理解する最も簡単な方法は、対応する概念の名前を覚えることです。  \n",
    "今回は以下の事項だけ覚えておきましょう：\n",
    "\n",
    "* Figure：1枚の図全体 (**複数のプロットを持つことができる**)\n",
    "* Axes: グリッドとデータ点を持つプロット (≠axis)\n",
    "* Line: 直線プロット (曲がっているように見えますが、**細かく見ると直線プロットの集積です**)\n",
    "* Scatter: 散布図プロット\n",
    "* X/Y axis label: X軸/Y軸のラベル名\n",
    "* Title: グラフタイトル\n",
    "* Legend: 凡例 (各線・点の説明あるいは記述)"
   ]
  },
  {
   "cell_type": "markdown",
   "metadata": {},
   "source": [
    "### Matplotlibの2つの使い方\n",
    "Matplotlibで最初に戸惑うのは、**2種類の書き方が存在する**ということです。これは、Matplotlibがかっちりとしたシステムの上に、Matlabライクな構文をラッパーとして用意したためです。どちらも正しい書き方ですので、戸惑わないようにしてください。\n",
    "\n",
    "#### 1. シンプルな書き方 (本講義で使用)\n",
    "シンプルな方法では、基本的に全ての命令はplt.から呼び出します。  \n",
    "簡単である一方、1枚のfigureが複数のaxesを持った場合、複数枚のfigureを扱う場合などはコードがわかりにくくなる場合があります。"
   ]
  },
  {
   "cell_type": "code",
   "execution_count": 29,
   "metadata": {},
   "outputs": [
    {
     "data": {
      "image/png": "[encoded data removed]",
      "text/plain": [
       "<matplotlib.figure.Figure at 0x7efd76ff77b8>"
      ]
     },
     "metadata": {},
     "output_type": "display_data"
    }
   ],
   "source": [
    "# シンプルな方法の例\n",
    "X = np.linspace(-2, 2, 100)  # -2から2まで100個の点を等間隔で用意\n",
    "Y = X ** 2\n",
    "\n",
    "plt.figure()  # Figureを初期化\n",
    "plt.plot(X, Y)  # プロット\n",
    "plt.show()  # 図を表示"
   ]
  },
  {
   "cell_type": "markdown",
   "metadata": {},
   "source": [
    "#### 2. フォーマルな書き方\n",
    "フォーマルな書き方では、明示的にfigureやaxesを扱います。シンプルな書き方ではplt.figure()を呼びだすだけでしたが、正式にはplt.figure()で作られたfigureを変数として受け取り、それを操作することによって描画を行います。関数の呼び出し方などもやや異なることに注意が必要です。"
   ]
  },
  {
   "cell_type": "code",
   "execution_count": 30,
   "metadata": {},
   "outputs": [
    {
     "data": {
      "image/png": "[encoded data removed]",
      "text/plain": [
       "<matplotlib.figure.Figure at 0x7efd762cc518>"
      ]
     },
     "metadata": {},
     "output_type": "display_data"
    }
   ],
   "source": [
    "fig = plt.figure()  # Figureを生成\n",
    "ax = fig.add_subplot(111)  # Axesを生成\n",
    "ax.plot(X, Y)  # 指定のAxesに描画\n",
    "plt.show()  # 図を表示"
   ]
  },
  {
   "cell_type": "markdown",
   "metadata": {},
   "source": [
    "## 直線の描画 (plt.plot)\n",
    "直線の描画には、plt.plotを使 用します。\n",
    "plot関数には、\n",
    "```\n",
    "plot(X軸の値のリスト、Y軸の値のリスト、オプション…)\n",
    "```\n",
    "という引数を入力します。"
   ]
  },
  {
   "cell_type": "code",
   "execution_count": 31,
   "metadata": {},
   "outputs": [
    {
     "data": {
      "image/png": "[encoded data removed]",
      "text/plain": [
       "<matplotlib.figure.Figure at 0x7efd7406f438>"
      ]
     },
     "metadata": {},
     "output_type": "display_data"
    },
    {
     "data": {
      "image/png": "[encoded data removed]",
      "text/plain": [
       "<matplotlib.figure.Figure at 0x7efd76192a58>"
      ]
     },
     "metadata": {},
     "output_type": "display_data"
    }
   ],
   "source": [
    "X = np.linspace(0, 10, 100)\n",
    "Y = 0.5 * X + 0.1\n",
    "\n",
    "# 直線の描画\n",
    "plt.figure()\n",
    "plt.plot(X, Y)\n",
    "plt.show()\n",
    "\n",
    "# ホワイトノイズの描画\n",
    "X = np.linspace(0, 10, 1000)\n",
    "Y = np.random.normal(size=1000)\n",
    "plt.figure()  # 図を再度初期化\n",
    "plt.plot(X, Y)\n",
    "plt.show()"
   ]
  },
  {
   "cell_type": "markdown",
   "metadata": {},
   "source": [
    "## 色と太さの指定\n",
    "線の色の指定にはcolor引数を、太さの指定にはlinewidth引数を用います。\n",
    "<img src=\"figures/named_colors.png\">\n",
    "(https://matplotlib.org/2.0.0/examples/color/named_colors.html より)"
   ]
  },
  {
   "cell_type": "code",
   "execution_count": 32,
   "metadata": {},
   "outputs": [
    {
     "data": {
      "image/png": "[encoded data removed]",
      "text/plain": [
       "<matplotlib.figure.Figure at 0x7efd76279da0>"
      ]
     },
     "metadata": {},
     "output_type": "display_data"
    }
   ],
   "source": [
    "X = np.linspace(0, 10, 100)\n",
    "Y = 0.5 * X + 0.1\n",
    "Y2= 0.7 * X - 0.3\n",
    "\n",
    "plt.figure()\n",
    "plt.plot(X, Y, color=\"r\")\n",
    "plt.plot(X, Y2, color=\"g\", linewidth=4)\n",
    "plt.show()"
   ]
  },
  {
   "cell_type": "markdown",
   "metadata": {},
   "source": [
    "## 散布図の描画、マーカー\n",
    "散布図の描画には、plt.scatterを使います。\n",
    "また、marker引数を指定することで、マーカー (点の形) を指定することができます。\n",
    "<img src=\"figures/marker_reference_00.png\" width=\"50%\"><img src=\"figures/marker_reference_01.png\" width=\"50%\">"
   ]
  },
  {
   "cell_type": "code",
   "execution_count": 33,
   "metadata": {},
   "outputs": [
    {
     "data": {
      "image/png": "[encoded data removed]",
      "text/plain": [
       "<matplotlib.figure.Figure at 0x7efd762c10b8>"
      ]
     },
     "metadata": {},
     "output_type": "display_data"
    }
   ],
   "source": [
    "# サンプル：2次元正規分布\n",
    "X = np.random.normal(size=1000)\n",
    "Y = np.random.normal(size=1000)\n",
    "\n",
    "plt.figure()\n",
    "plt.scatter(X, Y, marker=\"x\")\n",
    "plt.show()"
   ]
  },
  {
   "cell_type": "markdown",
   "metadata": {},
   "source": [
    "## ヒストグラムの描画\n",
    "ヒストグラムの描画には、plt.histを用いる：\n",
    "ヒストグラムの各棒の幅は、\n",
    "* bins引数に必要な本数を入れる (データの最小値・最大値の影響を受ける)\n",
    "* bins引数にnp.linspaceで区切り点を指定する\n",
    "\n",
    "の2つの方法がある。\n",
    "\n",
    "また、ヒストグラムを度数ではなく確率で表示したい場合は、normed引数をTrueに設定する。"
   ]
  },
  {
   "cell_type": "code",
   "execution_count": 34,
   "metadata": {},
   "outputs": [
    {
     "data": {
      "image/png": "[encoded data removed]",
      "text/plain": [
       "<matplotlib.figure.Figure at 0x7efd7620f6d8>"
      ]
     },
     "metadata": {},
     "output_type": "display_data"
    },
    {
     "data": {
      "image/png": "[encoded data removed]",
      "text/plain": [
       "<matplotlib.figure.Figure at 0x7efd740734e0>"
      ]
     },
     "metadata": {},
     "output_type": "display_data"
    }
   ],
   "source": [
    "X = iris.data[:, 0]  #  今回は簡単のため0次元目のみを使用\n",
    "Y = iris.target\n",
    "\n",
    "plt.figure()\n",
    "plt.hist(X, bins=10)  # binの本数を直接指定\n",
    "plt.show()\n",
    "\n",
    "bins = np.linspace(0, 10, 20)\n",
    "\n",
    "plt.figure()\n",
    "plt.hist(X, bins=bins, color=\"b\", normed=True)  # np.linspaceで間接指定、確率を使用\n",
    "plt.show()"
   ]
  },
  {
   "cell_type": "markdown",
   "metadata": {},
   "source": [
    "## 図の整形と保存\n",
    "多くの場合、素朴にプロットしただけでは綺麗な図にすることはできません。そこで、次の要素を調整することで図の見た目を整えます：\n",
    "* タイトル (plt.title)\n",
    "* ラベル名 (plt.xlabel, plt.ylabel)\n",
    "* 凡例 (labelキーワードとplt.legend())\n",
    "* X軸/Y軸の範囲 (plt.xlim、plt.ylim)\n",
    "* 空白の自動調整 (plt.tight_layout)\n",
    "\n",
    "また、図の保存にはplt.savefig(\"ファイル名\")を用いる。"
   ]
  },
  {
   "cell_type": "code",
   "execution_count": 35,
   "metadata": {},
   "outputs": [
    {
     "data": {
      "image/png": "[encoded data removed]",
      "text/plain": [
       "<matplotlib.figure.Figure at 0x7efd6ffcf198>"
      ]
     },
     "metadata": {},
     "output_type": "display_data"
    }
   ],
   "source": [
    "# 直線に対する線形回帰 (実践演習1)\n",
    "nb_train = 50\n",
    "rnd = np.random.RandomState(1701)\n",
    "\n",
    "# 訓練データ\n",
    "train_x = np.linspace(-3, 3, nb_train)\n",
    "train_y = 0.5 * train_x + 0.2 + 0.2 * rnd.randn(len(train_x))\n",
    "\n",
    "# ここでは正解を与える (解くのは演習)\n",
    "theta = [ 0.51640697, 0.18726988]\n",
    "pred_y = train_x * theta[0] + theta[1]\n",
    "\n",
    "# グラフの描画\n",
    "plt.figure()\n",
    "plt.title(\"Linear regression example\")  # タイトル\n",
    "plt.plot(train_x, pred_y, color=\"r\", label=\"Predicted function\", linewidth=2)  # ラベルをつける\n",
    "plt.scatter(train_x, train_y, marker=\"x\", color=\"b\", label=\"Training points\")  # ラベルをつける\n",
    "plt.xlim(-0.5, 0.5)  # xlim(最小値、最大値)\n",
    "plt.ylim(-0.25, 0.5)  # ylim(最小値、最大値)\n",
    "plt.xlabel(\"Input\")\n",
    "plt.ylabel(\"Output\")\n",
    "plt.legend(loc=\"lower right\")  # loc引数を指定することで、凡例の出現位置を制御できる\n",
    "plt.tight_layout()  # グラフから文字がはみ出たりした場合に自動調整してくれる\n",
    "plt.savefig(\"lr_sample.jpg\")\n",
    "plt.show()"
   ]
  },
  {
   "cell_type": "markdown",
   "metadata": {},
   "source": [
    "## その他の機能\n",
    "Matplotlibには、その他にも多数の描画機能がありますが、次回以降必要になった際に扱います：\n",
    "* 棒グラフ (plt.bar)\n",
    "* ヒートマップ (plt.imshow)\n",
    "* 等高線図 (plt.contour)\n",
    "* 3次元グラフ (Axes3D)\n",
    "* など…"
   ]
  },
  {
   "cell_type": "markdown",
   "metadata": {},
   "source": [
    "## 書いてみよう (2) 2変数線形回帰\n",
    "直線\n",
    "$$y = ax + b$$は、2つの点$$\\{(x_1, y_1), (x_2, y_2)\\}\\ \\ \\ (x_1 \\neq x_2)$$があれば点同士を結ぶことで傾きaとバイアスbを計算することができます。\n",
    "\n",
    "このようなa, bを求めるために、今回は次のような方程式を立てます。\n",
    "$$\n",
    "  \\left(\n",
    "    \\begin{array}{cc}\n",
    "      x_1 & 1 \\\\\n",
    "      x_2 & 1 \\\\\n",
    "    \\end{array}\n",
    "  \\right)\n",
    "  \\left(\n",
    "    \\begin{array}{c}\n",
    "      a \\\\\n",
    "      b \\\\\n",
    "    \\end{array}\n",
    "  \\right)\n",
    "  =\n",
    "  \\left(\n",
    "    \\begin{array}{c}\n",
    "      y_1 \\\\\n",
    "      y_2 \\\\\n",
    "    \\end{array}\n",
    "  \\right)  \n",
    "$$\n",
    "\n",
    "**課題1：**連立方程式をnp.linalg.solveで解いて、傾きa, バイアスbを計算せよ。  \n",
    "**課題2：**計算したa, bを元に直線と元のデータ点をプロットし、見やすいようにタイトル・幅・色・ラベル名などを調整せよ。\n",
    "\n",
    "### ヒント：\n",
    "* (x1, x2)の形のままではnp.linalg.solveに入れられないので、列ベクトル(1, 1)を結合しよう。\n",
    "* 直線のプロットにはplt.plotとplot_X, plot_Yを、データ点のプロットにはplt.scatterを使おう。"
   ]
  },
  {
   "cell_type": "code",
   "execution_count": 36,
   "metadata": {},
   "outputs": [
    {
     "data": {
      "image/png": "[encoded data removed]",
      "text/plain": [
       "<matplotlib.figure.Figure at 0x7efd7629f160>"
      ]
     },
     "metadata": {},
     "output_type": "display_data"
    }
   ],
   "source": [
    "x = np.array([3, 1])\n",
    "t = np.array([9, 6])\n",
    "\n",
    "# WRITE ME! (方程式を解く)\n",
    "X = np.stack((x, [1, 1]), axis=1)\n",
    "solution = np.linalg.solve(X, t)\n",
    "\n",
    "plot_X = np.linspace(0, 10, 40)\n",
    "plot_Y = solution[0] * plot_X + solution[1]\n",
    "\n",
    "plt.figure()\n",
    "\n",
    "# WRITE ME! (フィッティングした直線とデータ点をプロット)\n",
    "plt.plot(plot_X, plot_Y, color=\"b\")\n",
    "plt.scatter(X[:,0], t, marker=\"x\", color=\"k\")\n",
    "plt.title(\"2変数の直線フィッティング結果\")\n",
    "plt.xlim(0, 4)\n",
    "plt.ylim(5, 10)\n",
    "plt.xlabel(\"入力\")\n",
    "plt.ylabel(\"出力\")\n",
    "\n",
    "plt.show()"
   ]
  },
  {
   "cell_type": "code",
   "execution_count": null,
   "metadata": {
    "collapsed": true
   },
   "outputs": [],
   "source": []
  }
 ],
 "metadata": {
  "kernelspec": {
   "display_name": "Python 3",
   "language": "python",
   "name": "python3"
  },
  "language_info": {
   "codemirror_mode": {
    "name": "ipython",
    "version": 3
   },
   "file_extension": ".py",
   "mimetype": "text/x-python",
   "name": "python",
   "nbconvert_exporter": "python",
   "pygments_lexer": "ipython3",
   "version": "3.5.2"
  }
 },
 "nbformat": 4,
 "nbformat_minor": 2
}
