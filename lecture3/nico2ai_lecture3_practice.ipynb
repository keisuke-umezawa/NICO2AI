{
 "cells": [
  {
   "cell_type": "markdown",
   "metadata": {},
   "source": [
    "# NICO2AI  第3回 線形回帰 (7/1) 実践演習\n",
    "\n",
    "## 実践演習の進め方\n",
    "1. 講師が題材及びコードの説明をします\n",
    "2. \"WRITE ME!\"の部分のコードを書いてみましょう\n",
    "3. 書き始める前に必要な処理の概略を頭の中やノートに浮かべてからコードに落とし込みましょう"
   ]
  },
  {
   "cell_type": "code",
   "execution_count": null,
   "metadata": {
    "collapsed": true
   },
   "outputs": [],
   "source": [
    "# 今日使うパッケージのインポート\n",
    "%matplotlib inline\n",
    "\n",
    "import os\n",
    "import numpy as np\n",
    "import matplotlib.pyplot as plt\n",
    "import matplotlib.font_manager as fm\n",
    "from matplotlib.colors import LogNorm\n",
    "from sklearn import datasets\n",
    "\n",
    "# デフォルトのスタイルシートの変更\n",
    "plt.style.use('ggplot')\n",
    "plt.rcParams['ytick.color'] = '111111'\n",
    "plt.rcParams['xtick.color'] = '111111'\n",
    "plt.rcParams['axes.labelcolor'] = '111111'\n",
    "plt.rcParams['font.size'] = 15\n",
    "\n",
    "# 日本語文字化け対策\n",
    "fontnames = [os.path.basename(fm.FontProperties(fname=f).get_name()) for f in fm.findSystemFonts()]\n",
    "selected = list(filter(lambda x: 'IPAGothic' in x or 'TakaoGothic' in x or 'Osaka' in x, fontnames))\n",
    "\n",
    "if len(selected) == 0:\n",
    "    print('ERROR! Install Japanese font beforehand')\n",
    "else:\n",
    "    plt.rcParams['font.family'] = selected[0]"
   ]
  },
  {
   "cell_type": "markdown",
   "metadata": {},
   "source": [
    "## 課題1. 1次元データに対する線形回帰\n",
    "今回は、非常に単純な\n",
    "$$\n",
    "y = 0.5x + 0.2 + \\epsilon\n",
    "$$\n",
    "というデータ生成分布にしたがって生成されたデータ点から、真のパラメータ傾き0.5とバイアス0.2を線形回帰で予測してみましょう。基底関数としては、データ生成分布と同じく、\n",
    "$$\n",
    "y = ax + b\n",
    "$$\n",
    "という傾きとバイアスを持つモデルを使います。\n",
    "\n",
    "プログラムの流れは次のようになります：\n",
    "\n",
    "* 訓練データ点$({\\bf x}, {\\bf t})$の生成\n",
    "* バイアス項 (常に係数が1) を列として加えた行列${\\bf X}$の作成\n",
    "* 解析解 ${\\bf \\theta}_{LS} = ({\\bf X}^T {\\bf X})^{-1} {\\bf X}^T {\\bf t}$ の計算\n",
    "* 予測${\\bf y} = {\\bf X \\theta}$の計算\n",
    "* データ点の描画\n",
    "* データ生成関数及び予測関数の描画\n",
    "\n",
    "**課題：**  \n",
    "WRITE ME!の部分を埋めて、線形回帰を行うプログラムを完成させよ。"
   ]
  },
  {
   "cell_type": "markdown",
   "metadata": {},
   "source": [
    "### データの観察"
   ]
  },
  {
   "cell_type": "code",
   "execution_count": null,
   "metadata": {},
   "outputs": [],
   "source": [
    "rnd = np.random.RandomState(1701)\n",
    "\n",
    "n_train = 25  # 訓練データ数\n",
    "\n",
    "# ガウシアンノイズを持つデータ点を生成\n",
    "train_x = np.linspace(-3, 3, n_train)\n",
    "train_y = 0.5 * train_x + 0.2 + 0.2 * rnd.randn(len(train_x))\n",
    "\n",
    "plt.figure()\n",
    "plt.scatter(train_x, train_y, marker=\"x\", color=\"b\", label=\"Training points\")  # ラベルをつける\n",
    "plt.xlim(-3, 3)  # xlim(最小値、最大値)\n",
    "plt.ylim(-2, 2)  # ylim(最小値、最大値)\n",
    "plt.show()"
   ]
  },
  {
   "cell_type": "markdown",
   "metadata": {},
   "source": [
    "### 学習コードの実装"
   ]
  },
  {
   "cell_type": "code",
   "execution_count": null,
   "metadata": {},
   "outputs": [],
   "source": [
    "# WRITE ME!\n",
    "# X = (train_xにバイアス項1の列ベクトルを追加)\n",
    "\n",
    "# theta = (X^T X)^{-1} X^T y (方程式を解く)\n",
    "print(theta)\n",
    "\n",
    "# pred_y = (学習したθを用いて訓練データに対する予測を計算)\n",
    "\n",
    "# データの生成分布のプロット\n",
    "real_y = 0.5 * train_x + 0.1\n",
    "\n",
    "# 学習結果の描画\n",
    "plt.figure(figsize=(8, 6))\n",
    "plt.title(\"線形回帰の学習結果\")  # タイトル\n",
    "plt.plot(train_x, pred_y, color=\"r\", label=\"Predicted function\", linewidth=2)  # ラベルをつける\n",
    "plt.plot(train_x, real_y, color=\"g\", label=\"Data generation function\", linewidth=2)  # ラベルをつける\n",
    "plt.scatter(train_x, train_y, marker=\"x\", color=\"b\", label=\"Training points\")  # ラベルをつける\n",
    "plt.xlim(-3, 3)  # xlim(最小値、最大値)\n",
    "plt.ylim(-2, 2)  # ylim(最小値、最大値)\n",
    "plt.xlabel(\"Input\")\n",
    "plt.ylabel(\"Output\")\n",
    "plt.legend(loc=\"lower right\")  # loc引数を指定することで、凡例の出現位置を制御できる\n",
    "plt.tight_layout()  # グラフから文字がはみ出たりした場合に自動調整してくれる\n",
    "plt.show()"
   ]
  },
  {
   "cell_type": "markdown",
   "metadata": {},
   "source": [
    "### 補助課題：多項式回帰\n",
    "上の問題と同じく線形回帰を扱いますが、今度はモデル化の方法が少し異なります：\n",
    "$$y = \\theta_0 + \\theta_1 x + \\theta_2 x^2 + \\cdots + \\theta_k x^k$$\n",
    "\n",
    "今回は、sin関数を近似するために基底関数に多項式を入れました。\n",
    "\n",
    "**課題：**\n",
    "* 課題1と同様の手順に基づき、sin関数から生成されたデータに関して多項式回帰を実装・実行せよ。\n",
    "* 多項式の次元数n_dimsを調整して、挙動の変化を観察せよ。\n",
    "* n_dimsを増やした場合、過学習が発生し、各θの値が非常に大きくなってしまう。L2正則化を実装せよ。\n",
    "* 正則化係数λを調整して、挙動の変化を観察せよ。\n",
    "\n",
    "#### ヒント：\n",
    "正則化係数をλとした時、正則化係数を考慮した二乗誤差最小化の解は、Iを単位行列として\n",
    "$$\n",
    "{\\bf \\theta}_{LS} = ({\\bf X}^T {\\bf X} + \\lambda I)^{-1} {\\bf X}^T {\\bf t}\n",
    "$$\n",
    "で表される。\n",
    "\n",
    "#### ヒント2：\n",
    "$$\n",
    "X = \\left(\n",
    "    \\begin{array}{ccccc}\n",
    "      1 & x_1 & x_1^2 \\cdots & x_1^k  \\\\\n",
    "      1 & x_2 & x_2^2 \\cdots & x_2^k \\\\\n",
    "      \\vdots & \\vdots & \\ddots & \\vdots \\\\\n",
    "      1 & x_m & x_m^2 \\cdots & x_m^k \\\\\n",
    "    \\end{array}\n",
    "  \\right)\n",
    "$$"
   ]
  },
  {
   "cell_type": "code",
   "execution_count": null,
   "metadata": {},
   "outputs": [],
   "source": [
    "rnd = np.random.RandomState(1301)\n",
    "\n",
    "n_train = 30  # 訓練データ数\n",
    "n_dims = 7  # 次元数\n",
    "lmbda = 0.0  # 正則化係数 (lambdaは予約語なのでスペルをわざと違えている)\n",
    "    \n",
    "# ガウシアンノイズを持つデータ点を生成\n",
    "train_x = np.linspace(-3, 3, n_train)\n",
    "piX = np.pi * train_x\n",
    "train_y = np.sin(piX)/(piX)+0.1*train_x+0.2*rnd.randn(len(train_x))\n",
    "\n",
    "\n",
    "# WRITE ME!\n",
    "# X = (基底関数を並べる)\n",
    "\n",
    "theta = np.linalg.solve(np.dot(X.T, X) + lmbda * np.eye(X.shape[1]), np.dot(X.T, train_y))\n",
    "# theta = (X^T X + \\lmbda I)^{-1} X^T y (方程式を解く)\n",
    "\n",
    "# 予測と元分布を比較\n",
    "plot_x = np.linspace(-3, 3, 100)\n",
    "piX = np.pi * plot_x\n",
    "real_y = np.sin(piX)/(piX)+0.1*plot_x\n",
    "plot_X = np.stack([plot_x ** p for p in range(n_dims)], axis=1)\n",
    "pred_y = np.dot(plot_X, theta)\n",
    "\n",
    "# 学習結果の描画\n",
    "plt.figure(figsize=(8, 6))\n",
    "plt.title(\"多項式回帰の学習結果\")  # タイトル\n",
    "plt.plot(plot_x, pred_y, color=\"r\", label=\"Predicted function\", linewidth=2)  # ラベルをつける\n",
    "plt.plot(plot_x, real_y, color=\"g\", label=\"Data generation function\", linewidth=2)  # ラベルをつける\n",
    "plt.scatter(train_x, train_y, marker=\"x\", color=\"b\", label=\"Training points\")  # ラベルをつける\n",
    "plt.xlabel(\"Input\")\n",
    "plt.ylabel(\"Output\")\n",
    "plt.legend(loc=\"lower right\")  # loc引数を指定することで、凡例の出現位置を制御できる\n",
    "plt.tight_layout()  # グラフから文字がはみ出たりした場合に自動調整してくれる\n",
    "plt.show()"
   ]
  },
  {
   "cell_type": "markdown",
   "metadata": {},
   "source": [
    "## 課題2. The Allen Mouse Brain Connectivity Atlasの結合成分の算出\n",
    "講義解説の通り、The Allen Mouse Brain Connectivity Atlasでは、注入部(injection)と射影部(projection)の体積を計算し、ある領野からどの領野に注入した蛍光成分が移動したかに基づいて領野間の結合の強さを測定している。\n",
    "\n",
    "* $x_{ij}$：実験$i$の領野$j$に対する注入量\n",
    "* $y_{ik}$：実験$i$の領野$k$における射影量\n",
    "* $w_{jk}$：領野$j$から領野$k$に対する結合強度\n",
    "\n",
    "としたとき、注入量・射影量から領野$k$にprojectionする結合強度を計算する方法として、\n",
    "$$\n",
    "L = \\min_{w_{jk} \\ge 0} \\sum_{i=1}^{N_i} ( \\sum_{j=1}^{N_j} w_{jk} x_{ij} - y_{ik} )^2\n",
    "$$\n",
    "を最小化する**非負制約**線形回帰問題を考えることができる (Natureの実際の論文では非負制約ロバスト回帰を行っているが、講義の範囲を超えるので扱わない)。\n",
    "\n",
    "重み制約付き線形回帰問題は解析的には解けないため、今回はscipy.optimize.nnls (non-negative least squares solver)を用いる。nnls(A, b)は方程式$Aw=b$の非負制約付きの解を返す。\n",
    "\n",
    "**課題：**  \n",
    "* WRITE ME!を指示にしたがって埋め、このデータに対して非負制約線形回帰を行い、領野間の結合を推定せよ。\n",
    "* 推定した重みをnature13186-s4.xlsxと比較せよ。\n",
    "\n",
    "### データ解説：\n",
    "今回用いるデータ (data/VIS_s3.csv) には、実験データのうち、primary_injection_structure (主要注入部位)を視覚系 (VISxx) に絞った結果が含まれている。各行は以下のようなデータからなる：\n",
    "* 1行目：注入部の列名(〜24列目)\n",
    "* 2行目：射影部の領野名 (acronym) (25列目〜)\n",
    "* 3行目：射影部の各領野について、左右半球のどちらにあるか (hemisphere) (25列目〜)\n",
    "* 4行目〜：実験条件と結果 (1行1実験) 左から順に、実験ID、総注入量、主要注入部位、部位ID、注入量、(以下、2番目〜最大6番目までの注入部位、部位ID注入量が繰り返される、存在しない場合は空白)、各射影部位への射影量"
   ]
  },
  {
   "cell_type": "markdown",
   "metadata": {},
   "source": [
    "### 前処理\n",
    "まず、上記の線形回帰問題を解くためには、注入部位の名前の一覧と、それらが重み行列のどの列に対応するかを決めなければなりません。そこでまず前処理として、入力領域名 (area_names)の一覧をcsvより取得します。"
   ]
  },
  {
   "cell_type": "code",
   "execution_count": null,
   "metadata": {},
   "outputs": [],
   "source": [
    "import scipy\n",
    "\n",
    "area_names = []\n",
    "target_names = []\n",
    "with open(\"data/VIS_s3.csv\") as f:\n",
    "    for idx, line in enumerate(f):\n",
    "        line = line.strip(\"\\n\")\n",
    "        if idx == 1:\n",
    "            target_names = line.split(\",\")[24:]\n",
    "        elif idx == 2:\n",
    "            # 左右半球を見分けるために単純に「部位名」+「L/R」として連結\n",
    "            target_names = list(map(lambda a, b: a + b, target_names, line.split(\",\")[24:]))\n",
    "        elif idx < 3:\n",
    "            continue\n",
    "        strs = line.split(\",\")\n",
    "        \n",
    "        # WRITE ME!\n",
    "        # 各行について、記載されている領野名 (最大6つ) をarea_namesに追加 (空文字は追加しないこと)\n",
    "        pass\n",
    "\n",
    "unique_area_names = np.unique(area_names)\n",
    "atoi = dict(zip(unique_area_names, range(len(unique_area_names))))\n",
    "n_dims = len(unique_area_names)\n",
    "print(atoi)  # 領野名から列インデックスへ変換する辞書\n",
    "print(target_names)  # 射影先の領野名一覧"
   ]
  },
  {
   "cell_type": "markdown",
   "metadata": {},
   "source": [
    "### 線形回帰の実行\n",
    "各射影先$y_k (k=1, 2,...)$について、個別に線形回帰問題をときます。そのために、各行に1実験ごとのinjection量が入った行列$X$と、各行に1実験ごとのprojection量が入った行列$y$が必要になります。また、"
   ]
  },
  {
   "cell_type": "code",
   "execution_count": null,
   "metadata": {},
   "outputs": [],
   "source": [
    "X = []\n",
    "Y = []\n",
    "with open(\"data/VIS_s3.csv\") as f:\n",
    "    for idx, line in enumerate(f):\n",
    "        line = line.strip(\"\\n\")\n",
    "        if idx == 0:\n",
    "            col_names = line.split(\",\")[:24]\n",
    "        elif idx == 1:\n",
    "            projection_names = line.split(\",\")[24:]\n",
    "        elif idx == 2:\n",
    "            projection_lr = line.split(\",\")[24:]\n",
    "            projection_names = list(map(lambda a,b: a + b, projection_names, projection_lr))\n",
    "            target_idx = projection_names.index(target_name + target_lr)\n",
    "            if target_idx != -1:\n",
    "                print(\"Target found: {}\".format(target_idx))\n",
    "            else:\n",
    "                print(\"Target not found...\")\n",
    "                assert(False)\n",
    "        else:\n",
    "            injection = [0.0 for _ in range(n_dims)]\n",
    "            strs = line.split(\",\")\n",
    "            \n",
    "            # WRITE ME!\n",
    "            # 各行から注入量を持ってくる\n",
    "            pass\n",
    "        \n",
    "            X.append(injection)\n",
    "            Y.append(list(map(float, strs[24:])))\n",
    "\n",
    "X = np.array(X)\n",
    "Y = np.array(Y)\n",
    "print(X.shape)\n",
    "print(Y.shape)\n",
    "weights = np.zeros((X.shape[1], Y.shape[1]))\n",
    "total_error = 0\n",
    "for cls in range(Y.shape[1]):\n",
    "    # WRITE ME!\n",
    "    # nnlsを使って、あるprojectionに対する線形回帰の結果としてtheta, errorを得る\n",
    "    pass\n",
    "    \n",
    "    weights[:, cls] = theta\n",
    "    total_error += error\n",
    "print(\"予測誤差: {}\".format(total_error))\n",
    "np.set_printoptions(precision=3)\n",
    "print(weights)\n",
    "print(\"最大値：{}、最小値：{}、平均値：{}、ゼロ値：{}/{}\".format(weights.max(), weights.min(), np.mean(weights), np.sum(weights == 0), weights.size))"
   ]
  },
  {
   "cell_type": "markdown",
   "metadata": {},
   "source": [
    "### 結果の可視化"
   ]
  },
  {
   "cell_type": "code",
   "execution_count": null,
   "metadata": {},
   "outputs": [],
   "source": [
    "from mpl_toolkits.axes_grid1 import make_axes_locatable\n",
    "\n",
    "fig = plt.figure(figsize=(32, 12))\n",
    "ax = fig.add_subplot(111)\n",
    "cax = ax.matshow(weights, cmap=\"bwr\", norm=LogNorm(vmin=0.001, vmax=10))\n",
    "ax.set_xticks(range(weights.shape[1]))\n",
    "ax.set_xticklabels(projection_names, rotation='vertical', fontsize=8)\n",
    "ax.set_yticks(range(weights.shape[0]))\n",
    "ax.set_yticklabels(unique_area_names, fontsize=8)\n",
    "plt.colorbar(cax)\n",
    "plt.show()"
   ]
  },
  {
   "cell_type": "code",
   "execution_count": null,
   "metadata": {
    "collapsed": true
   },
   "outputs": [],
   "source": []
  }
 ],
 "metadata": {
  "kernelspec": {
   "display_name": "Python 3",
   "language": "python",
   "name": "python3"
  },
  "language_info": {
   "codemirror_mode": {
    "name": "ipython",
    "version": 3
   },
   "file_extension": ".py",
   "mimetype": "text/x-python",
   "name": "python",
   "nbconvert_exporter": "python",
   "pygments_lexer": "ipython3",
   "version": "3.5.2"
  }
 },
 "nbformat": 4,
 "nbformat_minor": 2
}
