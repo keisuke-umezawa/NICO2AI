{
 "cells": [
  {
   "cell_type": "markdown",
   "metadata": {},
   "source": [
    "## Import"
   ]
  },
  {
   "cell_type": "code",
   "execution_count": null,
   "metadata": {
    "collapsed": true
   },
   "outputs": [],
   "source": [
    "import sys\n",
    "import numpy as np\n",
    "import chainer\n",
    "from chainer import cuda, Function, gradient_check, report, training, utils, Variable\n",
    "from chainer import datasets, iterators, optimizers, serializers\n",
    "from chainer import Link, Chain, ChainList\n",
    "import chainer.functions as F\n",
    "import chainer.links as L\n",
    "from chainer.training import extensions"
   ]
  },
  {
   "cell_type": "markdown",
   "metadata": {},
   "source": [
    "## Load CIFAR-10"
   ]
  },
  {
   "cell_type": "code",
   "execution_count": null,
   "metadata": {
    "collapsed": true
   },
   "outputs": [],
   "source": [
    "train, test = datasets.get_cifar10(ndim=3)"
   ]
  },
  {
   "cell_type": "markdown",
   "metadata": {},
   "source": [
    "## モデル定義\n",
    "ロードするモデルのクラス"
   ]
  },
  {
   "cell_type": "code",
   "execution_count": null,
   "metadata": {
    "collapsed": true
   },
   "outputs": [],
   "source": [
    "class MyModel(Chain):\n",
    "    def __init__(self):\n",
    "        super(MyModel, self).__init__()\n",
    "        with self.init_scope():\n",
    "            self.conv1 = L.Convolution2D(\n",
    "                in_channels=3, out_channels=32, ksize=5, stride=1\n",
    "            )\n",
    "            self.bn1 = L.BatchNormalization(32)\n",
    "            self.conv2 = L.Convolution2D(\n",
    "                in_channels=32, out_channels=64, ksize=3, stride=1\n",
    "            )\n",
    "            self.bn2 = L.BatchNormalization(64)\n",
    "            self.conv3 = L.Convolution2D(\n",
    "                in_channels=64, out_channels=64, ksize=3, stride=1\n",
    "            )\n",
    "            self.bn3 = L.BatchNormalization(64)\n",
    "            self.fc4 = L.Linear(None, 512)\n",
    "            self.fc5 = L.Linear(512, 10)\n",
    "\n",
    "    def __call__(self, x):\n",
    "        h = F.relu(self.conv1(x))\n",
    "        h = self.bn1(h)\n",
    "        h = F.max_pooling_2d(h, 2)\n",
    "        h = F.relu(self.conv2(h))\n",
    "        h = self.bn2(h)\n",
    "        h = F.relu(self.conv3(h))\n",
    "        h = self.bn3(h)\n",
    "        h = F.max_pooling_2d(h, 2)\n",
    "        h = F.relu(self.fc4(h))\n",
    "        if chainer.config.train:\n",
    "            return self.fc5(h)\n",
    "        return F.softmax(self.fc5(h))"
   ]
  },
  {
   "cell_type": "markdown",
   "metadata": {},
   "source": [
    "## モデルをリストア"
   ]
  },
  {
   "cell_type": "code",
   "execution_count": null,
   "metadata": {},
   "outputs": [],
   "source": [
    "model = L.Classifier(MyModel())\n",
    "serializers.load_npz('my.model', model)"
   ]
  },
  {
   "cell_type": "markdown",
   "metadata": {},
   "source": [
    "# Visualize"
   ]
  },
  {
   "cell_type": "code",
   "execution_count": null,
   "metadata": {
    "collapsed": true
   },
   "outputs": [],
   "source": [
    "import matplotlib.pyplot as plt\n",
    "% matplotlib inline"
   ]
  },
  {
   "cell_type": "markdown",
   "metadata": {},
   "source": [
    "## フィルタの可視化"
   ]
  },
  {
   "cell_type": "code",
   "execution_count": null,
   "metadata": {},
   "outputs": [],
   "source": [
    "# single\n",
    "plt.imshow(model.predictor.conv1.W[3, 0].data, cmap=plt.cm.gray, interpolation='nearest')"
   ]
  },
  {
   "cell_type": "code",
   "execution_count": null,
   "metadata": {
    "collapsed": true
   },
   "outputs": [],
   "source": [
    "def visualize_conv_layer_weights(weights):\n",
    "    out_n, in_n, h, w = weights.shape\n",
    "\n",
    "    fig = plt.figure(figsize=(16, 9))\n",
    "    fig.subplots_adjust(left=0, right=1, bottom=0, top=1, hspace=0.05, wspace=0.05)\n",
    "    for i in range(out_n):\n",
    "        for j in range(in_n):\n",
    "            weight = weights[i, j].data\n",
    "            # ax = fig.add_subplot(out_n, in_n, in_n * i + j + 1, xticks=[], yticks=[])\n",
    "            ax = fig.add_subplot(in_n, out_n, out_n * j + i + 1, xticks=[], yticks=[])\n",
    "            ax.imshow(weight, cmap=plt.cm.gray, interpolation='nearest')"
   ]
  },
  {
   "cell_type": "code",
   "execution_count": null,
   "metadata": {},
   "outputs": [],
   "source": [
    "visualize_conv_layer_weights(model.predictor.conv1.W)"
   ]
  },
  {
   "cell_type": "code",
   "execution_count": null,
   "metadata": {
    "collapsed": true
   },
   "outputs": [],
   "source": []
  }
 ],
 "metadata": {
  "kernelspec": {
   "display_name": "Python 3",
   "language": "python",
   "name": "python3"
  },
  "language_info": {
   "codemirror_mode": {
    "name": "ipython",
    "version": 3
   },
   "file_extension": ".py",
   "mimetype": "text/x-python",
   "name": "python",
   "nbconvert_exporter": "python",
   "pygments_lexer": "ipython3",
   "version": "3.5.2"
  }
 },
 "nbformat": 4,
 "nbformat_minor": 2
}
